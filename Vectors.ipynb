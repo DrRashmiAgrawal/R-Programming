{
 "cells": [
  {
   "cell_type": "markdown",
   "metadata": {},
   "source": [
    "# A vector is a one‐dimensional set of values, all the same type. It’s the smallest unit you can work with in R. A single value is technically a vector as well — a vector with only one element.\n"
   ]
  },
  {
   "cell_type": "markdown",
   "metadata": {},
   "source": [
    "## Looking at the structure of a vector"
   ]
  },
  {
   "cell_type": "code",
   "execution_count": 1,
   "metadata": {},
   "outputs": [],
   "source": [
    "v1<-c(1,3,7,9,11)"
   ]
  },
  {
   "cell_type": "code",
   "execution_count": 2,
   "metadata": {},
   "outputs": [
    {
     "name": "stdout",
     "output_type": "stream",
     "text": [
      " num [1:5] 1 3 7 9 11\n"
     ]
    }
   ],
   "source": [
    "str(v1)"
   ]
  },
  {
   "cell_type": "code",
   "execution_count": 18,
   "metadata": {},
   "outputs": [
    {
     "data": {
      "text/html": [
       "5"
      ],
      "text/latex": [
       "5"
      ],
      "text/markdown": [
       "5"
      ],
      "text/plain": [
       "[1] 5"
      ]
     },
     "metadata": {},
     "output_type": "display_data"
    }
   ],
   "source": [
    "length(v1)"
   ]
  },
  {
   "cell_type": "code",
   "execution_count": 19,
   "metadata": {},
   "outputs": [],
   "source": [
    "authors<-c(\"a1\",\"a2\",\"a3\")"
   ]
  },
  {
   "cell_type": "code",
   "execution_count": 20,
   "metadata": {},
   "outputs": [
    {
     "name": "stdout",
     "output_type": "stream",
     "text": [
      " chr [1:3] \"a1\" \"a2\" \"a3\"\n"
     ]
    }
   ],
   "source": [
    "str(authors)"
   ]
  },
  {
   "cell_type": "code",
   "execution_count": 3,
   "metadata": {},
   "outputs": [
    {
     "data": {
      "text/html": [
       "TRUE"
      ],
      "text/latex": [
       "TRUE"
      ],
      "text/markdown": [
       "TRUE"
      ],
      "text/plain": [
       "[1] TRUE"
      ]
     },
     "metadata": {},
     "output_type": "display_data"
    }
   ],
   "source": [
    "is.numeric(v1)"
   ]
  },
  {
   "cell_type": "code",
   "execution_count": 22,
   "metadata": {},
   "outputs": [
    {
     "data": {
      "text/html": [
       "FALSE"
      ],
      "text/latex": [
       "FALSE"
      ],
      "text/markdown": [
       "FALSE"
      ],
      "text/plain": [
       "[1] FALSE"
      ]
     },
     "metadata": {},
     "output_type": "display_data"
    }
   ],
   "source": [
    "is.numeric(authors)"
   ]
  },
  {
   "cell_type": "code",
   "execution_count": 23,
   "metadata": {},
   "outputs": [
    {
     "data": {
      "text/html": [
       "TRUE"
      ],
      "text/latex": [
       "TRUE"
      ],
      "text/markdown": [
       "TRUE"
      ],
      "text/plain": [
       "[1] TRUE"
      ]
     },
     "metadata": {},
     "output_type": "display_data"
    }
   ],
   "source": [
    "is.character(authors)"
   ]
  },
  {
   "cell_type": "code",
   "execution_count": 5,
   "metadata": {},
   "outputs": [],
   "source": [
    "x <- c(1,2,3,4,5) #double"
   ]
  },
  {
   "cell_type": "code",
   "execution_count": 6,
   "metadata": {},
   "outputs": [
    {
     "name": "stdout",
     "output_type": "stream",
     "text": [
      "[1] 1 2 3 4 5\n"
     ]
    }
   ],
   "source": [
    "print(x)"
   ]
  },
  {
   "cell_type": "code",
   "execution_count": 8,
   "metadata": {},
   "outputs": [],
   "source": [
    "l <- c(TRUE, FALSE) #logical"
   ]
  },
  {
   "cell_type": "code",
   "execution_count": 7,
   "metadata": {},
   "outputs": [
    {
     "name": "stdout",
     "output_type": "stream",
     "text": [
      "[1] 1 2\n"
     ]
    }
   ],
   "source": [
    "a<-c(1,2)\n",
    "print(a)"
   ]
  },
  {
   "cell_type": "code",
   "execution_count": 9,
   "metadata": {},
   "outputs": [
    {
     "name": "stdout",
     "output_type": "stream",
     "text": [
      "[1]  TRUE FALSE\n"
     ]
    }
   ],
   "source": [
    "print(l)"
   ]
  },
  {
   "cell_type": "code",
   "execution_count": 26,
   "metadata": {},
   "outputs": [],
   "source": [
    "l <- c(T, F) ## logical"
   ]
  },
  {
   "cell_type": "code",
   "execution_count": 33,
   "metadata": {},
   "outputs": [
    {
     "name": "stdout",
     "output_type": "stream",
     "text": [
      "[1]  TRUE FALSE\n"
     ]
    }
   ],
   "source": [
    "print(l)"
   ]
  },
  {
   "cell_type": "code",
   "execution_count": 27,
   "metadata": {},
   "outputs": [],
   "source": [
    "c <- c(\"a\", \"b\", \"c\", \"d\") ## character"
   ]
  },
  {
   "cell_type": "code",
   "execution_count": 34,
   "metadata": {},
   "outputs": [
    {
     "name": "stdout",
     "output_type": "stream",
     "text": [
      "[1] \"a\" \"b\" \"c\" \"d\"\n"
     ]
    }
   ],
   "source": [
    "print(c)"
   ]
  },
  {
   "cell_type": "code",
   "execution_count": 10,
   "metadata": {},
   "outputs": [],
   "source": [
    "i <- 1:20 ## integer"
   ]
  },
  {
   "cell_type": "code",
   "execution_count": 35,
   "metadata": {},
   "outputs": [
    {
     "name": "stdout",
     "output_type": "stream",
     "text": [
      " [1]  1  2  3  4  5  6  7  8  9 10 11 12 13 14 15 16 17 18 19 20\n"
     ]
    }
   ],
   "source": [
    "print(i)"
   ]
  },
  {
   "cell_type": "code",
   "execution_count": 30,
   "metadata": {},
   "outputs": [
    {
     "name": "stdout",
     "output_type": "stream",
     "text": [
      " [1] \"1 TRUE a 1\"   \"2 FALSE b 2\"  \"3 TRUE c 3\"   \"4 FALSE d 4\"  \"5 TRUE a 5\"  \n",
      " [6] \"1 FALSE b 6\"  \"2 TRUE c 7\"   \"3 FALSE d 8\"  \"4 TRUE a 9\"   \"5 FALSE b 10\"\n",
      "[11] \"1 TRUE c 11\"  \"2 FALSE d 12\" \"3 TRUE a 13\"  \"4 FALSE b 14\" \"5 TRUE c 15\" \n",
      "[16] \"1 FALSE d 16\" \"2 TRUE a 17\"  \"3 FALSE b 18\" \"4 TRUE c 19\"  \"5 FALSE d 20\"\n"
     ]
    }
   ],
   "source": []
  },
  {
   "cell_type": "markdown",
   "metadata": {},
   "source": [
    "# You can see the type of each vector using typeof() function"
   ]
  },
  {
   "cell_type": "code",
   "execution_count": 36,
   "metadata": {},
   "outputs": [
    {
     "data": {
      "text/html": [
       "'character'"
      ],
      "text/latex": [
       "'character'"
      ],
      "text/markdown": [
       "'character'"
      ],
      "text/plain": [
       "[1] \"character\""
      ]
     },
     "metadata": {},
     "output_type": "display_data"
    }
   ],
   "source": [
    "typeof(c)"
   ]
  },
  {
   "cell_type": "markdown",
   "metadata": {},
   "source": [
    "# Creating a vector using : operator:"
   ]
  },
  {
   "cell_type": "code",
   "execution_count": 11,
   "metadata": {},
   "outputs": [
    {
     "data": {
      "text/html": [
       "<ol class=list-inline>\n",
       "\t<li>1</li>\n",
       "\t<li>2</li>\n",
       "\t<li>3</li>\n",
       "\t<li>4</li>\n",
       "\t<li>5</li>\n",
       "\t<li>6</li>\n",
       "\t<li>7</li>\n",
       "\t<li>8</li>\n",
       "\t<li>9</li>\n",
       "\t<li>10</li>\n",
       "</ol>\n"
      ],
      "text/latex": [
       "\\begin{enumerate*}\n",
       "\\item 1\n",
       "\\item 2\n",
       "\\item 3\n",
       "\\item 4\n",
       "\\item 5\n",
       "\\item 6\n",
       "\\item 7\n",
       "\\item 8\n",
       "\\item 9\n",
       "\\item 10\n",
       "\\end{enumerate*}\n"
      ],
      "text/markdown": [
       "1. 1\n",
       "2. 2\n",
       "3. 3\n",
       "4. 4\n",
       "5. 5\n",
       "6. 6\n",
       "7. 7\n",
       "8. 8\n",
       "9. 9\n",
       "10. 10\n",
       "\n",
       "\n"
      ],
      "text/plain": [
       " [1]  1  2  3  4  5  6  7  8  9 10"
      ]
     },
     "metadata": {},
     "output_type": "display_data"
    },
    {
     "data": {
      "text/html": [
       "'integer'"
      ],
      "text/latex": [
       "'integer'"
      ],
      "text/markdown": [
       "'integer'"
      ],
      "text/plain": [
       "[1] \"integer\""
      ]
     },
     "metadata": {},
     "output_type": "display_data"
    }
   ],
   "source": [
    "x<- 1:10\n",
    "x\n",
    "typeof(x)"
   ]
  },
  {
   "cell_type": "markdown",
   "metadata": {},
   "source": [
    "# Creating a vector using seq() function:"
   ]
  },
  {
   "cell_type": "code",
   "execution_count": 2,
   "metadata": {},
   "outputs": [
    {
     "data": {
      "text/html": [
       "<ol class=list-inline>\n",
       "\t<li>1</li>\n",
       "\t<li>2</li>\n",
       "\t<li>3</li>\n",
       "\t<li>4</li>\n",
       "\t<li>5</li>\n",
       "\t<li>6</li>\n",
       "\t<li>7</li>\n",
       "\t<li>8</li>\n",
       "\t<li>9</li>\n",
       "\t<li>10</li>\n",
       "\t<li>11</li>\n",
       "\t<li>12</li>\n",
       "\t<li>13</li>\n",
       "\t<li>14</li>\n",
       "\t<li>15</li>\n",
       "\t<li>16</li>\n",
       "\t<li>17</li>\n",
       "\t<li>18</li>\n",
       "\t<li>19</li>\n",
       "\t<li>20</li>\n",
       "\t<li>21</li>\n",
       "\t<li>22</li>\n",
       "\t<li>23</li>\n",
       "\t<li>24</li>\n",
       "\t<li>25</li>\n",
       "</ol>\n"
      ],
      "text/latex": [
       "\\begin{enumerate*}\n",
       "\\item 1\n",
       "\\item 2\n",
       "\\item 3\n",
       "\\item 4\n",
       "\\item 5\n",
       "\\item 6\n",
       "\\item 7\n",
       "\\item 8\n",
       "\\item 9\n",
       "\\item 10\n",
       "\\item 11\n",
       "\\item 12\n",
       "\\item 13\n",
       "\\item 14\n",
       "\\item 15\n",
       "\\item 16\n",
       "\\item 17\n",
       "\\item 18\n",
       "\\item 19\n",
       "\\item 20\n",
       "\\item 21\n",
       "\\item 22\n",
       "\\item 23\n",
       "\\item 24\n",
       "\\item 25\n",
       "\\end{enumerate*}\n"
      ],
      "text/markdown": [
       "1. 1\n",
       "2. 2\n",
       "3. 3\n",
       "4. 4\n",
       "5. 5\n",
       "6. 6\n",
       "7. 7\n",
       "8. 8\n",
       "9. 9\n",
       "10. 10\n",
       "11. 11\n",
       "12. 12\n",
       "13. 13\n",
       "14. 14\n",
       "15. 15\n",
       "16. 16\n",
       "17. 17\n",
       "18. 18\n",
       "19. 19\n",
       "20. 20\n",
       "21. 21\n",
       "22. 22\n",
       "23. 23\n",
       "24. 24\n",
       "25. 25\n",
       "\n",
       "\n"
      ],
      "text/plain": [
       " [1]  1  2  3  4  5  6  7  8  9 10 11 12 13 14 15 16 17 18 19 20 21 22 23 24 25"
      ]
     },
     "metadata": {},
     "output_type": "display_data"
    }
   ],
   "source": [
    "seq(1:25) #By deafaut it will be incremented by 1"
   ]
  },
  {
   "cell_type": "code",
   "execution_count": 4,
   "metadata": {},
   "outputs": [
    {
     "data": {
      "text/html": [
       "<ol class=list-inline>\n",
       "\t<li>1</li>\n",
       "\t<li>3.66666666666667</li>\n",
       "\t<li>6.33333333333333</li>\n",
       "\t<li>9</li>\n",
       "\t<li>11.6666666666667</li>\n",
       "\t<li>14.3333333333333</li>\n",
       "\t<li>17</li>\n",
       "\t<li>19.6666666666667</li>\n",
       "\t<li>22.3333333333333</li>\n",
       "\t<li>25</li>\n",
       "</ol>\n"
      ],
      "text/latex": [
       "\\begin{enumerate*}\n",
       "\\item 1\n",
       "\\item 3.66666666666667\n",
       "\\item 6.33333333333333\n",
       "\\item 9\n",
       "\\item 11.6666666666667\n",
       "\\item 14.3333333333333\n",
       "\\item 17\n",
       "\\item 19.6666666666667\n",
       "\\item 22.3333333333333\n",
       "\\item 25\n",
       "\\end{enumerate*}\n"
      ],
      "text/markdown": [
       "1. 1\n",
       "2. 3.66666666666667\n",
       "3. 6.33333333333333\n",
       "4. 9\n",
       "5. 11.6666666666667\n",
       "6. 14.3333333333333\n",
       "7. 17\n",
       "8. 19.6666666666667\n",
       "9. 22.3333333333333\n",
       "10. 25\n",
       "\n",
       "\n"
      ],
      "text/plain": [
       " [1]  1.000000  3.666667  6.333333  9.000000 11.666667 14.333333 17.000000\n",
       " [8] 19.666667 22.333333 25.000000"
      ]
     },
     "metadata": {},
     "output_type": "display_data"
    }
   ],
   "source": [
    "seq(1, 25, length.out=10) # specify length of the vector"
   ]
  },
  {
   "cell_type": "code",
   "execution_count": 7,
   "metadata": {},
   "outputs": [
    {
     "data": {
      "text/html": [
       "<ol class=list-inline>\n",
       "\t<li>3</li>\n",
       "\t<li>6</li>\n",
       "\t<li>9</li>\n",
       "\t<li>12</li>\n",
       "\t<li>15</li>\n",
       "\t<li>18</li>\n",
       "</ol>\n"
      ],
      "text/latex": [
       "\\begin{enumerate*}\n",
       "\\item 3\n",
       "\\item 6\n",
       "\\item 9\n",
       "\\item 12\n",
       "\\item 15\n",
       "\\item 18\n",
       "\\end{enumerate*}\n"
      ],
      "text/markdown": [
       "1. 3\n",
       "2. 6\n",
       "3. 9\n",
       "4. 12\n",
       "5. 15\n",
       "6. 18\n",
       "\n",
       "\n"
      ],
      "text/plain": [
       "[1]  3  6  9 12 15 18"
      ]
     },
     "metadata": {},
     "output_type": "display_data"
    }
   ],
   "source": [
    "seq(3, 20, by=3) # specify step size"
   ]
  },
  {
   "cell_type": "markdown",
   "metadata": {},
   "source": [
    "# Combining vectors"
   ]
  },
  {
   "cell_type": "code",
   "execution_count": 8,
   "metadata": {},
   "outputs": [],
   "source": [
    "baskets.of.Granny <- c(12, 4, 4, 6, 9, 3)"
   ]
  },
  {
   "cell_type": "code",
   "execution_count": 11,
   "metadata": {},
   "outputs": [],
   "source": [
    "baskets.of.Geraldine <- c(5, 3, 2, 2, 12, 9)"
   ]
  },
  {
   "cell_type": "code",
   "execution_count": 14,
   "metadata": {},
   "outputs": [],
   "source": [
    "s <-c(baskets.of.Granny, baskets.of.Geraldine)"
   ]
  },
  {
   "cell_type": "code",
   "execution_count": 15,
   "metadata": {},
   "outputs": [
    {
     "data": {
      "text/html": [
       "<ol class=list-inline>\n",
       "\t<li>12</li>\n",
       "\t<li>4</li>\n",
       "\t<li>4</li>\n",
       "\t<li>6</li>\n",
       "\t<li>9</li>\n",
       "\t<li>3</li>\n",
       "\t<li>5</li>\n",
       "\t<li>3</li>\n",
       "\t<li>2</li>\n",
       "\t<li>2</li>\n",
       "\t<li>12</li>\n",
       "\t<li>9</li>\n",
       "</ol>\n"
      ],
      "text/latex": [
       "\\begin{enumerate*}\n",
       "\\item 12\n",
       "\\item 4\n",
       "\\item 4\n",
       "\\item 6\n",
       "\\item 9\n",
       "\\item 3\n",
       "\\item 5\n",
       "\\item 3\n",
       "\\item 2\n",
       "\\item 2\n",
       "\\item 12\n",
       "\\item 9\n",
       "\\end{enumerate*}\n"
      ],
      "text/markdown": [
       "1. 12\n",
       "2. 4\n",
       "3. 4\n",
       "4. 6\n",
       "5. 9\n",
       "6. 3\n",
       "7. 5\n",
       "8. 3\n",
       "9. 2\n",
       "10. 2\n",
       "11. 12\n",
       "12. 9\n",
       "\n",
       "\n"
      ],
      "text/plain": [
       " [1] 12  4  4  6  9  3  5  3  2  2 12  9"
      ]
     },
     "metadata": {},
     "output_type": "display_data"
    }
   ],
   "source": [
    "s"
   ]
  },
  {
   "cell_type": "markdown",
   "metadata": {},
   "source": [
    "# Repeating vectors"
   ]
  },
  {
   "cell_type": "code",
   "execution_count": 46,
   "metadata": {},
   "outputs": [
    {
     "data": {
      "text/html": [
       "<ol class=list-inline>\n",
       "\t<li>0</li>\n",
       "\t<li>0</li>\n",
       "\t<li>7</li>\n",
       "\t<li>0</li>\n",
       "\t<li>0</li>\n",
       "\t<li>7</li>\n",
       "\t<li>0</li>\n",
       "\t<li>0</li>\n",
       "\t<li>7</li>\n",
       "</ol>\n"
      ],
      "text/latex": [
       "\\begin{enumerate*}\n",
       "\\item 0\n",
       "\\item 0\n",
       "\\item 7\n",
       "\\item 0\n",
       "\\item 0\n",
       "\\item 7\n",
       "\\item 0\n",
       "\\item 0\n",
       "\\item 7\n",
       "\\end{enumerate*}\n"
      ],
      "text/markdown": [
       "1. 0\n",
       "2. 0\n",
       "3. 7\n",
       "4. 0\n",
       "5. 0\n",
       "6. 7\n",
       "7. 0\n",
       "8. 0\n",
       "9. 7\n",
       "\n",
       "\n"
      ],
      "text/plain": [
       "[1] 0 0 7 0 0 7 0 0 7"
      ]
     },
     "metadata": {},
     "output_type": "display_data"
    }
   ],
   "source": [
    "rep(c(0, 0, 7), times = 3)"
   ]
  },
  {
   "cell_type": "code",
   "execution_count": 47,
   "metadata": {},
   "outputs": [
    {
     "data": {
      "text/html": [
       "<ol class=list-inline>\n",
       "\t<li>2</li>\n",
       "\t<li>2</li>\n",
       "\t<li>2</li>\n",
       "\t<li>4</li>\n",
       "\t<li>4</li>\n",
       "\t<li>4</li>\n",
       "\t<li>2</li>\n",
       "\t<li>2</li>\n",
       "\t<li>2</li>\n",
       "</ol>\n"
      ],
      "text/latex": [
       "\\begin{enumerate*}\n",
       "\\item 2\n",
       "\\item 2\n",
       "\\item 2\n",
       "\\item 4\n",
       "\\item 4\n",
       "\\item 4\n",
       "\\item 2\n",
       "\\item 2\n",
       "\\item 2\n",
       "\\end{enumerate*}\n"
      ],
      "text/markdown": [
       "1. 2\n",
       "2. 2\n",
       "3. 2\n",
       "4. 4\n",
       "5. 4\n",
       "6. 4\n",
       "7. 2\n",
       "8. 2\n",
       "9. 2\n",
       "\n",
       "\n"
      ],
      "text/plain": [
       "[1] 2 2 2 4 4 4 2 2 2"
      ]
     },
     "metadata": {},
     "output_type": "display_data"
    }
   ],
   "source": [
    "rep(c(2, 4, 2), each = 3)"
   ]
  },
  {
   "cell_type": "code",
   "execution_count": 48,
   "metadata": {},
   "outputs": [
    {
     "data": {
      "text/html": [
       "<ol class=list-inline>\n",
       "\t<li>0</li>\n",
       "\t<li>0</li>\n",
       "\t<li>0</li>\n",
       "\t<li>0</li>\n",
       "\t<li>7</li>\n",
       "\t<li>7</li>\n",
       "</ol>\n"
      ],
      "text/latex": [
       "\\begin{enumerate*}\n",
       "\\item 0\n",
       "\\item 0\n",
       "\\item 0\n",
       "\\item 0\n",
       "\\item 7\n",
       "\\item 7\n",
       "\\end{enumerate*}\n"
      ],
      "text/markdown": [
       "1. 0\n",
       "2. 0\n",
       "3. 0\n",
       "4. 0\n",
       "5. 7\n",
       "6. 7\n",
       "\n",
       "\n"
      ],
      "text/plain": [
       "[1] 0 0 0 0 7 7"
      ]
     },
     "metadata": {},
     "output_type": "display_data"
    }
   ],
   "source": [
    "rep(c(0, 7), times = c(4, 2))"
   ]
  },
  {
   "cell_type": "code",
   "execution_count": 17,
   "metadata": {},
   "outputs": [
    {
     "data": {
      "text/html": [
       "<ol class=list-inline>\n",
       "\t<li>1</li>\n",
       "\t<li>2</li>\n",
       "\t<li>3</li>\n",
       "\t<li>1</li>\n",
       "\t<li>2</li>\n",
       "\t<li>3</li>\n",
       "\t<li>1</li>\n",
       "\t<li>2</li>\n",
       "\t<li>3</li>\n",
       "\t<li>1</li>\n",
       "\t<li>2</li>\n",
       "\t<li>3</li>\n",
       "\t<li>1</li>\n",
       "\t<li>2</li>\n",
       "\t<li>3</li>\n",
       "\t<li>1</li>\n",
       "\t<li>2</li>\n",
       "\t<li>3</li>\n",
       "\t<li>1</li>\n",
       "\t<li>2</li>\n",
       "\t<li>3</li>\n",
       "\t<li>1</li>\n",
       "\t<li>2</li>\n",
       "\t<li>3</li>\n",
       "\t<li>1</li>\n",
       "\t<li>2</li>\n",
       "\t<li>3</li>\n",
       "\t<li>1</li>\n",
       "\t<li>2</li>\n",
       "\t<li>3</li>\n",
       "\t<li>1</li>\n",
       "\t<li>2</li>\n",
       "\t<li>3</li>\n",
       "\t<li>1</li>\n",
       "\t<li>2</li>\n",
       "\t<li>3</li>\n",
       "\t<li>1</li>\n",
       "\t<li>2</li>\n",
       "\t<li>3</li>\n",
       "\t<li>1</li>\n",
       "\t<li>2</li>\n",
       "\t<li>3</li>\n",
       "\t<li>1</li>\n",
       "\t<li>2</li>\n",
       "\t<li>3</li>\n",
       "\t<li>1</li>\n",
       "\t<li>2</li>\n",
       "\t<li>3</li>\n",
       "\t<li>1</li>\n",
       "\t<li>2</li>\n",
       "\t<li>3</li>\n",
       "\t<li>1</li>\n",
       "\t<li>2</li>\n",
       "\t<li>3</li>\n",
       "\t<li>1</li>\n",
       "\t<li>2</li>\n",
       "\t<li>3</li>\n",
       "\t<li>1</li>\n",
       "\t<li>2</li>\n",
       "\t<li>3</li>\n",
       "\t<li>1</li>\n",
       "\t<li>2</li>\n",
       "\t<li>3</li>\n",
       "\t<li>1</li>\n",
       "\t<li>2</li>\n",
       "\t<li>3</li>\n",
       "\t<li>1</li>\n",
       "\t<li>2</li>\n",
       "\t<li>3</li>\n",
       "\t<li>1</li>\n",
       "</ol>\n"
      ],
      "text/latex": [
       "\\begin{enumerate*}\n",
       "\\item 1\n",
       "\\item 2\n",
       "\\item 3\n",
       "\\item 1\n",
       "\\item 2\n",
       "\\item 3\n",
       "\\item 1\n",
       "\\item 2\n",
       "\\item 3\n",
       "\\item 1\n",
       "\\item 2\n",
       "\\item 3\n",
       "\\item 1\n",
       "\\item 2\n",
       "\\item 3\n",
       "\\item 1\n",
       "\\item 2\n",
       "\\item 3\n",
       "\\item 1\n",
       "\\item 2\n",
       "\\item 3\n",
       "\\item 1\n",
       "\\item 2\n",
       "\\item 3\n",
       "\\item 1\n",
       "\\item 2\n",
       "\\item 3\n",
       "\\item 1\n",
       "\\item 2\n",
       "\\item 3\n",
       "\\item 1\n",
       "\\item 2\n",
       "\\item 3\n",
       "\\item 1\n",
       "\\item 2\n",
       "\\item 3\n",
       "\\item 1\n",
       "\\item 2\n",
       "\\item 3\n",
       "\\item 1\n",
       "\\item 2\n",
       "\\item 3\n",
       "\\item 1\n",
       "\\item 2\n",
       "\\item 3\n",
       "\\item 1\n",
       "\\item 2\n",
       "\\item 3\n",
       "\\item 1\n",
       "\\item 2\n",
       "\\item 3\n",
       "\\item 1\n",
       "\\item 2\n",
       "\\item 3\n",
       "\\item 1\n",
       "\\item 2\n",
       "\\item 3\n",
       "\\item 1\n",
       "\\item 2\n",
       "\\item 3\n",
       "\\item 1\n",
       "\\item 2\n",
       "\\item 3\n",
       "\\item 1\n",
       "\\item 2\n",
       "\\item 3\n",
       "\\item 1\n",
       "\\item 2\n",
       "\\item 3\n",
       "\\item 1\n",
       "\\end{enumerate*}\n"
      ],
      "text/markdown": [
       "1. 1\n",
       "2. 2\n",
       "3. 3\n",
       "4. 1\n",
       "5. 2\n",
       "6. 3\n",
       "7. 1\n",
       "8. 2\n",
       "9. 3\n",
       "10. 1\n",
       "11. 2\n",
       "12. 3\n",
       "13. 1\n",
       "14. 2\n",
       "15. 3\n",
       "16. 1\n",
       "17. 2\n",
       "18. 3\n",
       "19. 1\n",
       "20. 2\n",
       "21. 3\n",
       "22. 1\n",
       "23. 2\n",
       "24. 3\n",
       "25. 1\n",
       "26. 2\n",
       "27. 3\n",
       "28. 1\n",
       "29. 2\n",
       "30. 3\n",
       "31. 1\n",
       "32. 2\n",
       "33. 3\n",
       "34. 1\n",
       "35. 2\n",
       "36. 3\n",
       "37. 1\n",
       "38. 2\n",
       "39. 3\n",
       "40. 1\n",
       "41. 2\n",
       "42. 3\n",
       "43. 1\n",
       "44. 2\n",
       "45. 3\n",
       "46. 1\n",
       "47. 2\n",
       "48. 3\n",
       "49. 1\n",
       "50. 2\n",
       "51. 3\n",
       "52. 1\n",
       "53. 2\n",
       "54. 3\n",
       "55. 1\n",
       "56. 2\n",
       "57. 3\n",
       "58. 1\n",
       "59. 2\n",
       "60. 3\n",
       "61. 1\n",
       "62. 2\n",
       "63. 3\n",
       "64. 1\n",
       "65. 2\n",
       "66. 3\n",
       "67. 1\n",
       "68. 2\n",
       "69. 3\n",
       "70. 1\n",
       "\n",
       "\n"
      ],
      "text/plain": [
       " [1] 1 2 3 1 2 3 1 2 3 1 2 3 1 2 3 1 2 3 1 2 3 1 2 3 1 2 3 1 2 3 1 2 3 1 2 3 1 2\n",
       "[39] 3 1 2 3 1 2 3 1 2 3 1 2 3 1 2 3 1 2 3 1 2 3 1 2 3 1 2 3 1 2 3 1"
      ]
     },
     "metadata": {},
     "output_type": "display_data"
    }
   ],
   "source": [
    "rep(1:3, length.out = 70)"
   ]
  },
  {
   "cell_type": "code",
   "execution_count": 20,
   "metadata": {},
   "outputs": [],
   "source": [
    "v<-25:1"
   ]
  },
  {
   "cell_type": "code",
   "execution_count": 21,
   "metadata": {},
   "outputs": [
    {
     "data": {
      "text/html": [
       "<ol class=list-inline>\n",
       "\t<li>25</li>\n",
       "\t<li>24</li>\n",
       "\t<li>23</li>\n",
       "\t<li>22</li>\n",
       "\t<li>21</li>\n",
       "\t<li>20</li>\n",
       "\t<li>19</li>\n",
       "\t<li>18</li>\n",
       "\t<li>17</li>\n",
       "\t<li>16</li>\n",
       "\t<li>15</li>\n",
       "\t<li>14</li>\n",
       "\t<li>13</li>\n",
       "\t<li>12</li>\n",
       "\t<li>11</li>\n",
       "\t<li>10</li>\n",
       "\t<li>9</li>\n",
       "\t<li>8</li>\n",
       "\t<li>7</li>\n",
       "\t<li>6</li>\n",
       "\t<li>5</li>\n",
       "\t<li>4</li>\n",
       "\t<li>3</li>\n",
       "\t<li>2</li>\n",
       "\t<li>1</li>\n",
       "</ol>\n"
      ],
      "text/latex": [
       "\\begin{enumerate*}\n",
       "\\item 25\n",
       "\\item 24\n",
       "\\item 23\n",
       "\\item 22\n",
       "\\item 21\n",
       "\\item 20\n",
       "\\item 19\n",
       "\\item 18\n",
       "\\item 17\n",
       "\\item 16\n",
       "\\item 15\n",
       "\\item 14\n",
       "\\item 13\n",
       "\\item 12\n",
       "\\item 11\n",
       "\\item 10\n",
       "\\item 9\n",
       "\\item 8\n",
       "\\item 7\n",
       "\\item 6\n",
       "\\item 5\n",
       "\\item 4\n",
       "\\item 3\n",
       "\\item 2\n",
       "\\item 1\n",
       "\\end{enumerate*}\n"
      ],
      "text/markdown": [
       "1. 25\n",
       "2. 24\n",
       "3. 23\n",
       "4. 22\n",
       "5. 21\n",
       "6. 20\n",
       "7. 19\n",
       "8. 18\n",
       "9. 17\n",
       "10. 16\n",
       "11. 15\n",
       "12. 14\n",
       "13. 13\n",
       "14. 12\n",
       "15. 11\n",
       "16. 10\n",
       "17. 9\n",
       "18. 8\n",
       "19. 7\n",
       "20. 6\n",
       "21. 5\n",
       "22. 4\n",
       "23. 3\n",
       "24. 2\n",
       "25. 1\n",
       "\n",
       "\n"
      ],
      "text/plain": [
       " [1] 25 24 23 22 21 20 19 18 17 16 15 14 13 12 11 10  9  8  7  6  5  4  3  2  1"
      ]
     },
     "metadata": {},
     "output_type": "display_data"
    }
   ],
   "source": [
    "v"
   ]
  },
  {
   "cell_type": "markdown",
   "metadata": {},
   "source": [
    "# Extract Elements from a Vector:"
   ]
  },
  {
   "cell_type": "markdown",
   "metadata": {},
   "source": [
    "## Elements of a vector can be accessed using indexing. The vector indexing can be logical, integer or character. The [ ] brackets are used for indexing. Indexing starts with position 1 unlike most programming languages where index start from 0."
   ]
  },
  {
   "cell_type": "markdown",
   "metadata": {},
   "source": [
    "# Extract Using Integer as Index:"
   ]
  },
  {
   "cell_type": "code",
   "execution_count": 22,
   "metadata": {},
   "outputs": [],
   "source": [
    "x<- 101:110"
   ]
  },
  {
   "cell_type": "code",
   "execution_count": 23,
   "metadata": {},
   "outputs": [
    {
     "data": {
      "text/html": [
       "<ol class=list-inline>\n",
       "\t<li>101</li>\n",
       "\t<li>102</li>\n",
       "\t<li>103</li>\n",
       "\t<li>104</li>\n",
       "\t<li>105</li>\n",
       "\t<li>106</li>\n",
       "\t<li>107</li>\n",
       "\t<li>108</li>\n",
       "\t<li>109</li>\n",
       "\t<li>110</li>\n",
       "</ol>\n"
      ],
      "text/latex": [
       "\\begin{enumerate*}\n",
       "\\item 101\n",
       "\\item 102\n",
       "\\item 103\n",
       "\\item 104\n",
       "\\item 105\n",
       "\\item 106\n",
       "\\item 107\n",
       "\\item 108\n",
       "\\item 109\n",
       "\\item 110\n",
       "\\end{enumerate*}\n"
      ],
      "text/markdown": [
       "1. 101\n",
       "2. 102\n",
       "3. 103\n",
       "4. 104\n",
       "5. 105\n",
       "6. 106\n",
       "7. 107\n",
       "8. 108\n",
       "9. 109\n",
       "10. 110\n",
       "\n",
       "\n"
      ],
      "text/plain": [
       " [1] 101 102 103 104 105 106 107 108 109 110"
      ]
     },
     "metadata": {},
     "output_type": "display_data"
    }
   ],
   "source": [
    "x"
   ]
  },
  {
   "cell_type": "code",
   "execution_count": 25,
   "metadata": {},
   "outputs": [
    {
     "data": {
      "text/html": [
       "103"
      ],
      "text/latex": [
       "103"
      ],
      "text/markdown": [
       "103"
      ],
      "text/plain": [
       "[1] 103"
      ]
     },
     "metadata": {},
     "output_type": "display_data"
    }
   ],
   "source": [
    "x[3]   #access the first element"
   ]
  },
  {
   "cell_type": "code",
   "execution_count": 28,
   "metadata": {},
   "outputs": [
    {
     "data": {
      "text/html": [
       "<ol class=list-inline>\n",
       "\t<li>102</li>\n",
       "\t<li>105</li>\n",
       "</ol>\n"
      ],
      "text/latex": [
       "\\begin{enumerate*}\n",
       "\\item 102\n",
       "\\item 105\n",
       "\\end{enumerate*}\n"
      ],
      "text/markdown": [
       "1. 102\n",
       "2. 105\n",
       "\n",
       "\n"
      ],
      "text/plain": [
       "[1] 102 105"
      ]
     },
     "metadata": {},
     "output_type": "display_data"
    }
   ],
   "source": [
    "x[c(2,5)] #Extract 2nd, 3rd, 4th, and 5th elements"
   ]
  },
  {
   "cell_type": "code",
   "execution_count": 26,
   "metadata": {},
   "outputs": [
    {
     "data": {
      "text/html": [
       "<ol class=list-inline>\n",
       "\t<li>105</li>\n",
       "\t<li>106</li>\n",
       "\t<li>107</li>\n",
       "\t<li>108</li>\n",
       "\t<li>109</li>\n",
       "\t<li>110</li>\n",
       "</ol>\n"
      ],
      "text/latex": [
       "\\begin{enumerate*}\n",
       "\\item 105\n",
       "\\item 106\n",
       "\\item 107\n",
       "\\item 108\n",
       "\\item 109\n",
       "\\item 110\n",
       "\\end{enumerate*}\n"
      ],
      "text/markdown": [
       "1. 105\n",
       "2. 106\n",
       "3. 107\n",
       "4. 108\n",
       "5. 109\n",
       "6. 110\n",
       "\n",
       "\n"
      ],
      "text/plain": [
       "[1] 105 106 107 108 109 110"
      ]
     },
     "metadata": {},
     "output_type": "display_data"
    }
   ],
   "source": [
    "x[5:10]        #Extract all elements from 5th to 10th"
   ]
  },
  {
   "cell_type": "code",
   "execution_count": 57,
   "metadata": {},
   "outputs": [
    {
     "data": {
      "text/html": [
       "<ol class=list-inline>\n",
       "\t<li>101</li>\n",
       "\t<li>102</li>\n",
       "\t<li>103</li>\n",
       "\t<li>104</li>\n",
       "\t<li>106</li>\n",
       "\t<li>107</li>\n",
       "\t<li>108</li>\n",
       "\t<li>109</li>\n",
       "</ol>\n"
      ],
      "text/latex": [
       "\\begin{enumerate*}\n",
       "\\item 101\n",
       "\\item 102\n",
       "\\item 103\n",
       "\\item 104\n",
       "\\item 106\n",
       "\\item 107\n",
       "\\item 108\n",
       "\\item 109\n",
       "\\end{enumerate*}\n"
      ],
      "text/markdown": [
       "1. 101\n",
       "2. 102\n",
       "3. 103\n",
       "4. 104\n",
       "5. 106\n",
       "6. 107\n",
       "7. 108\n",
       "8. 109\n",
       "\n",
       "\n"
      ],
      "text/plain": [
       "[1] 101 102 103 104 106 107 108 109"
      ]
     },
     "metadata": {},
     "output_type": "display_data"
    }
   ],
   "source": [
    "x[c(-5,-10)] #Extract all elements except 5th and 10th"
   ]
  },
  {
   "cell_type": "code",
   "execution_count": 58,
   "metadata": {},
   "outputs": [
    {
     "data": {
      "text/html": [
       "<ol class=list-inline>\n",
       "\t<li>101</li>\n",
       "\t<li>102</li>\n",
       "\t<li>103</li>\n",
       "\t<li>104</li>\n",
       "</ol>\n"
      ],
      "text/latex": [
       "\\begin{enumerate*}\n",
       "\\item 101\n",
       "\\item 102\n",
       "\\item 103\n",
       "\\item 104\n",
       "\\end{enumerate*}\n"
      ],
      "text/markdown": [
       "1. 101\n",
       "2. 102\n",
       "3. 103\n",
       "4. 104\n",
       "\n",
       "\n"
      ],
      "text/plain": [
       "[1] 101 102 103 104"
      ]
     },
     "metadata": {},
     "output_type": "display_data"
    }
   ],
   "source": [
    "x[-c(5:10)] #Extract all elements except from 5th to 10th"
   ]
  },
  {
   "cell_type": "markdown",
   "metadata": {},
   "source": [
    "# Extract Using Logical Vector as Index:"
   ]
  },
  {
   "cell_type": "markdown",
   "metadata": {},
   "source": [
    "## If you use a logical vector for indexing, the position where the logical vector is TRUE will be returned. "
   ]
  },
  {
   "cell_type": "code",
   "execution_count": 29,
   "metadata": {},
   "outputs": [
    {
     "data": {
      "text/html": [
       "<ol class=list-inline>\n",
       "\t<li>101</li>\n",
       "\t<li>102</li>\n",
       "\t<li>103</li>\n",
       "\t<li>104</li>\n",
       "</ol>\n"
      ],
      "text/latex": [
       "\\begin{enumerate*}\n",
       "\\item 101\n",
       "\\item 102\n",
       "\\item 103\n",
       "\\item 104\n",
       "\\end{enumerate*}\n"
      ],
      "text/markdown": [
       "1. 101\n",
       "2. 102\n",
       "3. 103\n",
       "4. 104\n",
       "\n",
       "\n"
      ],
      "text/plain": [
       "[1] 101 102 103 104"
      ]
     },
     "metadata": {},
     "output_type": "display_data"
    }
   ],
   "source": [
    "x[x < 105]"
   ]
  },
  {
   "cell_type": "code",
   "execution_count": 60,
   "metadata": {},
   "outputs": [
    {
     "data": {
      "text/html": [
       "<ol class=list-inline>\n",
       "\t<li>104</li>\n",
       "\t<li>105</li>\n",
       "\t<li>106</li>\n",
       "\t<li>107</li>\n",
       "\t<li>108</li>\n",
       "\t<li>109</li>\n",
       "\t<li>110</li>\n",
       "</ol>\n"
      ],
      "text/latex": [
       "\\begin{enumerate*}\n",
       "\\item 104\n",
       "\\item 105\n",
       "\\item 106\n",
       "\\item 107\n",
       "\\item 108\n",
       "\\item 109\n",
       "\\item 110\n",
       "\\end{enumerate*}\n"
      ],
      "text/markdown": [
       "1. 104\n",
       "2. 105\n",
       "3. 106\n",
       "4. 107\n",
       "5. 108\n",
       "6. 109\n",
       "7. 110\n",
       "\n",
       "\n"
      ],
      "text/plain": [
       "[1] 104 105 106 107 108 109 110"
      ]
     },
     "metadata": {},
     "output_type": "display_data"
    }
   ],
   "source": [
    "x[x>=104]"
   ]
  },
  {
   "cell_type": "markdown",
   "metadata": {},
   "source": [
    "# Extract Using Character Vector as Index:"
   ]
  },
  {
   "cell_type": "code",
   "execution_count": 32,
   "metadata": {},
   "outputs": [],
   "source": [
    "x<- c(\"R\"=40,\"Python\"=30,\"Java\"=35)"
   ]
  },
  {
   "cell_type": "code",
   "execution_count": 38,
   "metadata": {},
   "outputs": [
    {
     "data": {
      "text/html": [
       "<strong>R:</strong> 40"
      ],
      "text/latex": [
       "\\textbf{R:} 40"
      ],
      "text/markdown": [
       "**R:** 40"
      ],
      "text/plain": [
       " R \n",
       "40 "
      ]
     },
     "metadata": {},
     "output_type": "display_data"
    },
    {
     "data": {
      "text/html": [
       "<ol class=list-inline>\n",
       "\t<li>'R'</li>\n",
       "\t<li>'Python'</li>\n",
       "\t<li>'Java'</li>\n",
       "</ol>\n"
      ],
      "text/latex": [
       "\\begin{enumerate*}\n",
       "\\item 'R'\n",
       "\\item 'Python'\n",
       "\\item 'Java'\n",
       "\\end{enumerate*}\n"
      ],
      "text/markdown": [
       "1. 'R'\n",
       "2. 'Python'\n",
       "3. 'Java'\n",
       "\n",
       "\n"
      ],
      "text/plain": [
       "[1] \"R\"      \"Python\" \"Java\"  "
      ]
     },
     "metadata": {},
     "output_type": "display_data"
    }
   ],
   "source": [
    "x[1]\n",
    "names(x)"
   ]
  },
  {
   "cell_type": "code",
   "execution_count": 36,
   "metadata": {},
   "outputs": [
    {
     "data": {
      "text/plain": [
       "NULL"
      ]
     },
     "metadata": {},
     "output_type": "display_data"
    }
   ],
   "source": [
    "y<-c(55,65,75)\n",
    "names(y)"
   ]
  },
  {
   "cell_type": "code",
   "execution_count": 37,
   "metadata": {},
   "outputs": [
    {
     "data": {
      "text/html": [
       "<ol class=list-inline>\n",
       "\t<li>'Eng'</li>\n",
       "\t<li>'Maths'</li>\n",
       "\t<li>'Science'</li>\n",
       "</ol>\n"
      ],
      "text/latex": [
       "\\begin{enumerate*}\n",
       "\\item 'Eng'\n",
       "\\item 'Maths'\n",
       "\\item 'Science'\n",
       "\\end{enumerate*}\n"
      ],
      "text/markdown": [
       "1. 'Eng'\n",
       "2. 'Maths'\n",
       "3. 'Science'\n",
       "\n",
       "\n"
      ],
      "text/plain": [
       "[1] \"Eng\"     \"Maths\"   \"Science\""
      ]
     },
     "metadata": {},
     "output_type": "display_data"
    }
   ],
   "source": [
    "names(y)<-c(\"Eng\",\"Maths\",\"Science\")\n",
    "names(y)"
   ]
  },
  {
   "cell_type": "code",
   "execution_count": 72,
   "metadata": {},
   "outputs": [
    {
     "data": {
      "text/html": [
       "<strong>R:</strong> 1"
      ],
      "text/latex": [
       "\\textbf{R:} 1"
      ],
      "text/markdown": [
       "**R:** 1"
      ],
      "text/plain": [
       "R \n",
       "1 "
      ]
     },
     "metadata": {},
     "output_type": "display_data"
    }
   ],
   "source": [
    "x[\"R\"]"
   ]
  },
  {
   "cell_type": "code",
   "execution_count": 73,
   "metadata": {},
   "outputs": [
    {
     "data": {
      "text/html": [
       "<strong>Maths:</strong> 65"
      ],
      "text/latex": [
       "\\textbf{Maths:} 65"
      ],
      "text/markdown": [
       "**Maths:** 65"
      ],
      "text/plain": [
       "Maths \n",
       "   65 "
      ]
     },
     "metadata": {},
     "output_type": "display_data"
    }
   ],
   "source": [
    "y[\"Maths\"]"
   ]
  },
  {
   "cell_type": "code",
   "execution_count": 39,
   "metadata": {},
   "outputs": [
    {
     "data": {
      "text/html": [
       "<dl class=dl-horizontal>\n",
       "\t<dt>Java</dt>\n",
       "\t\t<dd>35</dd>\n",
       "\t<dt>Python</dt>\n",
       "\t\t<dd>30</dd>\n",
       "</dl>\n"
      ],
      "text/latex": [
       "\\begin{description*}\n",
       "\\item[Java] 35\n",
       "\\item[Python] 30\n",
       "\\end{description*}\n"
      ],
      "text/markdown": [
       "Java\n",
       ":   35Python\n",
       ":   30\n",
       "\n"
      ],
      "text/plain": [
       "  Java Python \n",
       "    35     30 "
      ]
     },
     "metadata": {},
     "output_type": "display_data"
    }
   ],
   "source": [
    "x[c(\"Java\",\"Python\")]"
   ]
  },
  {
   "cell_type": "code",
   "execution_count": 42,
   "metadata": {},
   "outputs": [],
   "source": [
    "month.days <- c(31, 28, 31, 30, 31, 30, 31, 31, 30, 31, 30, 31)"
   ]
  },
  {
   "cell_type": "code",
   "execution_count": 120,
   "metadata": {},
   "outputs": [],
   "source": [
    "month.names<-c('Jan','Feb','Mar')"
   ]
  },
  {
   "cell_type": "code",
   "execution_count": 43,
   "metadata": {},
   "outputs": [],
   "source": [
    "names(month.days) <- month.name # month.name is inbuilt"
   ]
  },
  {
   "cell_type": "code",
   "execution_count": 44,
   "metadata": {},
   "outputs": [
    {
     "data": {
      "text/html": [
       "<dl class=dl-horizontal>\n",
       "\t<dt>January</dt>\n",
       "\t\t<dd>31</dd>\n",
       "\t<dt>February</dt>\n",
       "\t\t<dd>28</dd>\n",
       "\t<dt>March</dt>\n",
       "\t\t<dd>31</dd>\n",
       "\t<dt>April</dt>\n",
       "\t\t<dd>30</dd>\n",
       "\t<dt>May</dt>\n",
       "\t\t<dd>31</dd>\n",
       "\t<dt>June</dt>\n",
       "\t\t<dd>30</dd>\n",
       "\t<dt>July</dt>\n",
       "\t\t<dd>31</dd>\n",
       "\t<dt>August</dt>\n",
       "\t\t<dd>31</dd>\n",
       "\t<dt>September</dt>\n",
       "\t\t<dd>30</dd>\n",
       "\t<dt>October</dt>\n",
       "\t\t<dd>31</dd>\n",
       "\t<dt>November</dt>\n",
       "\t\t<dd>30</dd>\n",
       "\t<dt>December</dt>\n",
       "\t\t<dd>31</dd>\n",
       "</dl>\n"
      ],
      "text/latex": [
       "\\begin{description*}\n",
       "\\item[January] 31\n",
       "\\item[February] 28\n",
       "\\item[March] 31\n",
       "\\item[April] 30\n",
       "\\item[May] 31\n",
       "\\item[June] 30\n",
       "\\item[July] 31\n",
       "\\item[August] 31\n",
       "\\item[September] 30\n",
       "\\item[October] 31\n",
       "\\item[November] 30\n",
       "\\item[December] 31\n",
       "\\end{description*}\n"
      ],
      "text/markdown": [
       "January\n",
       ":   31February\n",
       ":   28March\n",
       ":   31April\n",
       ":   30May\n",
       ":   31June\n",
       ":   30July\n",
       ":   31August\n",
       ":   31September\n",
       ":   30October\n",
       ":   31November\n",
       ":   30December\n",
       ":   31\n",
       "\n"
      ],
      "text/plain": [
       "  January  February     March     April       May      June      July    August \n",
       "       31        28        31        30        31        30        31        31 \n",
       "September   October  November  December \n",
       "       30        31        30        31 "
      ]
     },
     "metadata": {},
     "output_type": "display_data"
    }
   ],
   "source": [
    "month.days"
   ]
  },
  {
   "cell_type": "code",
   "execution_count": 123,
   "metadata": {},
   "outputs": [
    {
     "data": {
      "text/html": [
       "<ol class=list-inline>\n",
       "\t<li>'January'</li>\n",
       "\t<li>'March'</li>\n",
       "\t<li>'May'</li>\n",
       "\t<li>'July'</li>\n",
       "\t<li>'August'</li>\n",
       "\t<li>'October'</li>\n",
       "\t<li>'December'</li>\n",
       "</ol>\n"
      ],
      "text/latex": [
       "\\begin{enumerate*}\n",
       "\\item 'January'\n",
       "\\item 'March'\n",
       "\\item 'May'\n",
       "\\item 'July'\n",
       "\\item 'August'\n",
       "\\item 'October'\n",
       "\\item 'December'\n",
       "\\end{enumerate*}\n"
      ],
      "text/markdown": [
       "1. 'January'\n",
       "2. 'March'\n",
       "3. 'May'\n",
       "4. 'July'\n",
       "5. 'August'\n",
       "6. 'October'\n",
       "7. 'December'\n",
       "\n",
       "\n"
      ],
      "text/plain": [
       "[1] \"January\"  \"March\"    \"May\"      \"July\"     \"August\"   \"October\"  \"December\""
      ]
     },
     "metadata": {},
     "output_type": "display_data"
    }
   ],
   "source": [
    "names(month.days[month.days == 31])"
   ]
  },
  {
   "cell_type": "markdown",
   "metadata": {},
   "source": [
    "## You use the names() function to retrieve the names of a named vector"
   ]
  },
  {
   "cell_type": "markdown",
   "metadata": {},
   "source": [
    "## take a look at the built‐in dataset islands, a named vector that contains the surface area of the world’s 48 largest land masses (continents and large islands).\n"
   ]
  },
  {
   "cell_type": "code",
   "execution_count": 124,
   "metadata": {},
   "outputs": [
    {
     "name": "stdout",
     "output_type": "stream",
     "text": [
      " Named num [1:48] 11506 5500 16988 2968 16 ...\n",
      " - attr(*, \"names\")= chr [1:48] \"Africa\" \"Antarctica\" \"Asia\" \"Australia\" ...\n"
     ]
    }
   ],
   "source": [
    "str(islands)"
   ]
  },
  {
   "cell_type": "code",
   "execution_count": 125,
   "metadata": {},
   "outputs": [
    {
     "data": {
      "text/html": [
       "<dl class=dl-horizontal>\n",
       "\t<dt>Asia</dt>\n",
       "\t\t<dd>16988</dd>\n",
       "\t<dt>Africa</dt>\n",
       "\t\t<dd>11506</dd>\n",
       "\t<dt>Antarctica</dt>\n",
       "\t\t<dd>5500</dd>\n",
       "</dl>\n"
      ],
      "text/latex": [
       "\\begin{description*}\n",
       "\\item[Asia] 16988\n",
       "\\item[Africa] 11506\n",
       "\\item[Antarctica] 5500\n",
       "\\end{description*}\n"
      ],
      "text/markdown": [
       "Asia\n",
       ":   16988Africa\n",
       ":   11506Antarctica\n",
       ":   5500\n",
       "\n"
      ],
      "text/plain": [
       "      Asia     Africa Antarctica \n",
       "     16988      11506       5500 "
      ]
     },
     "metadata": {},
     "output_type": "display_data"
    }
   ],
   "source": [
    "islands[c('Asia','Africa','Antarctica')]"
   ]
  },
  {
   "cell_type": "code",
   "execution_count": 126,
   "metadata": {},
   "outputs": [
    {
     "data": {
      "text/html": [
       "<ol class=list-inline>\n",
       "\t<li>'Africa'</li>\n",
       "\t<li>'Antarctica'</li>\n",
       "\t<li>'Asia'</li>\n",
       "\t<li>'Australia'</li>\n",
       "\t<li>'Axel Heiberg'</li>\n",
       "\t<li>'Baffin'</li>\n",
       "\t<li>'Banks'</li>\n",
       "\t<li>'Borneo'</li>\n",
       "\t<li>'Britain'</li>\n",
       "</ol>\n"
      ],
      "text/latex": [
       "\\begin{enumerate*}\n",
       "\\item 'Africa'\n",
       "\\item 'Antarctica'\n",
       "\\item 'Asia'\n",
       "\\item 'Australia'\n",
       "\\item 'Axel Heiberg'\n",
       "\\item 'Baffin'\n",
       "\\item 'Banks'\n",
       "\\item 'Borneo'\n",
       "\\item 'Britain'\n",
       "\\end{enumerate*}\n"
      ],
      "text/markdown": [
       "1. 'Africa'\n",
       "2. 'Antarctica'\n",
       "3. 'Asia'\n",
       "4. 'Australia'\n",
       "5. 'Axel Heiberg'\n",
       "6. 'Baffin'\n",
       "7. 'Banks'\n",
       "8. 'Borneo'\n",
       "9. 'Britain'\n",
       "\n",
       "\n"
      ],
      "text/plain": [
       "[1] \"Africa\"       \"Antarctica\"   \"Asia\"         \"Australia\"    \"Axel Heiberg\"\n",
       "[6] \"Baffin\"       \"Banks\"        \"Borneo\"       \"Britain\"     "
      ]
     },
     "metadata": {},
     "output_type": "display_data"
    }
   ],
   "source": [
    "names(islands)[1:9]"
   ]
  },
  {
   "cell_type": "code",
   "execution_count": 127,
   "metadata": {},
   "outputs": [
    {
     "data": {
      "text/html": [
       "<ol class=list-inline>\n",
       "\t<li>'Asia'</li>\n",
       "\t<li>'Africa'</li>\n",
       "\t<li>'North America'</li>\n",
       "\t<li>'South America'</li>\n",
       "\t<li>'Antarctica'</li>\n",
       "\t<li>'Europe'</li>\n",
       "</ol>\n"
      ],
      "text/latex": [
       "\\begin{enumerate*}\n",
       "\\item 'Asia'\n",
       "\\item 'Africa'\n",
       "\\item 'North America'\n",
       "\\item 'South America'\n",
       "\\item 'Antarctica'\n",
       "\\item 'Europe'\n",
       "\\end{enumerate*}\n"
      ],
      "text/markdown": [
       "1. 'Asia'\n",
       "2. 'Africa'\n",
       "3. 'North America'\n",
       "4. 'South America'\n",
       "5. 'Antarctica'\n",
       "6. 'Europe'\n",
       "\n",
       "\n"
      ],
      "text/plain": [
       "[1] \"Asia\"          \"Africa\"        \"North America\" \"South America\"\n",
       "[5] \"Antarctica\"    \"Europe\"       "
      ]
     },
     "metadata": {},
     "output_type": "display_data"
    }
   ],
   "source": [
    "names(sort(islands, decreasing = TRUE)[1:6])"
   ]
  },
  {
   "cell_type": "code",
   "execution_count": 128,
   "metadata": {},
   "outputs": [
    {
     "data": {
      "text/html": [
       "<ol class=list-inline>\n",
       "\t<li>'Asia'</li>\n",
       "\t<li>'Africa'</li>\n",
       "\t<li>'North America'</li>\n",
       "\t<li>'South America'</li>\n",
       "\t<li>'Antarctica'</li>\n",
       "\t<li>'Europe'</li>\n",
       "\t<li>'Australia'</li>\n",
       "\t<li>'Greenland'</li>\n",
       "\t<li>'New Guinea'</li>\n",
       "\t<li>'Borneo'</li>\n",
       "\t<li>'Madagascar'</li>\n",
       "\t<li>'Baffin'</li>\n",
       "\t<li>'Sumatra'</li>\n",
       "\t<li>'Honshu'</li>\n",
       "\t<li>'Britain'</li>\n",
       "\t<li>'Ellesmere'</li>\n",
       "\t<li>'Victoria'</li>\n",
       "\t<li>'Celebes'</li>\n",
       "\t<li>'New Zealand (S)'</li>\n",
       "\t<li>'Java'</li>\n",
       "\t<li>'New Zealand (N)'</li>\n",
       "\t<li>'Cuba'</li>\n",
       "\t<li>'Newfoundland'</li>\n",
       "\t<li>'Luzon'</li>\n",
       "\t<li>'Iceland'</li>\n",
       "\t<li>'Mindanao'</li>\n",
       "\t<li>'Ireland'</li>\n",
       "\t<li>'Novaya Zemlya'</li>\n",
       "\t<li>'Hispaniola'</li>\n",
       "\t<li>'Hokkaido'</li>\n",
       "\t<li>'Moluccas'</li>\n",
       "\t<li>'Sakhalin'</li>\n",
       "\t<li>'Tasmania'</li>\n",
       "\t<li>'Celon'</li>\n",
       "\t<li>'Banks'</li>\n",
       "\t<li>'Devon'</li>\n",
       "\t<li>'Tierra del Fuego'</li>\n",
       "\t<li>'Axel Heiberg'</li>\n",
       "\t<li>'Melville'</li>\n",
       "\t<li>'Southampton'</li>\n",
       "\t<li>'New Britain'</li>\n",
       "\t<li>'Spitsbergen'</li>\n",
       "\t<li>'Kyushu'</li>\n",
       "\t<li>'Taiwan'</li>\n",
       "\t<li>'Hainan'</li>\n",
       "\t<li>'Prince of Wales'</li>\n",
       "\t<li>'Timor'</li>\n",
       "\t<li>'Vancouver'</li>\n",
       "</ol>\n"
      ],
      "text/latex": [
       "\\begin{enumerate*}\n",
       "\\item 'Asia'\n",
       "\\item 'Africa'\n",
       "\\item 'North America'\n",
       "\\item 'South America'\n",
       "\\item 'Antarctica'\n",
       "\\item 'Europe'\n",
       "\\item 'Australia'\n",
       "\\item 'Greenland'\n",
       "\\item 'New Guinea'\n",
       "\\item 'Borneo'\n",
       "\\item 'Madagascar'\n",
       "\\item 'Baffin'\n",
       "\\item 'Sumatra'\n",
       "\\item 'Honshu'\n",
       "\\item 'Britain'\n",
       "\\item 'Ellesmere'\n",
       "\\item 'Victoria'\n",
       "\\item 'Celebes'\n",
       "\\item 'New Zealand (S)'\n",
       "\\item 'Java'\n",
       "\\item 'New Zealand (N)'\n",
       "\\item 'Cuba'\n",
       "\\item 'Newfoundland'\n",
       "\\item 'Luzon'\n",
       "\\item 'Iceland'\n",
       "\\item 'Mindanao'\n",
       "\\item 'Ireland'\n",
       "\\item 'Novaya Zemlya'\n",
       "\\item 'Hispaniola'\n",
       "\\item 'Hokkaido'\n",
       "\\item 'Moluccas'\n",
       "\\item 'Sakhalin'\n",
       "\\item 'Tasmania'\n",
       "\\item 'Celon'\n",
       "\\item 'Banks'\n",
       "\\item 'Devon'\n",
       "\\item 'Tierra del Fuego'\n",
       "\\item 'Axel Heiberg'\n",
       "\\item 'Melville'\n",
       "\\item 'Southampton'\n",
       "\\item 'New Britain'\n",
       "\\item 'Spitsbergen'\n",
       "\\item 'Kyushu'\n",
       "\\item 'Taiwan'\n",
       "\\item 'Hainan'\n",
       "\\item 'Prince of Wales'\n",
       "\\item 'Timor'\n",
       "\\item 'Vancouver'\n",
       "\\end{enumerate*}\n"
      ],
      "text/markdown": [
       "1. 'Asia'\n",
       "2. 'Africa'\n",
       "3. 'North America'\n",
       "4. 'South America'\n",
       "5. 'Antarctica'\n",
       "6. 'Europe'\n",
       "7. 'Australia'\n",
       "8. 'Greenland'\n",
       "9. 'New Guinea'\n",
       "10. 'Borneo'\n",
       "11. 'Madagascar'\n",
       "12. 'Baffin'\n",
       "13. 'Sumatra'\n",
       "14. 'Honshu'\n",
       "15. 'Britain'\n",
       "16. 'Ellesmere'\n",
       "17. 'Victoria'\n",
       "18. 'Celebes'\n",
       "19. 'New Zealand (S)'\n",
       "20. 'Java'\n",
       "21. 'New Zealand (N)'\n",
       "22. 'Cuba'\n",
       "23. 'Newfoundland'\n",
       "24. 'Luzon'\n",
       "25. 'Iceland'\n",
       "26. 'Mindanao'\n",
       "27. 'Ireland'\n",
       "28. 'Novaya Zemlya'\n",
       "29. 'Hispaniola'\n",
       "30. 'Hokkaido'\n",
       "31. 'Moluccas'\n",
       "32. 'Sakhalin'\n",
       "33. 'Tasmania'\n",
       "34. 'Celon'\n",
       "35. 'Banks'\n",
       "36. 'Devon'\n",
       "37. 'Tierra del Fuego'\n",
       "38. 'Axel Heiberg'\n",
       "39. 'Melville'\n",
       "40. 'Southampton'\n",
       "41. 'New Britain'\n",
       "42. 'Spitsbergen'\n",
       "43. 'Kyushu'\n",
       "44. 'Taiwan'\n",
       "45. 'Hainan'\n",
       "46. 'Prince of Wales'\n",
       "47. 'Timor'\n",
       "48. 'Vancouver'\n",
       "\n",
       "\n"
      ],
      "text/plain": [
       " [1] \"Asia\"             \"Africa\"           \"North America\"    \"South America\"   \n",
       " [5] \"Antarctica\"       \"Europe\"           \"Australia\"        \"Greenland\"       \n",
       " [9] \"New Guinea\"       \"Borneo\"           \"Madagascar\"       \"Baffin\"          \n",
       "[13] \"Sumatra\"          \"Honshu\"           \"Britain\"          \"Ellesmere\"       \n",
       "[17] \"Victoria\"         \"Celebes\"          \"New Zealand (S)\"  \"Java\"            \n",
       "[21] \"New Zealand (N)\"  \"Cuba\"             \"Newfoundland\"     \"Luzon\"           \n",
       "[25] \"Iceland\"          \"Mindanao\"         \"Ireland\"          \"Novaya Zemlya\"   \n",
       "[29] \"Hispaniola\"       \"Hokkaido\"         \"Moluccas\"         \"Sakhalin\"        \n",
       "[33] \"Tasmania\"         \"Celon\"            \"Banks\"            \"Devon\"           \n",
       "[37] \"Tierra del Fuego\" \"Axel Heiberg\"     \"Melville\"         \"Southampton\"     \n",
       "[41] \"New Britain\"      \"Spitsbergen\"      \"Kyushu\"           \"Taiwan\"          \n",
       "[45] \"Hainan\"           \"Prince of Wales\"  \"Timor\"            \"Vancouver\"       "
      ]
     },
     "metadata": {},
     "output_type": "display_data"
    }
   ],
   "source": [
    "names(sort(islands, decreasing = TRUE))"
   ]
  },
  {
   "cell_type": "code",
   "execution_count": 129,
   "metadata": {},
   "outputs": [
    {
     "data": {
      "text/html": [
       "<dl class=dl-horizontal>\n",
       "\t<dt>Asia</dt>\n",
       "\t\t<dd>16988</dd>\n",
       "\t<dt>Africa</dt>\n",
       "\t\t<dd>11506</dd>\n",
       "\t<dt>North America</dt>\n",
       "\t\t<dd>9390</dd>\n",
       "\t<dt>South America</dt>\n",
       "\t\t<dd>6795</dd>\n",
       "\t<dt>Antarctica</dt>\n",
       "\t\t<dd>5500</dd>\n",
       "\t<dt>Europe</dt>\n",
       "\t\t<dd>3745</dd>\n",
       "\t<dt>Australia</dt>\n",
       "\t\t<dd>2968</dd>\n",
       "\t<dt>Greenland</dt>\n",
       "\t\t<dd>840</dd>\n",
       "\t<dt>New Guinea</dt>\n",
       "\t\t<dd>306</dd>\n",
       "\t<dt>Borneo</dt>\n",
       "\t\t<dd>280</dd>\n",
       "\t<dt>Madagascar</dt>\n",
       "\t\t<dd>227</dd>\n",
       "\t<dt>Baffin</dt>\n",
       "\t\t<dd>184</dd>\n",
       "\t<dt>Sumatra</dt>\n",
       "\t\t<dd>183</dd>\n",
       "\t<dt>Honshu</dt>\n",
       "\t\t<dd>89</dd>\n",
       "\t<dt>Britain</dt>\n",
       "\t\t<dd>84</dd>\n",
       "\t<dt>Ellesmere</dt>\n",
       "\t\t<dd>82</dd>\n",
       "\t<dt>Victoria</dt>\n",
       "\t\t<dd>82</dd>\n",
       "\t<dt>Celebes</dt>\n",
       "\t\t<dd>73</dd>\n",
       "\t<dt>New Zealand (S)</dt>\n",
       "\t\t<dd>58</dd>\n",
       "\t<dt>Java</dt>\n",
       "\t\t<dd>49</dd>\n",
       "\t<dt>New Zealand (N)</dt>\n",
       "\t\t<dd>44</dd>\n",
       "\t<dt>Cuba</dt>\n",
       "\t\t<dd>43</dd>\n",
       "\t<dt>Newfoundland</dt>\n",
       "\t\t<dd>43</dd>\n",
       "\t<dt>Luzon</dt>\n",
       "\t\t<dd>42</dd>\n",
       "\t<dt>Iceland</dt>\n",
       "\t\t<dd>40</dd>\n",
       "\t<dt>Mindanao</dt>\n",
       "\t\t<dd>36</dd>\n",
       "\t<dt>Ireland</dt>\n",
       "\t\t<dd>33</dd>\n",
       "\t<dt>Novaya Zemlya</dt>\n",
       "\t\t<dd>32</dd>\n",
       "\t<dt>Hispaniola</dt>\n",
       "\t\t<dd>30</dd>\n",
       "\t<dt>Hokkaido</dt>\n",
       "\t\t<dd>30</dd>\n",
       "\t<dt>Moluccas</dt>\n",
       "\t\t<dd>29</dd>\n",
       "\t<dt>Sakhalin</dt>\n",
       "\t\t<dd>29</dd>\n",
       "\t<dt>Tasmania</dt>\n",
       "\t\t<dd>26</dd>\n",
       "\t<dt>Celon</dt>\n",
       "\t\t<dd>25</dd>\n",
       "\t<dt>Banks</dt>\n",
       "\t\t<dd>23</dd>\n",
       "\t<dt>Devon</dt>\n",
       "\t\t<dd>21</dd>\n",
       "\t<dt>Tierra del Fuego</dt>\n",
       "\t\t<dd>19</dd>\n",
       "\t<dt>Axel Heiberg</dt>\n",
       "\t\t<dd>16</dd>\n",
       "\t<dt>Melville</dt>\n",
       "\t\t<dd>16</dd>\n",
       "\t<dt>Southampton</dt>\n",
       "\t\t<dd>16</dd>\n",
       "\t<dt>New Britain</dt>\n",
       "\t\t<dd>15</dd>\n",
       "\t<dt>Spitsbergen</dt>\n",
       "\t\t<dd>15</dd>\n",
       "\t<dt>Kyushu</dt>\n",
       "\t\t<dd>14</dd>\n",
       "\t<dt>Taiwan</dt>\n",
       "\t\t<dd>14</dd>\n",
       "\t<dt>Hainan</dt>\n",
       "\t\t<dd>13</dd>\n",
       "\t<dt>Prince of Wales</dt>\n",
       "\t\t<dd>13</dd>\n",
       "\t<dt>Timor</dt>\n",
       "\t\t<dd>13</dd>\n",
       "\t<dt>Vancouver</dt>\n",
       "\t\t<dd>12</dd>\n",
       "</dl>\n"
      ],
      "text/latex": [
       "\\begin{description*}\n",
       "\\item[Asia] 16988\n",
       "\\item[Africa] 11506\n",
       "\\item[North America] 9390\n",
       "\\item[South America] 6795\n",
       "\\item[Antarctica] 5500\n",
       "\\item[Europe] 3745\n",
       "\\item[Australia] 2968\n",
       "\\item[Greenland] 840\n",
       "\\item[New Guinea] 306\n",
       "\\item[Borneo] 280\n",
       "\\item[Madagascar] 227\n",
       "\\item[Baffin] 184\n",
       "\\item[Sumatra] 183\n",
       "\\item[Honshu] 89\n",
       "\\item[Britain] 84\n",
       "\\item[Ellesmere] 82\n",
       "\\item[Victoria] 82\n",
       "\\item[Celebes] 73\n",
       "\\item[New Zealand (S)] 58\n",
       "\\item[Java] 49\n",
       "\\item[New Zealand (N)] 44\n",
       "\\item[Cuba] 43\n",
       "\\item[Newfoundland] 43\n",
       "\\item[Luzon] 42\n",
       "\\item[Iceland] 40\n",
       "\\item[Mindanao] 36\n",
       "\\item[Ireland] 33\n",
       "\\item[Novaya Zemlya] 32\n",
       "\\item[Hispaniola] 30\n",
       "\\item[Hokkaido] 30\n",
       "\\item[Moluccas] 29\n",
       "\\item[Sakhalin] 29\n",
       "\\item[Tasmania] 26\n",
       "\\item[Celon] 25\n",
       "\\item[Banks] 23\n",
       "\\item[Devon] 21\n",
       "\\item[Tierra del Fuego] 19\n",
       "\\item[Axel Heiberg] 16\n",
       "\\item[Melville] 16\n",
       "\\item[Southampton] 16\n",
       "\\item[New Britain] 15\n",
       "\\item[Spitsbergen] 15\n",
       "\\item[Kyushu] 14\n",
       "\\item[Taiwan] 14\n",
       "\\item[Hainan] 13\n",
       "\\item[Prince of Wales] 13\n",
       "\\item[Timor] 13\n",
       "\\item[Vancouver] 12\n",
       "\\end{description*}\n"
      ],
      "text/markdown": [
       "Asia\n",
       ":   16988Africa\n",
       ":   11506North America\n",
       ":   9390South America\n",
       ":   6795Antarctica\n",
       ":   5500Europe\n",
       ":   3745Australia\n",
       ":   2968Greenland\n",
       ":   840New Guinea\n",
       ":   306Borneo\n",
       ":   280Madagascar\n",
       ":   227Baffin\n",
       ":   184Sumatra\n",
       ":   183Honshu\n",
       ":   89Britain\n",
       ":   84Ellesmere\n",
       ":   82Victoria\n",
       ":   82Celebes\n",
       ":   73New Zealand (S)\n",
       ":   58Java\n",
       ":   49New Zealand (N)\n",
       ":   44Cuba\n",
       ":   43Newfoundland\n",
       ":   43Luzon\n",
       ":   42Iceland\n",
       ":   40Mindanao\n",
       ":   36Ireland\n",
       ":   33Novaya Zemlya\n",
       ":   32Hispaniola\n",
       ":   30Hokkaido\n",
       ":   30Moluccas\n",
       ":   29Sakhalin\n",
       ":   29Tasmania\n",
       ":   26Celon\n",
       ":   25Banks\n",
       ":   23Devon\n",
       ":   21Tierra del Fuego\n",
       ":   19Axel Heiberg\n",
       ":   16Melville\n",
       ":   16Southampton\n",
       ":   16New Britain\n",
       ":   15Spitsbergen\n",
       ":   15Kyushu\n",
       ":   14Taiwan\n",
       ":   14Hainan\n",
       ":   13Prince of Wales\n",
       ":   13Timor\n",
       ":   13Vancouver\n",
       ":   12\n",
       "\n"
      ],
      "text/plain": [
       "            Asia           Africa    North America    South America \n",
       "           16988            11506             9390             6795 \n",
       "      Antarctica           Europe        Australia        Greenland \n",
       "            5500             3745             2968              840 \n",
       "      New Guinea           Borneo       Madagascar           Baffin \n",
       "             306              280              227              184 \n",
       "         Sumatra           Honshu          Britain        Ellesmere \n",
       "             183               89               84               82 \n",
       "        Victoria          Celebes  New Zealand (S)             Java \n",
       "              82               73               58               49 \n",
       " New Zealand (N)             Cuba     Newfoundland            Luzon \n",
       "              44               43               43               42 \n",
       "         Iceland         Mindanao          Ireland    Novaya Zemlya \n",
       "              40               36               33               32 \n",
       "      Hispaniola         Hokkaido         Moluccas         Sakhalin \n",
       "              30               30               29               29 \n",
       "        Tasmania            Celon            Banks            Devon \n",
       "              26               25               23               21 \n",
       "Tierra del Fuego     Axel Heiberg         Melville      Southampton \n",
       "              19               16               16               16 \n",
       "     New Britain      Spitsbergen           Kyushu           Taiwan \n",
       "              15               15               14               14 \n",
       "          Hainan  Prince of Wales            Timor        Vancouver \n",
       "              13               13               13               12 "
      ]
     },
     "metadata": {},
     "output_type": "display_data"
    }
   ],
   "source": [
    "sort(islands, decreasing = TRUE)"
   ]
  },
  {
   "cell_type": "markdown",
   "metadata": {},
   "source": [
    "# Modify a Vector in R:"
   ]
  },
  {
   "cell_type": "code",
   "execution_count": null,
   "metadata": {},
   "outputs": [],
   "source": []
  },
  {
   "cell_type": "code",
   "execution_count": 75,
   "metadata": {},
   "outputs": [
    {
     "data": {
      "text/html": [
       "<ol class=list-inline>\n",
       "\t<li>10</li>\n",
       "\t<li>11</li>\n",
       "\t<li>12</li>\n",
       "</ol>\n"
      ],
      "text/latex": [
       "\\begin{enumerate*}\n",
       "\\item 10\n",
       "\\item 11\n",
       "\\item 12\n",
       "\\end{enumerate*}\n"
      ],
      "text/markdown": [
       "1. 10\n",
       "2. 11\n",
       "3. 12\n",
       "\n",
       "\n"
      ],
      "text/plain": [
       "[1] 10 11 12"
      ]
     },
     "metadata": {},
     "output_type": "display_data"
    }
   ],
   "source": [
    "x<- 10:12\n",
    "x"
   ]
  },
  {
   "cell_type": "code",
   "execution_count": 76,
   "metadata": {},
   "outputs": [],
   "source": [
    "x[1]<- 101 #Modify the first element"
   ]
  },
  {
   "cell_type": "code",
   "execution_count": 77,
   "metadata": {},
   "outputs": [
    {
     "data": {
      "text/html": [
       "<ol class=list-inline>\n",
       "\t<li>101</li>\n",
       "\t<li>11</li>\n",
       "\t<li>12</li>\n",
       "</ol>\n"
      ],
      "text/latex": [
       "\\begin{enumerate*}\n",
       "\\item 101\n",
       "\\item 11\n",
       "\\item 12\n",
       "\\end{enumerate*}\n"
      ],
      "text/markdown": [
       "1. 101\n",
       "2. 11\n",
       "3. 12\n",
       "\n",
       "\n"
      ],
      "text/plain": [
       "[1] 101  11  12"
      ]
     },
     "metadata": {},
     "output_type": "display_data"
    }
   ],
   "source": [
    "x"
   ]
  },
  {
   "cell_type": "code",
   "execution_count": 78,
   "metadata": {},
   "outputs": [],
   "source": [
    "x[2]<-102 #Modify the 2nd element"
   ]
  },
  {
   "cell_type": "code",
   "execution_count": 79,
   "metadata": {},
   "outputs": [
    {
     "data": {
      "text/html": [
       "<ol class=list-inline>\n",
       "\t<li>101</li>\n",
       "\t<li>102</li>\n",
       "\t<li>12</li>\n",
       "</ol>\n"
      ],
      "text/latex": [
       "\\begin{enumerate*}\n",
       "\\item 101\n",
       "\\item 102\n",
       "\\item 12\n",
       "\\end{enumerate*}\n"
      ],
      "text/markdown": [
       "1. 101\n",
       "2. 102\n",
       "3. 12\n",
       "\n",
       "\n"
      ],
      "text/plain": [
       "[1] 101 102  12"
      ]
     },
     "metadata": {},
     "output_type": "display_data"
    }
   ],
   "source": [
    "x"
   ]
  },
  {
   "cell_type": "code",
   "execution_count": 80,
   "metadata": {},
   "outputs": [],
   "source": [
    "x<- x[1:2] #Truncate the last element"
   ]
  },
  {
   "cell_type": "code",
   "execution_count": 81,
   "metadata": {},
   "outputs": [
    {
     "data": {
      "text/html": [
       "<ol class=list-inline>\n",
       "\t<li>101</li>\n",
       "\t<li>102</li>\n",
       "</ol>\n"
      ],
      "text/latex": [
       "\\begin{enumerate*}\n",
       "\\item 101\n",
       "\\item 102\n",
       "\\end{enumerate*}\n"
      ],
      "text/markdown": [
       "1. 101\n",
       "2. 102\n",
       "\n",
       "\n"
      ],
      "text/plain": [
       "[1] 101 102"
      ]
     },
     "metadata": {},
     "output_type": "display_data"
    }
   ],
   "source": [
    "x"
   ]
  },
  {
   "cell_type": "markdown",
   "metadata": {},
   "source": [
    "## You can delete a vector by simply assigning a NULL to it."
   ]
  },
  {
   "cell_type": "code",
   "execution_count": 82,
   "metadata": {},
   "outputs": [],
   "source": [
    "x<- NULL"
   ]
  },
  {
   "cell_type": "code",
   "execution_count": 83,
   "metadata": {},
   "outputs": [
    {
     "data": {
      "text/plain": [
       "NULL"
      ]
     },
     "metadata": {},
     "output_type": "display_data"
    }
   ],
   "source": [
    "x"
   ]
  },
  {
   "cell_type": "markdown",
   "metadata": {},
   "source": [
    "# Arithmetic Operations on Vectors:"
   ]
  },
  {
   "cell_type": "markdown",
   "metadata": {},
   "source": [
    "# You can use arithmetic operation in two vectors of same length. They can be added, subtracted, multiplied or divided."
   ]
  },
  {
   "cell_type": "code",
   "execution_count": 85,
   "metadata": {},
   "outputs": [
    {
     "name": "stdout",
     "output_type": "stream",
     "text": [
      " [1] 102 104 106 108 110 112 114 116 118 120\n",
      " [1] 100 100 100 100 100 100 100 100 100 100\n",
      " [1]  101  204  309  416  525  636  749  864  981 1100\n",
      " [1] 101.00000  51.00000  34.33333  26.00000  21.00000  17.66667  15.28571\n",
      " [8]  13.50000  12.11111  11.00000\n"
     ]
    }
   ],
   "source": [
    "# Create two vectors.\n",
    "v1 <- c(1:10)\n",
    "v2 <- c(101:110)\n",
    "\n",
    "# Vector addition.\n",
    "add.result <- v1+v2\n",
    "print(add.result)\n",
    "\n",
    "# Vector substraction.\n",
    "sub.result <- v2-v1\n",
    "print(sub.result)\n",
    "\n",
    "# Vector multiplication.\n",
    "multi.result <- v1*v2\n",
    "print(multi.result)\n",
    "\n",
    "# Vector division.\n",
    "divi.result <- v2/v1\n",
    "print(divi.result)"
   ]
  },
  {
   "cell_type": "markdown",
   "metadata": {},
   "source": [
    "# How to Sort a Vector in R?"
   ]
  },
  {
   "cell_type": "markdown",
   "metadata": {},
   "source": [
    "## You can sort vectors using the sort() function. By default, it sorts in ascending order. To sort in descending order you can pass decreasing=TURE as parameter. "
   ]
  },
  {
   "cell_type": "code",
   "execution_count": 86,
   "metadata": {},
   "outputs": [
    {
     "data": {
      "text/html": [
       "<ol class=list-inline>\n",
       "\t<li>110</li>\n",
       "\t<li>109</li>\n",
       "\t<li>108</li>\n",
       "\t<li>107</li>\n",
       "\t<li>106</li>\n",
       "\t<li>105</li>\n",
       "\t<li>104</li>\n",
       "\t<li>103</li>\n",
       "\t<li>102</li>\n",
       "\t<li>101</li>\n",
       "</ol>\n"
      ],
      "text/latex": [
       "\\begin{enumerate*}\n",
       "\\item 110\n",
       "\\item 109\n",
       "\\item 108\n",
       "\\item 107\n",
       "\\item 106\n",
       "\\item 105\n",
       "\\item 104\n",
       "\\item 103\n",
       "\\item 102\n",
       "\\item 101\n",
       "\\end{enumerate*}\n"
      ],
      "text/markdown": [
       "1. 110\n",
       "2. 109\n",
       "3. 108\n",
       "4. 107\n",
       "5. 106\n",
       "6. 105\n",
       "7. 104\n",
       "8. 103\n",
       "9. 102\n",
       "10. 101\n",
       "\n",
       "\n"
      ],
      "text/plain": [
       " [1] 110 109 108 107 106 105 104 103 102 101"
      ]
     },
     "metadata": {},
     "output_type": "display_data"
    }
   ],
   "source": [
    "x<- 110:101\n",
    "x\n"
   ]
  },
  {
   "cell_type": "code",
   "execution_count": 87,
   "metadata": {},
   "outputs": [
    {
     "data": {
      "text/html": [
       "<ol class=list-inline>\n",
       "\t<li>101</li>\n",
       "\t<li>102</li>\n",
       "\t<li>103</li>\n",
       "\t<li>104</li>\n",
       "\t<li>105</li>\n",
       "\t<li>106</li>\n",
       "\t<li>107</li>\n",
       "\t<li>108</li>\n",
       "\t<li>109</li>\n",
       "\t<li>110</li>\n",
       "</ol>\n"
      ],
      "text/latex": [
       "\\begin{enumerate*}\n",
       "\\item 101\n",
       "\\item 102\n",
       "\\item 103\n",
       "\\item 104\n",
       "\\item 105\n",
       "\\item 106\n",
       "\\item 107\n",
       "\\item 108\n",
       "\\item 109\n",
       "\\item 110\n",
       "\\end{enumerate*}\n"
      ],
      "text/markdown": [
       "1. 101\n",
       "2. 102\n",
       "3. 103\n",
       "4. 104\n",
       "5. 105\n",
       "6. 106\n",
       "7. 107\n",
       "8. 108\n",
       "9. 109\n",
       "10. 110\n",
       "\n",
       "\n"
      ],
      "text/plain": [
       " [1] 101 102 103 104 105 106 107 108 109 110"
      ]
     },
     "metadata": {},
     "output_type": "display_data"
    }
   ],
   "source": [
    "y<-sort(x)\n",
    "y"
   ]
  },
  {
   "cell_type": "code",
   "execution_count": 88,
   "metadata": {},
   "outputs": [
    {
     "data": {
      "text/html": [
       "<ol class=list-inline>\n",
       "\t<li>110</li>\n",
       "\t<li>109</li>\n",
       "\t<li>108</li>\n",
       "\t<li>107</li>\n",
       "\t<li>106</li>\n",
       "\t<li>105</li>\n",
       "\t<li>104</li>\n",
       "\t<li>103</li>\n",
       "\t<li>102</li>\n",
       "\t<li>101</li>\n",
       "</ol>\n"
      ],
      "text/latex": [
       "\\begin{enumerate*}\n",
       "\\item 110\n",
       "\\item 109\n",
       "\\item 108\n",
       "\\item 107\n",
       "\\item 106\n",
       "\\item 105\n",
       "\\item 104\n",
       "\\item 103\n",
       "\\item 102\n",
       "\\item 101\n",
       "\\end{enumerate*}\n"
      ],
      "text/markdown": [
       "1. 110\n",
       "2. 109\n",
       "3. 108\n",
       "4. 107\n",
       "5. 106\n",
       "6. 105\n",
       "7. 104\n",
       "8. 103\n",
       "9. 102\n",
       "10. 101\n",
       "\n",
       "\n"
      ],
      "text/plain": [
       " [1] 110 109 108 107 106 105 104 103 102 101"
      ]
     },
     "metadata": {},
     "output_type": "display_data"
    }
   ],
   "source": [
    "z<-sort(y, decreasing=TRUE)\n",
    "z"
   ]
  },
  {
   "cell_type": "markdown",
   "metadata": {},
   "source": [
    "# Find Minimum and Maximum in a Vector:"
   ]
  },
  {
   "cell_type": "code",
   "execution_count": 90,
   "metadata": {},
   "outputs": [
    {
     "data": {
      "text/html": [
       "<ol class=list-inline>\n",
       "\t<li>1001</li>\n",
       "\t<li>1002</li>\n",
       "\t<li>1003</li>\n",
       "\t<li>1004</li>\n",
       "\t<li>1005</li>\n",
       "\t<li>1006</li>\n",
       "\t<li>1007</li>\n",
       "\t<li>1008</li>\n",
       "\t<li>1009</li>\n",
       "\t<li>1010</li>\n",
       "</ol>\n"
      ],
      "text/latex": [
       "\\begin{enumerate*}\n",
       "\\item 1001\n",
       "\\item 1002\n",
       "\\item 1003\n",
       "\\item 1004\n",
       "\\item 1005\n",
       "\\item 1006\n",
       "\\item 1007\n",
       "\\item 1008\n",
       "\\item 1009\n",
       "\\item 1010\n",
       "\\end{enumerate*}\n"
      ],
      "text/markdown": [
       "1. 1001\n",
       "2. 1002\n",
       "3. 1003\n",
       "4. 1004\n",
       "5. 1005\n",
       "6. 1006\n",
       "7. 1007\n",
       "8. 1008\n",
       "9. 1009\n",
       "10. 1010\n",
       "\n",
       "\n"
      ],
      "text/plain": [
       " [1] 1001 1002 1003 1004 1005 1006 1007 1008 1009 1010"
      ]
     },
     "metadata": {},
     "output_type": "display_data"
    },
    {
     "data": {
      "text/html": [
       "1010"
      ],
      "text/latex": [
       "1010"
      ],
      "text/markdown": [
       "1010"
      ],
      "text/plain": [
       "[1] 1010"
      ]
     },
     "metadata": {},
     "output_type": "display_data"
    },
    {
     "data": {
      "text/html": [
       "1001"
      ],
      "text/latex": [
       "1001"
      ],
      "text/markdown": [
       "1001"
      ],
      "text/plain": [
       "[1] 1001"
      ]
     },
     "metadata": {},
     "output_type": "display_data"
    },
    {
     "data": {
      "text/html": [
       "<ol class=list-inline>\n",
       "\t<li>1001</li>\n",
       "\t<li>1010</li>\n",
       "</ol>\n"
      ],
      "text/latex": [
       "\\begin{enumerate*}\n",
       "\\item 1001\n",
       "\\item 1010\n",
       "\\end{enumerate*}\n"
      ],
      "text/markdown": [
       "1. 1001\n",
       "2. 1010\n",
       "\n",
       "\n"
      ],
      "text/plain": [
       "[1] 1001 1010"
      ]
     },
     "metadata": {},
     "output_type": "display_data"
    }
   ],
   "source": [
    "x<- 1001:1010\n",
    "x\n",
    "max(x) # Find the maximum\n",
    "min(x) # Find the minimum\n",
    "range(x) #Find the range"
   ]
  },
  {
   "cell_type": "markdown",
   "metadata": {},
   "source": [
    "# Find Where the Minimum or Maximum is Located in a Vector?"
   ]
  },
  {
   "cell_type": "code",
   "execution_count": 91,
   "metadata": {},
   "outputs": [
    {
     "data": {
      "text/html": [
       "1"
      ],
      "text/latex": [
       "1"
      ],
      "text/markdown": [
       "1"
      ],
      "text/plain": [
       "[1] 1"
      ]
     },
     "metadata": {},
     "output_type": "display_data"
    }
   ],
   "source": [
    "which.min(x) #Find index of minimum"
   ]
  },
  {
   "cell_type": "code",
   "execution_count": 92,
   "metadata": {},
   "outputs": [
    {
     "data": {
      "text/html": [
       "10"
      ],
      "text/latex": [
       "10"
      ],
      "text/markdown": [
       "10"
      ],
      "text/plain": [
       "[1] 10"
      ]
     },
     "metadata": {},
     "output_type": "display_data"
    }
   ],
   "source": [
    "which.max(x) #Find index of maximum"
   ]
  },
  {
   "cell_type": "code",
   "execution_count": 93,
   "metadata": {},
   "outputs": [
    {
     "data": {
      "text/html": [
       "1001"
      ],
      "text/latex": [
       "1001"
      ],
      "text/markdown": [
       "1001"
      ],
      "text/plain": [
       "[1] 1001"
      ]
     },
     "metadata": {},
     "output_type": "display_data"
    }
   ],
   "source": [
    "x[which.min(x)] #You can find the minimum value by using this also"
   ]
  },
  {
   "cell_type": "markdown",
   "metadata": {},
   "source": [
    "# Using arithmetic vector operations"
   ]
  },
  {
   "cell_type": "code",
   "execution_count": 94,
   "metadata": {},
   "outputs": [],
   "source": [
    "x <- c(3, 6, 2, 5, 1)"
   ]
  },
  {
   "cell_type": "code",
   "execution_count": 95,
   "metadata": {},
   "outputs": [
    {
     "data": {
      "text/html": [
       "17"
      ],
      "text/latex": [
       "17"
      ],
      "text/markdown": [
       "17"
      ],
      "text/plain": [
       "[1] 17"
      ]
     },
     "metadata": {},
     "output_type": "display_data"
    }
   ],
   "source": [
    "sum(x)"
   ]
  },
  {
   "cell_type": "code",
   "execution_count": 96,
   "metadata": {},
   "outputs": [],
   "source": [
    "y <- c(3, 6, 2, NA, 1)"
   ]
  },
  {
   "cell_type": "code",
   "execution_count": 97,
   "metadata": {},
   "outputs": [
    {
     "data": {
      "text/html": [
       "&lt;NA&gt;"
      ],
      "text/latex": [
       "<NA>"
      ],
      "text/markdown": [
       "&lt;NA&gt;"
      ],
      "text/plain": [
       "[1] NA"
      ]
     },
     "metadata": {},
     "output_type": "display_data"
    }
   ],
   "source": [
    "sum(y)"
   ]
  },
  {
   "cell_type": "code",
   "execution_count": 98,
   "metadata": {},
   "outputs": [
    {
     "data": {
      "text/html": [
       "12"
      ],
      "text/latex": [
       "12"
      ],
      "text/markdown": [
       "12"
      ],
      "text/plain": [
       "[1] 12"
      ]
     },
     "metadata": {},
     "output_type": "display_data"
    }
   ],
   "source": [
    "sum(y, na.rm = TRUE)"
   ]
  },
  {
   "cell_type": "code",
   "execution_count": 99,
   "metadata": {},
   "outputs": [
    {
     "data": {
      "text/html": [
       "<ol class=list-inline>\n",
       "\t<li>3</li>\n",
       "\t<li>9</li>\n",
       "\t<li>11</li>\n",
       "\t<li>16</li>\n",
       "\t<li>17</li>\n",
       "</ol>\n"
      ],
      "text/latex": [
       "\\begin{enumerate*}\n",
       "\\item 3\n",
       "\\item 9\n",
       "\\item 11\n",
       "\\item 16\n",
       "\\item 17\n",
       "\\end{enumerate*}\n"
      ],
      "text/markdown": [
       "1. 3\n",
       "2. 9\n",
       "3. 11\n",
       "4. 16\n",
       "5. 17\n",
       "\n",
       "\n"
      ],
      "text/plain": [
       "[1]  3  9 11 16 17"
      ]
     },
     "metadata": {},
     "output_type": "display_data"
    }
   ],
   "source": [
    "cumsum(x)"
   ]
  },
  {
   "cell_type": "code",
   "execution_count": 100,
   "metadata": {},
   "outputs": [
    {
     "data": {
      "text/html": [
       "<ol class=list-inline>\n",
       "\t<li>3</li>\n",
       "\t<li>6</li>\n",
       "\t<li>6</li>\n",
       "\t<li>6</li>\n",
       "\t<li>6</li>\n",
       "</ol>\n"
      ],
      "text/latex": [
       "\\begin{enumerate*}\n",
       "\\item 3\n",
       "\\item 6\n",
       "\\item 6\n",
       "\\item 6\n",
       "\\item 6\n",
       "\\end{enumerate*}\n"
      ],
      "text/markdown": [
       "1. 3\n",
       "2. 6\n",
       "3. 6\n",
       "4. 6\n",
       "5. 6\n",
       "\n",
       "\n"
      ],
      "text/plain": [
       "[1] 3 6 6 6 6"
      ]
     },
     "metadata": {},
     "output_type": "display_data"
    }
   ],
   "source": [
    "cummax(x)"
   ]
  },
  {
   "cell_type": "code",
   "execution_count": 101,
   "metadata": {},
   "outputs": [
    {
     "data": {
      "text/html": [
       "180"
      ],
      "text/latex": [
       "180"
      ],
      "text/markdown": [
       "180"
      ],
      "text/plain": [
       "[1] 180"
      ]
     },
     "metadata": {},
     "output_type": "display_data"
    }
   ],
   "source": [
    "prod(x)"
   ]
  },
  {
   "cell_type": "code",
   "execution_count": 102,
   "metadata": {},
   "outputs": [
    {
     "data": {
      "text/html": [
       "1"
      ],
      "text/latex": [
       "1"
      ],
      "text/markdown": [
       "1"
      ],
      "text/plain": [
       "[1] 1"
      ]
     },
     "metadata": {},
     "output_type": "display_data"
    }
   ],
   "source": [
    "min(x)"
   ]
  },
  {
   "cell_type": "code",
   "execution_count": 103,
   "metadata": {},
   "outputs": [
    {
     "data": {
      "text/html": [
       "<ol class=list-inline>\n",
       "\t<li>3</li>\n",
       "\t<li>3</li>\n",
       "\t<li>2</li>\n",
       "\t<li>2</li>\n",
       "\t<li>1</li>\n",
       "</ol>\n"
      ],
      "text/latex": [
       "\\begin{enumerate*}\n",
       "\\item 3\n",
       "\\item 3\n",
       "\\item 2\n",
       "\\item 2\n",
       "\\item 1\n",
       "\\end{enumerate*}\n"
      ],
      "text/markdown": [
       "1. 3\n",
       "2. 3\n",
       "3. 2\n",
       "4. 2\n",
       "5. 1\n",
       "\n",
       "\n"
      ],
      "text/plain": [
       "[1] 3 3 2 2 1"
      ]
     },
     "metadata": {},
     "output_type": "display_data"
    }
   ],
   "source": [
    "cummin(x)"
   ]
  },
  {
   "cell_type": "code",
   "execution_count": 104,
   "metadata": {},
   "outputs": [
    {
     "data": {
      "text/html": [
       "<ol class=list-inline>\n",
       "\t<li>3</li>\n",
       "\t<li>-4</li>\n",
       "\t<li>3</li>\n",
       "\t<li>-4</li>\n",
       "</ol>\n"
      ],
      "text/latex": [
       "\\begin{enumerate*}\n",
       "\\item 3\n",
       "\\item -4\n",
       "\\item 3\n",
       "\\item -4\n",
       "\\end{enumerate*}\n"
      ],
      "text/markdown": [
       "1. 3\n",
       "2. -4\n",
       "3. 3\n",
       "4. -4\n",
       "\n",
       "\n"
      ],
      "text/plain": [
       "[1]  3 -4  3 -4"
      ]
     },
     "metadata": {},
     "output_type": "display_data"
    }
   ],
   "source": [
    "diff(x)"
   ]
  },
  {
   "cell_type": "markdown",
   "metadata": {},
   "source": [
    "# Using Character Vectors for Text Data"
   ]
  },
  {
   "cell_type": "code",
   "execution_count": 106,
   "metadata": {},
   "outputs": [],
   "source": [
    "x <- 'Hello world!'"
   ]
  },
  {
   "cell_type": "code",
   "execution_count": 107,
   "metadata": {},
   "outputs": [
    {
     "data": {
      "text/html": [
       "TRUE"
      ],
      "text/latex": [
       "TRUE"
      ],
      "text/markdown": [
       "TRUE"
      ],
      "text/plain": [
       "[1] TRUE"
      ]
     },
     "metadata": {},
     "output_type": "display_data"
    }
   ],
   "source": [
    "is.character(x)"
   ]
  },
  {
   "cell_type": "code",
   "execution_count": 108,
   "metadata": {},
   "outputs": [
    {
     "data": {
      "text/html": [
       "1"
      ],
      "text/latex": [
       "1"
      ],
      "text/markdown": [
       "1"
      ],
      "text/plain": [
       "[1] 1"
      ]
     },
     "metadata": {},
     "output_type": "display_data"
    }
   ],
   "source": [
    "length(x)"
   ]
  },
  {
   "cell_type": "code",
   "execution_count": 109,
   "metadata": {},
   "outputs": [
    {
     "data": {
      "text/html": [
       "12"
      ],
      "text/latex": [
       "12"
      ],
      "text/markdown": [
       "12"
      ],
      "text/plain": [
       "[1] 12"
      ]
     },
     "metadata": {},
     "output_type": "display_data"
    }
   ],
   "source": [
    "nchar(x)"
   ]
  },
  {
   "cell_type": "code",
   "execution_count": 110,
   "metadata": {},
   "outputs": [
    {
     "data": {
      "text/html": [
       "<ol class=list-inline>\n",
       "\t<li>'a'</li>\n",
       "\t<li>'b'</li>\n",
       "\t<li>'c'</li>\n",
       "\t<li>'d'</li>\n",
       "\t<li>'e'</li>\n",
       "\t<li>'f'</li>\n",
       "\t<li>'g'</li>\n",
       "\t<li>'h'</li>\n",
       "\t<li>'i'</li>\n",
       "\t<li>'j'</li>\n",
       "\t<li>'k'</li>\n",
       "\t<li>'l'</li>\n",
       "\t<li>'m'</li>\n",
       "\t<li>'n'</li>\n",
       "\t<li>'o'</li>\n",
       "\t<li>'p'</li>\n",
       "\t<li>'q'</li>\n",
       "\t<li>'r'</li>\n",
       "\t<li>'s'</li>\n",
       "\t<li>'t'</li>\n",
       "\t<li>'u'</li>\n",
       "\t<li>'v'</li>\n",
       "\t<li>'w'</li>\n",
       "\t<li>'x'</li>\n",
       "\t<li>'y'</li>\n",
       "\t<li>'z'</li>\n",
       "</ol>\n"
      ],
      "text/latex": [
       "\\begin{enumerate*}\n",
       "\\item 'a'\n",
       "\\item 'b'\n",
       "\\item 'c'\n",
       "\\item 'd'\n",
       "\\item 'e'\n",
       "\\item 'f'\n",
       "\\item 'g'\n",
       "\\item 'h'\n",
       "\\item 'i'\n",
       "\\item 'j'\n",
       "\\item 'k'\n",
       "\\item 'l'\n",
       "\\item 'm'\n",
       "\\item 'n'\n",
       "\\item 'o'\n",
       "\\item 'p'\n",
       "\\item 'q'\n",
       "\\item 'r'\n",
       "\\item 's'\n",
       "\\item 't'\n",
       "\\item 'u'\n",
       "\\item 'v'\n",
       "\\item 'w'\n",
       "\\item 'x'\n",
       "\\item 'y'\n",
       "\\item 'z'\n",
       "\\end{enumerate*}\n"
      ],
      "text/markdown": [
       "1. 'a'\n",
       "2. 'b'\n",
       "3. 'c'\n",
       "4. 'd'\n",
       "5. 'e'\n",
       "6. 'f'\n",
       "7. 'g'\n",
       "8. 'h'\n",
       "9. 'i'\n",
       "10. 'j'\n",
       "11. 'k'\n",
       "12. 'l'\n",
       "13. 'm'\n",
       "14. 'n'\n",
       "15. 'o'\n",
       "16. 'p'\n",
       "17. 'q'\n",
       "18. 'r'\n",
       "19. 's'\n",
       "20. 't'\n",
       "21. 'u'\n",
       "22. 'v'\n",
       "23. 'w'\n",
       "24. 'x'\n",
       "25. 'y'\n",
       "26. 'z'\n",
       "\n",
       "\n"
      ],
      "text/plain": [
       " [1] \"a\" \"b\" \"c\" \"d\" \"e\" \"f\" \"g\" \"h\" \"i\" \"j\" \"k\" \"l\" \"m\" \"n\" \"o\" \"p\" \"q\" \"r\" \"s\"\n",
       "[20] \"t\" \"u\" \"v\" \"w\" \"x\" \"y\" \"z\""
      ]
     },
     "metadata": {},
     "output_type": "display_data"
    }
   ],
   "source": [
    "letters"
   ]
  },
  {
   "cell_type": "code",
   "execution_count": 111,
   "metadata": {},
   "outputs": [
    {
     "data": {
      "text/html": [
       "<ol class=list-inline>\n",
       "\t<li>'A'</li>\n",
       "\t<li>'B'</li>\n",
       "\t<li>'C'</li>\n",
       "\t<li>'D'</li>\n",
       "\t<li>'E'</li>\n",
       "\t<li>'F'</li>\n",
       "\t<li>'G'</li>\n",
       "\t<li>'H'</li>\n",
       "\t<li>'I'</li>\n",
       "\t<li>'J'</li>\n",
       "\t<li>'K'</li>\n",
       "\t<li>'L'</li>\n",
       "\t<li>'M'</li>\n",
       "\t<li>'N'</li>\n",
       "\t<li>'O'</li>\n",
       "\t<li>'P'</li>\n",
       "\t<li>'Q'</li>\n",
       "\t<li>'R'</li>\n",
       "\t<li>'S'</li>\n",
       "\t<li>'T'</li>\n",
       "\t<li>'U'</li>\n",
       "\t<li>'V'</li>\n",
       "\t<li>'W'</li>\n",
       "\t<li>'X'</li>\n",
       "\t<li>'Y'</li>\n",
       "\t<li>'Z'</li>\n",
       "</ol>\n"
      ],
      "text/latex": [
       "\\begin{enumerate*}\n",
       "\\item 'A'\n",
       "\\item 'B'\n",
       "\\item 'C'\n",
       "\\item 'D'\n",
       "\\item 'E'\n",
       "\\item 'F'\n",
       "\\item 'G'\n",
       "\\item 'H'\n",
       "\\item 'I'\n",
       "\\item 'J'\n",
       "\\item 'K'\n",
       "\\item 'L'\n",
       "\\item 'M'\n",
       "\\item 'N'\n",
       "\\item 'O'\n",
       "\\item 'P'\n",
       "\\item 'Q'\n",
       "\\item 'R'\n",
       "\\item 'S'\n",
       "\\item 'T'\n",
       "\\item 'U'\n",
       "\\item 'V'\n",
       "\\item 'W'\n",
       "\\item 'X'\n",
       "\\item 'Y'\n",
       "\\item 'Z'\n",
       "\\end{enumerate*}\n"
      ],
      "text/markdown": [
       "1. 'A'\n",
       "2. 'B'\n",
       "3. 'C'\n",
       "4. 'D'\n",
       "5. 'E'\n",
       "6. 'F'\n",
       "7. 'G'\n",
       "8. 'H'\n",
       "9. 'I'\n",
       "10. 'J'\n",
       "11. 'K'\n",
       "12. 'L'\n",
       "13. 'M'\n",
       "14. 'N'\n",
       "15. 'O'\n",
       "16. 'P'\n",
       "17. 'Q'\n",
       "18. 'R'\n",
       "19. 'S'\n",
       "20. 'T'\n",
       "21. 'U'\n",
       "22. 'V'\n",
       "23. 'W'\n",
       "24. 'X'\n",
       "25. 'Y'\n",
       "26. 'Z'\n",
       "\n",
       "\n"
      ],
      "text/plain": [
       " [1] \"A\" \"B\" \"C\" \"D\" \"E\" \"F\" \"G\" \"H\" \"I\" \"J\" \"K\" \"L\" \"M\" \"N\" \"O\" \"P\" \"Q\" \"R\" \"S\"\n",
       "[20] \"T\" \"U\" \"V\" \"W\" \"X\" \"Y\" \"Z\""
      ]
     },
     "metadata": {},
     "output_type": "display_data"
    }
   ],
   "source": [
    "LETTERS"
   ]
  },
  {
   "cell_type": "code",
   "execution_count": 114,
   "metadata": {},
   "outputs": [
    {
     "data": {
      "text/html": [
       "<ol class=list-inline>\n",
       "\t<li>'C'</li>\n",
       "\t<li>'D'</li>\n",
       "\t<li>'E'</li>\n",
       "\t<li>'F'</li>\n",
       "\t<li>'G'</li>\n",
       "\t<li>'H'</li>\n",
       "\t<li>'I'</li>\n",
       "\t<li>'J'</li>\n",
       "</ol>\n"
      ],
      "text/latex": [
       "\\begin{enumerate*}\n",
       "\\item 'C'\n",
       "\\item 'D'\n",
       "\\item 'E'\n",
       "\\item 'F'\n",
       "\\item 'G'\n",
       "\\item 'H'\n",
       "\\item 'I'\n",
       "\\item 'J'\n",
       "\\end{enumerate*}\n"
      ],
      "text/markdown": [
       "1. 'C'\n",
       "2. 'D'\n",
       "3. 'E'\n",
       "4. 'F'\n",
       "5. 'G'\n",
       "6. 'H'\n",
       "7. 'I'\n",
       "8. 'J'\n",
       "\n",
       "\n"
      ],
      "text/plain": [
       "[1] \"C\" \"D\" \"E\" \"F\" \"G\" \"H\" \"I\" \"J\""
      ]
     },
     "metadata": {},
     "output_type": "display_data"
    }
   ],
   "source": [
    "LETTERS[3:10]"
   ]
  },
  {
   "cell_type": "code",
   "execution_count": 115,
   "metadata": {},
   "outputs": [
    {
     "data": {
      "text/html": [
       "'j'"
      ],
      "text/latex": [
       "'j'"
      ],
      "text/markdown": [
       "'j'"
      ],
      "text/plain": [
       "[1] \"j\""
      ]
     },
     "metadata": {},
     "output_type": "display_data"
    }
   ],
   "source": [
    "letters[10]"
   ]
  },
  {
   "cell_type": "code",
   "execution_count": 116,
   "metadata": {},
   "outputs": [
    {
     "data": {
      "text/html": [
       "<ol class=list-inline>\n",
       "\t<li>'V'</li>\n",
       "\t<li>'W'</li>\n",
       "\t<li>'X'</li>\n",
       "\t<li>'Y'</li>\n",
       "\t<li>'Z'</li>\n",
       "</ol>\n"
      ],
      "text/latex": [
       "\\begin{enumerate*}\n",
       "\\item 'V'\n",
       "\\item 'W'\n",
       "\\item 'X'\n",
       "\\item 'Y'\n",
       "\\item 'Z'\n",
       "\\end{enumerate*}\n"
      ],
      "text/markdown": [
       "1. 'V'\n",
       "2. 'W'\n",
       "3. 'X'\n",
       "4. 'Y'\n",
       "5. 'Z'\n",
       "\n",
       "\n"
      ],
      "text/plain": [
       "[1] \"V\" \"W\" \"X\" \"Y\" \"Z\""
      ]
     },
     "metadata": {},
     "output_type": "display_data"
    }
   ],
   "source": [
    "tail(LETTERS, 5)"
   ]
  },
  {
   "cell_type": "code",
   "execution_count": 117,
   "metadata": {},
   "outputs": [
    {
     "data": {
      "text/html": [
       "<ol class=list-inline>\n",
       "\t<li>'a'</li>\n",
       "\t<li>'b'</li>\n",
       "\t<li>'c'</li>\n",
       "\t<li>'d'</li>\n",
       "\t<li>'e'</li>\n",
       "\t<li>'f'</li>\n",
       "\t<li>'g'</li>\n",
       "\t<li>'h'</li>\n",
       "\t<li>'i'</li>\n",
       "\t<li>'j'</li>\n",
       "</ol>\n"
      ],
      "text/latex": [
       "\\begin{enumerate*}\n",
       "\\item 'a'\n",
       "\\item 'b'\n",
       "\\item 'c'\n",
       "\\item 'd'\n",
       "\\item 'e'\n",
       "\\item 'f'\n",
       "\\item 'g'\n",
       "\\item 'h'\n",
       "\\item 'i'\n",
       "\\item 'j'\n",
       "\\end{enumerate*}\n"
      ],
      "text/markdown": [
       "1. 'a'\n",
       "2. 'b'\n",
       "3. 'c'\n",
       "4. 'd'\n",
       "5. 'e'\n",
       "6. 'f'\n",
       "7. 'g'\n",
       "8. 'h'\n",
       "9. 'i'\n",
       "10. 'j'\n",
       "\n",
       "\n"
      ],
      "text/plain": [
       " [1] \"a\" \"b\" \"c\" \"d\" \"e\" \"f\" \"g\" \"h\" \"i\" \"j\""
      ]
     },
     "metadata": {},
     "output_type": "display_data"
    }
   ],
   "source": [
    "head(letters, 10)"
   ]
  },
  {
   "cell_type": "markdown",
   "metadata": {},
   "source": [
    "# Manipulating Text"
   ]
  },
  {
   "cell_type": "markdown",
   "metadata": {},
   "source": [
    "## Splitting text"
   ]
  },
  {
   "cell_type": "code",
   "execution_count": 130,
   "metadata": {},
   "outputs": [],
   "source": [
    "str<-\"Hello. I am enjoying programming with R\""
   ]
  },
  {
   "cell_type": "code",
   "execution_count": 131,
   "metadata": {},
   "outputs": [
    {
     "data": {
      "text/html": [
       "'Hello. I am enjoying programming with R'"
      ],
      "text/latex": [
       "'Hello. I am enjoying programming with R'"
      ],
      "text/markdown": [
       "'Hello. I am enjoying programming with R'"
      ],
      "text/plain": [
       "[1] \"Hello. I am enjoying programming with R\""
      ]
     },
     "metadata": {},
     "output_type": "display_data"
    }
   ],
   "source": [
    "str"
   ]
  },
  {
   "cell_type": "code",
   "execution_count": 132,
   "metadata": {},
   "outputs": [
    {
     "data": {
      "text/html": [
       "<ol>\n",
       "\t<li><ol class=list-inline>\n",
       "\t<li>'H'</li>\n",
       "\t<li>'e'</li>\n",
       "\t<li>'l'</li>\n",
       "\t<li>'l'</li>\n",
       "\t<li>'o'</li>\n",
       "\t<li>'.'</li>\n",
       "\t<li>' '</li>\n",
       "\t<li>'I'</li>\n",
       "\t<li>' '</li>\n",
       "\t<li>'a'</li>\n",
       "\t<li>'m'</li>\n",
       "\t<li>' '</li>\n",
       "\t<li>'e'</li>\n",
       "\t<li>'n'</li>\n",
       "\t<li>'j'</li>\n",
       "\t<li>'o'</li>\n",
       "\t<li>'y'</li>\n",
       "\t<li>'i'</li>\n",
       "\t<li>'n'</li>\n",
       "\t<li>'g'</li>\n",
       "\t<li>' '</li>\n",
       "\t<li>'p'</li>\n",
       "\t<li>'r'</li>\n",
       "\t<li>'o'</li>\n",
       "\t<li>'g'</li>\n",
       "\t<li>'r'</li>\n",
       "\t<li>'a'</li>\n",
       "\t<li>'m'</li>\n",
       "\t<li>'m'</li>\n",
       "\t<li>'i'</li>\n",
       "\t<li>'n'</li>\n",
       "\t<li>'g'</li>\n",
       "\t<li>' '</li>\n",
       "\t<li>'w'</li>\n",
       "\t<li>'i'</li>\n",
       "\t<li>'t'</li>\n",
       "\t<li>'h'</li>\n",
       "\t<li>' '</li>\n",
       "\t<li>'R'</li>\n",
       "</ol>\n",
       "</li>\n",
       "</ol>\n"
      ],
      "text/latex": [
       "\\begin{enumerate}\n",
       "\\item \\begin{enumerate*}\n",
       "\\item 'H'\n",
       "\\item 'e'\n",
       "\\item 'l'\n",
       "\\item 'l'\n",
       "\\item 'o'\n",
       "\\item '.'\n",
       "\\item ' '\n",
       "\\item 'I'\n",
       "\\item ' '\n",
       "\\item 'a'\n",
       "\\item 'm'\n",
       "\\item ' '\n",
       "\\item 'e'\n",
       "\\item 'n'\n",
       "\\item 'j'\n",
       "\\item 'o'\n",
       "\\item 'y'\n",
       "\\item 'i'\n",
       "\\item 'n'\n",
       "\\item 'g'\n",
       "\\item ' '\n",
       "\\item 'p'\n",
       "\\item 'r'\n",
       "\\item 'o'\n",
       "\\item 'g'\n",
       "\\item 'r'\n",
       "\\item 'a'\n",
       "\\item 'm'\n",
       "\\item 'm'\n",
       "\\item 'i'\n",
       "\\item 'n'\n",
       "\\item 'g'\n",
       "\\item ' '\n",
       "\\item 'w'\n",
       "\\item 'i'\n",
       "\\item 't'\n",
       "\\item 'h'\n",
       "\\item ' '\n",
       "\\item 'R'\n",
       "\\end{enumerate*}\n",
       "\n",
       "\\end{enumerate}\n"
      ],
      "text/markdown": [
       "1. 1. 'H'\n",
       "2. 'e'\n",
       "3. 'l'\n",
       "4. 'l'\n",
       "5. 'o'\n",
       "6. '.'\n",
       "7. ' '\n",
       "8. 'I'\n",
       "9. ' '\n",
       "10. 'a'\n",
       "11. 'm'\n",
       "12. ' '\n",
       "13. 'e'\n",
       "14. 'n'\n",
       "15. 'j'\n",
       "16. 'o'\n",
       "17. 'y'\n",
       "18. 'i'\n",
       "19. 'n'\n",
       "20. 'g'\n",
       "21. ' '\n",
       "22. 'p'\n",
       "23. 'r'\n",
       "24. 'o'\n",
       "25. 'g'\n",
       "26. 'r'\n",
       "27. 'a'\n",
       "28. 'm'\n",
       "29. 'm'\n",
       "30. 'i'\n",
       "31. 'n'\n",
       "32. 'g'\n",
       "33. ' '\n",
       "34. 'w'\n",
       "35. 'i'\n",
       "36. 't'\n",
       "37. 'h'\n",
       "38. ' '\n",
       "39. 'R'\n",
       "\n",
       "\n",
       "\n",
       "\n",
       "\n"
      ],
      "text/plain": [
       "[[1]]\n",
       " [1] \"H\" \"e\" \"l\" \"l\" \"o\" \".\" \" \" \"I\" \" \" \"a\" \"m\" \" \" \"e\" \"n\" \"j\" \"o\" \"y\" \"i\" \"n\"\n",
       "[20] \"g\" \" \" \"p\" \"r\" \"o\" \"g\" \"r\" \"a\" \"m\" \"m\" \"i\" \"n\" \"g\" \" \" \"w\" \"i\" \"t\" \"h\" \" \"\n",
       "[39] \"R\"\n"
      ]
     },
     "metadata": {},
     "output_type": "display_data"
    }
   ],
   "source": [
    "strsplit(str,\"\")"
   ]
  },
  {
   "cell_type": "code",
   "execution_count": 133,
   "metadata": {},
   "outputs": [
    {
     "data": {
      "text/html": [
       "<ol>\n",
       "\t<li><ol class=list-inline>\n",
       "\t<li>'Hello.'</li>\n",
       "\t<li>'I'</li>\n",
       "\t<li>'am'</li>\n",
       "\t<li>'enjoying'</li>\n",
       "\t<li>'programming'</li>\n",
       "\t<li>'with'</li>\n",
       "\t<li>'R'</li>\n",
       "</ol>\n",
       "</li>\n",
       "</ol>\n"
      ],
      "text/latex": [
       "\\begin{enumerate}\n",
       "\\item \\begin{enumerate*}\n",
       "\\item 'Hello.'\n",
       "\\item 'I'\n",
       "\\item 'am'\n",
       "\\item 'enjoying'\n",
       "\\item 'programming'\n",
       "\\item 'with'\n",
       "\\item 'R'\n",
       "\\end{enumerate*}\n",
       "\n",
       "\\end{enumerate}\n"
      ],
      "text/markdown": [
       "1. 1. 'Hello.'\n",
       "2. 'I'\n",
       "3. 'am'\n",
       "4. 'enjoying'\n",
       "5. 'programming'\n",
       "6. 'with'\n",
       "7. 'R'\n",
       "\n",
       "\n",
       "\n",
       "\n",
       "\n"
      ],
      "text/plain": [
       "[[1]]\n",
       "[1] \"Hello.\"      \"I\"           \"am\"          \"enjoying\"    \"programming\"\n",
       "[6] \"with\"        \"R\"          \n"
      ]
     },
     "metadata": {},
     "output_type": "display_data"
    }
   ],
   "source": [
    "strsplit(str,\" \")"
   ]
  },
  {
   "cell_type": "markdown",
   "metadata": {},
   "source": [
    "## Notice that the unusual first line of strsplit()’s output consists of [[1]]. Similar to the way that R displays vectors, [[1]] means that R is showing the first component of a list. Lists are extremely important concepts in R; they allow you to combine all kinds of variables. In the preceding example, this list has only a single component. Yes, that’s right: The list has one component, but that component is a vector. To extract a component from a list, you have to use double square brackets. "
   ]
  },
  {
   "cell_type": "code",
   "execution_count": 135,
   "metadata": {},
   "outputs": [
    {
     "data": {
      "text/html": [
       "<ol class=list-inline>\n",
       "\t<li>'Hello.'</li>\n",
       "\t<li>'I'</li>\n",
       "\t<li>'am'</li>\n",
       "\t<li>'enjoying'</li>\n",
       "\t<li>'programming'</li>\n",
       "\t<li>'with'</li>\n",
       "\t<li>'R'</li>\n",
       "</ol>\n"
      ],
      "text/latex": [
       "\\begin{enumerate*}\n",
       "\\item 'Hello.'\n",
       "\\item 'I'\n",
       "\\item 'am'\n",
       "\\item 'enjoying'\n",
       "\\item 'programming'\n",
       "\\item 'with'\n",
       "\\item 'R'\n",
       "\\end{enumerate*}\n"
      ],
      "text/markdown": [
       "1. 'Hello.'\n",
       "2. 'I'\n",
       "3. 'am'\n",
       "4. 'enjoying'\n",
       "5. 'programming'\n",
       "6. 'with'\n",
       "7. 'R'\n",
       "\n",
       "\n"
      ],
      "text/plain": [
       "[1] \"Hello.\"      \"I\"           \"am\"          \"enjoying\"    \"programming\"\n",
       "[6] \"with\"        \"R\"          "
      ]
     },
     "metadata": {},
     "output_type": "display_data"
    }
   ],
   "source": [
    "strsplit(str,\" \")[[1]]"
   ]
  },
  {
   "cell_type": "code",
   "execution_count": 136,
   "metadata": {},
   "outputs": [],
   "source": [
    "words<-\"ProGraM\""
   ]
  },
  {
   "cell_type": "code",
   "execution_count": 137,
   "metadata": {},
   "outputs": [
    {
     "data": {
      "text/html": [
       "'program'"
      ],
      "text/latex": [
       "'program'"
      ],
      "text/markdown": [
       "'program'"
      ],
      "text/plain": [
       "[1] \"program\""
      ]
     },
     "metadata": {},
     "output_type": "display_data"
    }
   ],
   "source": [
    "unique(tolower(words))"
   ]
  },
  {
   "cell_type": "code",
   "execution_count": 138,
   "metadata": {},
   "outputs": [
    {
     "data": {
      "text/html": [
       "'PROGRAM'"
      ],
      "text/latex": [
       "'PROGRAM'"
      ],
      "text/markdown": [
       "'PROGRAM'"
      ],
      "text/plain": [
       "[1] \"PROGRAM\""
      ]
     },
     "metadata": {},
     "output_type": "display_data"
    }
   ],
   "source": [
    "unique(toupper(words))"
   ]
  },
  {
   "cell_type": "markdown",
   "metadata": {},
   "source": [
    "# To concatenate text, use the paste() function"
   ]
  },
  {
   "cell_type": "code",
   "execution_count": 140,
   "metadata": {},
   "outputs": [
    {
     "data": {
      "text/html": [
       "'Hello. I am enjoying programming with R'"
      ],
      "text/latex": [
       "'Hello. I am enjoying programming with R'"
      ],
      "text/markdown": [
       "'Hello. I am enjoying programming with R'"
      ],
      "text/plain": [
       "[1] \"Hello. I am enjoying programming with R\""
      ]
     },
     "metadata": {},
     "output_type": "display_data"
    }
   ],
   "source": [
    "paste('Hello.', 'I' ,'am', 'enjoying' ,'programming' ,'with', 'R')"
   ]
  },
  {
   "cell_type": "code",
   "execution_count": 141,
   "metadata": {},
   "outputs": [
    {
     "data": {
      "text/html": [
       "<ol class=list-inline>\n",
       "\t<li>'course 1'</li>\n",
       "\t<li>'course 2'</li>\n",
       "\t<li>'course 3'</li>\n",
       "\t<li>'course 4'</li>\n",
       "\t<li>'course 5'</li>\n",
       "</ol>\n"
      ],
      "text/latex": [
       "\\begin{enumerate*}\n",
       "\\item 'course 1'\n",
       "\\item 'course 2'\n",
       "\\item 'course 3'\n",
       "\\item 'course 4'\n",
       "\\item 'course 5'\n",
       "\\end{enumerate*}\n"
      ],
      "text/markdown": [
       "1. 'course 1'\n",
       "2. 'course 2'\n",
       "3. 'course 3'\n",
       "4. 'course 4'\n",
       "5. 'course 5'\n",
       "\n",
       "\n"
      ],
      "text/plain": [
       "[1] \"course 1\" \"course 2\" \"course 3\" \"course 4\" \"course 5\""
      ]
     },
     "metadata": {},
     "output_type": "display_data"
    }
   ],
   "source": [
    "paste(\"course\",1:5)"
   ]
  },
  {
   "cell_type": "code",
   "execution_count": 142,
   "metadata": {},
   "outputs": [],
   "source": [
    "words<-c('Hello.', 'I' ,'am', 'enjoying' ,'programming' ,'with', 'R')"
   ]
  },
  {
   "cell_type": "code",
   "execution_count": 143,
   "metadata": {},
   "outputs": [
    {
     "data": {
      "text/html": [
       "<ol class=list-inline>\n",
       "\t<li>'Hello.'</li>\n",
       "\t<li>'I'</li>\n",
       "\t<li>'am'</li>\n",
       "\t<li>'enjoying'</li>\n",
       "\t<li>'programming'</li>\n",
       "\t<li>'with'</li>\n",
       "\t<li>'R'</li>\n",
       "</ol>\n"
      ],
      "text/latex": [
       "\\begin{enumerate*}\n",
       "\\item 'Hello.'\n",
       "\\item 'I'\n",
       "\\item 'am'\n",
       "\\item 'enjoying'\n",
       "\\item 'programming'\n",
       "\\item 'with'\n",
       "\\item 'R'\n",
       "\\end{enumerate*}\n"
      ],
      "text/markdown": [
       "1. 'Hello.'\n",
       "2. 'I'\n",
       "3. 'am'\n",
       "4. 'enjoying'\n",
       "5. 'programming'\n",
       "6. 'with'\n",
       "7. 'R'\n",
       "\n",
       "\n"
      ],
      "text/plain": [
       "[1] \"Hello.\"      \"I\"           \"am\"          \"enjoying\"    \"programming\"\n",
       "[6] \"with\"        \"R\"          "
      ]
     },
     "metadata": {},
     "output_type": "display_data"
    }
   ],
   "source": [
    "paste(words)"
   ]
  },
  {
   "cell_type": "code",
   "execution_count": 147,
   "metadata": {},
   "outputs": [
    {
     "data": {
      "text/html": [
       "'Hello. I am enjoying programming with R'"
      ],
      "text/latex": [
       "'Hello. I am enjoying programming with R'"
      ],
      "text/markdown": [
       "'Hello. I am enjoying programming with R'"
      ],
      "text/plain": [
       "[1] \"Hello. I am enjoying programming with R\""
      ]
     },
     "metadata": {},
     "output_type": "display_data"
    }
   ],
   "source": [
    "paste(words, collapse=\" \")"
   ]
  },
  {
   "cell_type": "code",
   "execution_count": 145,
   "metadata": {},
   "outputs": [
    {
     "data": {
      "text/html": [
       "'Hello.*I*am*enjoying*programming*with*R'"
      ],
      "text/latex": [
       "'Hello.*I*am*enjoying*programming*with*R'"
      ],
      "text/markdown": [
       "'Hello.*I*am*enjoying*programming*with*R'"
      ],
      "text/plain": [
       "[1] \"Hello.*I*am*enjoying*programming*with*R\""
      ]
     },
     "metadata": {},
     "output_type": "display_data"
    }
   ],
   "source": [
    "paste(words, collapse=\"*\")"
   ]
  },
  {
   "cell_type": "code",
   "execution_count": 146,
   "metadata": {},
   "outputs": [
    {
     "data": {
      "text/html": [
       "'Hello._I_am_enjoying_programming_with_R'"
      ],
      "text/latex": [
       "'Hello.\\_I\\_am\\_enjoying\\_programming\\_with\\_R'"
      ],
      "text/markdown": [
       "'Hello._I_am_enjoying_programming_with_R'"
      ],
      "text/plain": [
       "[1] \"Hello._I_am_enjoying_programming_with_R\""
      ]
     },
     "metadata": {},
     "output_type": "display_data"
    }
   ],
   "source": [
    "paste(words, collapse=\"_\")"
   ]
  },
  {
   "cell_type": "code",
   "execution_count": 148,
   "metadata": {},
   "outputs": [
    {
     "data": {
      "text/html": [
       "<ol class=list-inline>\n",
       "\t<li>'A 1'</li>\n",
       "\t<li>'B 2'</li>\n",
       "\t<li>'C 3'</li>\n",
       "\t<li>'D 4'</li>\n",
       "\t<li>'E 5'</li>\n",
       "</ol>\n"
      ],
      "text/latex": [
       "\\begin{enumerate*}\n",
       "\\item 'A 1'\n",
       "\\item 'B 2'\n",
       "\\item 'C 3'\n",
       "\\item 'D 4'\n",
       "\\item 'E 5'\n",
       "\\end{enumerate*}\n"
      ],
      "text/markdown": [
       "1. 'A 1'\n",
       "2. 'B 2'\n",
       "3. 'C 3'\n",
       "4. 'D 4'\n",
       "5. 'E 5'\n",
       "\n",
       "\n"
      ],
      "text/plain": [
       "[1] \"A 1\" \"B 2\" \"C 3\" \"D 4\" \"E 5\""
      ]
     },
     "metadata": {},
     "output_type": "display_data"
    }
   ],
   "source": [
    "paste(LETTERS[1:5],1:5)"
   ]
  },
  {
   "cell_type": "code",
   "execution_count": 149,
   "metadata": {},
   "outputs": [
    {
     "data": {
      "text/html": [
       "<ol class=list-inline>\n",
       "\t<li>'am'</li>\n",
       "\t<li>'enjoying'</li>\n",
       "\t<li>'Hello.'</li>\n",
       "\t<li>'I'</li>\n",
       "\t<li>'programming'</li>\n",
       "\t<li>'R'</li>\n",
       "\t<li>'with'</li>\n",
       "</ol>\n"
      ],
      "text/latex": [
       "\\begin{enumerate*}\n",
       "\\item 'am'\n",
       "\\item 'enjoying'\n",
       "\\item 'Hello.'\n",
       "\\item 'I'\n",
       "\\item 'programming'\n",
       "\\item 'R'\n",
       "\\item 'with'\n",
       "\\end{enumerate*}\n"
      ],
      "text/markdown": [
       "1. 'am'\n",
       "2. 'enjoying'\n",
       "3. 'Hello.'\n",
       "4. 'I'\n",
       "5. 'programming'\n",
       "6. 'R'\n",
       "7. 'with'\n",
       "\n",
       "\n"
      ],
      "text/plain": [
       "[1] \"am\"          \"enjoying\"    \"Hello.\"      \"I\"           \"programming\"\n",
       "[6] \"R\"           \"with\"       "
      ]
     },
     "metadata": {},
     "output_type": "display_data"
    }
   ],
   "source": [
    "sort(words)"
   ]
  },
  {
   "cell_type": "code",
   "execution_count": null,
   "metadata": {},
   "outputs": [],
   "source": []
  }
 ],
 "metadata": {
  "kernelspec": {
   "display_name": "R",
   "language": "R",
   "name": "ir"
  },
  "language_info": {
   "codemirror_mode": "r",
   "file_extension": ".r",
   "mimetype": "text/x-r-source",
   "name": "R",
   "pygments_lexer": "r",
   "version": "3.6.1"
  }
 },
 "nbformat": 4,
 "nbformat_minor": 2
}
