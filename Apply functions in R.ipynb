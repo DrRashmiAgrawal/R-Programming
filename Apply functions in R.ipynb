{
 "cells": [
  {
   "cell_type": "markdown",
   "metadata": {},
   "source": [
    "# Apply functions"
   ]
  },
  {
   "cell_type": "markdown",
   "metadata": {},
   "source": [
    "# lapply() function is useful for performing operations on list objects and returns a list object of same length of original set. "
   ]
  },
  {
   "cell_type": "code",
   "execution_count": null,
   "metadata": {},
   "outputs": [],
   "source": []
  },
  {
   "cell_type": "markdown",
   "metadata": {},
   "source": []
  },
  {
   "cell_type": "code",
   "execution_count": null,
   "metadata": {},
   "outputs": [],
   "source": []
  },
  {
   "cell_type": "code",
   "execution_count": null,
   "metadata": {},
   "outputs": [],
   "source": []
  },
  {
   "cell_type": "markdown",
   "metadata": {},
   "source": [
    "# runif can be used to produce random numbers; runif does not stand for run if. runif(n) generates n uniform random numbers between 0 and 1. runif(n, a, b) generates n uniform random numbers between a and b ."
   ]
  },
  {
   "cell_type": "code",
   "execution_count": 6,
   "metadata": {},
   "outputs": [
    {
     "data": {
      "text/html": [
       "<ol class=list-inline>\n",
       "\t<li>0.631136554293334</li>\n",
       "\t<li>0.596176321152598</li>\n",
       "\t<li>0.113022556295618</li>\n",
       "\t<li>0.5735289871227</li>\n",
       "\t<li>0.136564004700631</li>\n",
       "</ol>\n"
      ],
      "text/latex": [
       "\\begin{enumerate*}\n",
       "\\item 0.631136554293334\n",
       "\\item 0.596176321152598\n",
       "\\item 0.113022556295618\n",
       "\\item 0.5735289871227\n",
       "\\item 0.136564004700631\n",
       "\\end{enumerate*}\n"
      ],
      "text/markdown": [
       "1. 0.631136554293334\n",
       "2. 0.596176321152598\n",
       "3. 0.113022556295618\n",
       "4. 0.5735289871227\n",
       "5. 0.136564004700631\n",
       "\n",
       "\n"
      ],
      "text/plain": [
       "[1] 0.6311366 0.5961763 0.1130226 0.5735290 0.1365640"
      ]
     },
     "metadata": {},
     "output_type": "display_data"
    }
   ],
   "source": [
    "runif(5)"
   ]
  },
  {
   "cell_type": "code",
   "execution_count": 8,
   "metadata": {},
   "outputs": [
    {
     "data": {
      "text/html": [
       "<table>\n",
       "<tbody>\n",
       "\t<tr><td>1 </td><td> 6</td><td>1 </td><td> 6</td><td>1 </td><td> 6</td></tr>\n",
       "\t<tr><td>2 </td><td> 7</td><td>2 </td><td> 7</td><td>2 </td><td> 7</td></tr>\n",
       "\t<tr><td>3 </td><td> 8</td><td>3 </td><td> 8</td><td>3 </td><td> 8</td></tr>\n",
       "\t<tr><td>4 </td><td> 9</td><td>4 </td><td> 9</td><td>4 </td><td> 9</td></tr>\n",
       "\t<tr><td>5 </td><td>10</td><td>5 </td><td>10</td><td>5 </td><td>10</td></tr>\n",
       "</tbody>\n",
       "</table>\n"
      ],
      "text/latex": [
       "\\begin{tabular}{llllll}\n",
       "\t 1  &  6 & 1  &  6 & 1  &  6\\\\\n",
       "\t 2  &  7 & 2  &  7 & 2  &  7\\\\\n",
       "\t 3  &  8 & 3  &  8 & 3  &  8\\\\\n",
       "\t 4  &  9 & 4  &  9 & 4  &  9\\\\\n",
       "\t 5  & 10 & 5  & 10 & 5  & 10\\\\\n",
       "\\end{tabular}\n"
      ],
      "text/markdown": [
       "\n",
       "| 1  |  6 | 1  |  6 | 1  |  6 |\n",
       "| 2  |  7 | 2  |  7 | 2  |  7 |\n",
       "| 3  |  8 | 3  |  8 | 3  |  8 |\n",
       "| 4  |  9 | 4  |  9 | 4  |  9 |\n",
       "| 5  | 10 | 5  | 10 | 5  | 10 |\n",
       "\n"
      ],
      "text/plain": [
       "     [,1] [,2] [,3] [,4] [,5] [,6]\n",
       "[1,] 1     6   1     6   1     6  \n",
       "[2,] 2     7   2     7   2     7  \n",
       "[3,] 3     8   3     8   3     8  \n",
       "[4,] 4     9   4     9   4     9  \n",
       "[5,] 5    10   5    10   5    10  "
      ]
     },
     "metadata": {},
     "output_type": "display_data"
    }
   ],
   "source": [
    "\n"
   ]
  },
  {
   "cell_type": "markdown",
   "metadata": {},
   "source": [
    "# Using apply in R\n",
    "\n",
    "We start with the godfather of the family, apply, which operates on arrays (for simplicity we limit here to 2D arrays, aka, matrices). The R base manual tells us that it’s called as follows: apply(X, MARGIN, FUN, ...)\n",
    "where:\n",
    "\n",
    "    X is an array (a matrix if the dimension of the array is 2);\n",
    "    MARGIN is a variable defining how the function is applied: when MARGIN=1, it applies over rows, whereas with MARGIN=2, it works over columns. Noticeably, with the construct MARGIN=c(1,2) it applies to both rows and columns;\n",
    "    FUN is the function we want to apply and can be any R function, including a User Defined Function (more on functions in a separate post)"
   ]
  },
  {
   "cell_type": "code",
   "execution_count": 11,
   "metadata": {},
   "outputs": [
    {
     "data": {
      "text/html": [
       "<table>\n",
       "<tbody>\n",
       "\t<tr><td>1 </td><td> 6</td><td>21</td><td>26</td></tr>\n",
       "\t<tr><td>2 </td><td> 7</td><td>22</td><td>27</td></tr>\n",
       "\t<tr><td>3 </td><td> 8</td><td>23</td><td>28</td></tr>\n",
       "\t<tr><td>4 </td><td> 9</td><td>24</td><td>29</td></tr>\n",
       "\t<tr><td>5 </td><td>10</td><td>25</td><td>30</td></tr>\n",
       "</tbody>\n",
       "</table>\n"
      ],
      "text/latex": [
       "\\begin{tabular}{llll}\n",
       "\t 1  &  6 & 21 & 26\\\\\n",
       "\t 2  &  7 & 22 & 27\\\\\n",
       "\t 3  &  8 & 23 & 28\\\\\n",
       "\t 4  &  9 & 24 & 29\\\\\n",
       "\t 5  & 10 & 25 & 30\\\\\n",
       "\\end{tabular}\n"
      ],
      "text/markdown": [
       "\n",
       "| 1  |  6 | 21 | 26 |\n",
       "| 2  |  7 | 22 | 27 |\n",
       "| 3  |  8 | 23 | 28 |\n",
       "| 4  |  9 | 24 | 29 |\n",
       "| 5  | 10 | 25 | 30 |\n",
       "\n"
      ],
      "text/plain": [
       "     [,1] [,2] [,3] [,4]\n",
       "[1,] 1     6   21   26  \n",
       "[2,] 2     7   22   27  \n",
       "[3,] 3     8   23   28  \n",
       "[4,] 4     9   24   29  \n",
       "[5,] 5    10   25   30  "
      ]
     },
     "metadata": {},
     "output_type": "display_data"
    }
   ],
   "source": [
    "data <- matrix(c(1:10, 21:30), nrow = 5, ncol = 4)\n",
    "data"
   ]
  },
  {
   "cell_type": "code",
   "execution_count": 12,
   "metadata": {},
   "outputs": [
    {
     "data": {
      "text/html": [
       "<ol class=list-inline>\n",
       "\t<li>13.5</li>\n",
       "\t<li>14.5</li>\n",
       "\t<li>15.5</li>\n",
       "\t<li>16.5</li>\n",
       "\t<li>17.5</li>\n",
       "</ol>\n"
      ],
      "text/latex": [
       "\\begin{enumerate*}\n",
       "\\item 13.5\n",
       "\\item 14.5\n",
       "\\item 15.5\n",
       "\\item 16.5\n",
       "\\item 17.5\n",
       "\\end{enumerate*}\n"
      ],
      "text/markdown": [
       "1. 13.5\n",
       "2. 14.5\n",
       "3. 15.5\n",
       "4. 16.5\n",
       "5. 17.5\n",
       "\n",
       "\n"
      ],
      "text/plain": [
       "[1] 13.5 14.5 15.5 16.5 17.5"
      ]
     },
     "metadata": {},
     "output_type": "display_data"
    }
   ],
   "source": [
    "apply(data, 1, mean)"
   ]
  },
  {
   "cell_type": "code",
   "execution_count": 13,
   "metadata": {},
   "outputs": [
    {
     "data": {
      "text/html": [
       "<ol class=list-inline>\n",
       "\t<li>3</li>\n",
       "\t<li>8</li>\n",
       "\t<li>23</li>\n",
       "\t<li>28</li>\n",
       "</ol>\n"
      ],
      "text/latex": [
       "\\begin{enumerate*}\n",
       "\\item 3\n",
       "\\item 8\n",
       "\\item 23\n",
       "\\item 28\n",
       "\\end{enumerate*}\n"
      ],
      "text/markdown": [
       "1. 3\n",
       "2. 8\n",
       "3. 23\n",
       "4. 28\n",
       "\n",
       "\n"
      ],
      "text/plain": [
       "[1]  3  8 23 28"
      ]
     },
     "metadata": {},
     "output_type": "display_data"
    }
   ],
   "source": [
    "apply(data, 2, mean)"
   ]
  },
  {
   "cell_type": "code",
   "execution_count": 15,
   "metadata": {},
   "outputs": [
    {
     "data": {
      "text/html": [
       "<table>\n",
       "<tbody>\n",
       "\t<tr><td>1 </td><td> 6</td><td>1 </td><td> 6</td><td>1 </td><td> 6</td></tr>\n",
       "\t<tr><td>2 </td><td> 7</td><td>2 </td><td> 7</td><td>2 </td><td> 7</td></tr>\n",
       "\t<tr><td>3 </td><td> 8</td><td>3 </td><td> 8</td><td>3 </td><td> 8</td></tr>\n",
       "\t<tr><td>4 </td><td> 9</td><td>4 </td><td> 9</td><td>4 </td><td> 9</td></tr>\n",
       "\t<tr><td>5 </td><td>10</td><td>5 </td><td>10</td><td>5 </td><td>10</td></tr>\n",
       "</tbody>\n",
       "</table>\n"
      ],
      "text/latex": [
       "\\begin{tabular}{llllll}\n",
       "\t 1  &  6 & 1  &  6 & 1  &  6\\\\\n",
       "\t 2  &  7 & 2  &  7 & 2  &  7\\\\\n",
       "\t 3  &  8 & 3  &  8 & 3  &  8\\\\\n",
       "\t 4  &  9 & 4  &  9 & 4  &  9\\\\\n",
       "\t 5  & 10 & 5  & 10 & 5  & 10\\\\\n",
       "\\end{tabular}\n"
      ],
      "text/markdown": [
       "\n",
       "| 1  |  6 | 1  |  6 | 1  |  6 |\n",
       "| 2  |  7 | 2  |  7 | 2  |  7 |\n",
       "| 3  |  8 | 3  |  8 | 3  |  8 |\n",
       "| 4  |  9 | 4  |  9 | 4  |  9 |\n",
       "| 5  | 10 | 5  | 10 | 5  | 10 |\n",
       "\n"
      ],
      "text/plain": [
       "     [,1] [,2] [,3] [,4] [,5] [,6]\n",
       "[1,] 1     6   1     6   1     6  \n",
       "[2,] 2     7   2     7   2     7  \n",
       "[3,] 3     8   3     8   3     8  \n",
       "[4,] 4     9   4     9   4     9  \n",
       "[5,] 5    10   5    10   5    10  "
      ]
     },
     "metadata": {},
     "output_type": "display_data"
    }
   ],
   "source": [
    "m1 <- matrix(C<-(1:10),nrow=5, ncol=6)\n",
    "m1"
   ]
  },
  {
   "cell_type": "code",
   "execution_count": 14,
   "metadata": {},
   "outputs": [
    {
     "data": {
      "text/html": [
       "<ol class=list-inline>\n",
       "\t<li>15</li>\n",
       "\t<li>40</li>\n",
       "\t<li>15</li>\n",
       "\t<li>40</li>\n",
       "\t<li>15</li>\n",
       "\t<li>40</li>\n",
       "</ol>\n"
      ],
      "text/latex": [
       "\\begin{enumerate*}\n",
       "\\item 15\n",
       "\\item 40\n",
       "\\item 15\n",
       "\\item 40\n",
       "\\item 15\n",
       "\\item 40\n",
       "\\end{enumerate*}\n"
      ],
      "text/markdown": [
       "1. 15\n",
       "2. 40\n",
       "3. 15\n",
       "4. 40\n",
       "5. 15\n",
       "6. 40\n",
       "\n",
       "\n"
      ],
      "text/plain": [
       "[1] 15 40 15 40 15 40"
      ]
     },
     "metadata": {},
     "output_type": "display_data"
    }
   ],
   "source": [
    "a_m1 <- apply(m1, 2, sum)\n",
    "a_m1"
   ]
  },
  {
   "cell_type": "code",
   "execution_count": 16,
   "metadata": {},
   "outputs": [
    {
     "data": {
      "text/html": [
       "<ol class=list-inline>\n",
       "\t<li>21</li>\n",
       "\t<li>27</li>\n",
       "\t<li>33</li>\n",
       "\t<li>39</li>\n",
       "\t<li>45</li>\n",
       "</ol>\n"
      ],
      "text/latex": [
       "\\begin{enumerate*}\n",
       "\\item 21\n",
       "\\item 27\n",
       "\\item 33\n",
       "\\item 39\n",
       "\\item 45\n",
       "\\end{enumerate*}\n"
      ],
      "text/markdown": [
       "1. 21\n",
       "2. 27\n",
       "3. 33\n",
       "4. 39\n",
       "5. 45\n",
       "\n",
       "\n"
      ],
      "text/plain": [
       "[1] 21 27 33 39 45"
      ]
     },
     "metadata": {},
     "output_type": "display_data"
    }
   ],
   "source": [
    "a_m1 <- apply(m1, 1, sum)\n",
    "a_m1"
   ]
  },
  {
   "cell_type": "markdown",
   "metadata": {},
   "source": [
    "# lapply() function"
   ]
  },
  {
   "cell_type": "markdown",
   "metadata": {},
   "source": [
    "# lapply() function is useful for performing operations on list objects and returns a list object of same length of original set. lapply() returns a list of the similar length as input list object, each element of which is the result of applying FUN to the corresponding element of list. lapply() takes list, vector or data frame as input and gives output in list. "
   ]
  },
  {
   "cell_type": "code",
   "execution_count": 17,
   "metadata": {},
   "outputs": [
    {
     "name": "stdout",
     "output_type": "stream",
     "text": [
      "List of 4\n",
      " $ : chr \"spyderman\"\n",
      " $ : chr \"batman\"\n",
      " $ : chr \"vertigo\"\n",
      " $ : chr \"chinatown\"\n"
     ]
    }
   ],
   "source": [
    "movies <- c(\"SPYDERMAN\",\"BATMAN\",\"VERTIGO\",\"CHINATOWN\")\n",
    "movies_lower <-lapply(movies, tolower)\n",
    "str(movies_lower)"
   ]
  },
  {
   "cell_type": "code",
   "execution_count": 18,
   "metadata": {},
   "outputs": [
    {
     "data": {
      "text/html": [
       "<ol>\n",
       "\t<li>'spyderman'</li>\n",
       "\t<li>'batman'</li>\n",
       "\t<li>'vertigo'</li>\n",
       "\t<li>'chinatown'</li>\n",
       "</ol>\n"
      ],
      "text/latex": [
       "\\begin{enumerate}\n",
       "\\item 'spyderman'\n",
       "\\item 'batman'\n",
       "\\item 'vertigo'\n",
       "\\item 'chinatown'\n",
       "\\end{enumerate}\n"
      ],
      "text/markdown": [
       "1. 'spyderman'\n",
       "2. 'batman'\n",
       "3. 'vertigo'\n",
       "4. 'chinatown'\n",
       "\n",
       "\n"
      ],
      "text/plain": [
       "[[1]]\n",
       "[1] \"spyderman\"\n",
       "\n",
       "[[2]]\n",
       "[1] \"batman\"\n",
       "\n",
       "[[3]]\n",
       "[1] \"vertigo\"\n",
       "\n",
       "[[4]]\n",
       "[1] \"chinatown\"\n"
      ]
     },
     "metadata": {},
     "output_type": "display_data"
    }
   ],
   "source": [
    "movies_lower"
   ]
  },
  {
   "cell_type": "markdown",
   "metadata": {},
   "source": [
    "# we can use lapply to apply a function to each element in the list. "
   ]
  },
  {
   "cell_type": "code",
   "execution_count": 19,
   "metadata": {},
   "outputs": [
    {
     "data": {
      "text/html": [
       "<dl>\n",
       "\t<dt>$x</dt>\n",
       "\t\t<dd><ol class=list-inline>\n",
       "\t<li>1</li>\n",
       "\t<li>2</li>\n",
       "\t<li>3</li>\n",
       "\t<li>4</li>\n",
       "\t<li>5</li>\n",
       "</ol>\n",
       "</dd>\n",
       "\t<dt>$y</dt>\n",
       "\t\t<dd><ol class=list-inline>\n",
       "\t<li>6</li>\n",
       "\t<li>7</li>\n",
       "\t<li>8</li>\n",
       "\t<li>9</li>\n",
       "\t<li>10</li>\n",
       "</ol>\n",
       "</dd>\n",
       "\t<dt>$z</dt>\n",
       "\t\t<dd><ol class=list-inline>\n",
       "\t<li>11</li>\n",
       "\t<li>12</li>\n",
       "\t<li>13</li>\n",
       "\t<li>14</li>\n",
       "\t<li>15</li>\n",
       "</ol>\n",
       "</dd>\n",
       "</dl>\n"
      ],
      "text/latex": [
       "\\begin{description}\n",
       "\\item[\\$x] \\begin{enumerate*}\n",
       "\\item 1\n",
       "\\item 2\n",
       "\\item 3\n",
       "\\item 4\n",
       "\\item 5\n",
       "\\end{enumerate*}\n",
       "\n",
       "\\item[\\$y] \\begin{enumerate*}\n",
       "\\item 6\n",
       "\\item 7\n",
       "\\item 8\n",
       "\\item 9\n",
       "\\item 10\n",
       "\\end{enumerate*}\n",
       "\n",
       "\\item[\\$z] \\begin{enumerate*}\n",
       "\\item 11\n",
       "\\item 12\n",
       "\\item 13\n",
       "\\item 14\n",
       "\\item 15\n",
       "\\end{enumerate*}\n",
       "\n",
       "\\end{description}\n"
      ],
      "text/markdown": [
       "$x\n",
       ":   1. 1\n",
       "2. 2\n",
       "3. 3\n",
       "4. 4\n",
       "5. 5\n",
       "\n",
       "\n",
       "\n",
       "$y\n",
       ":   1. 6\n",
       "2. 7\n",
       "3. 8\n",
       "4. 9\n",
       "5. 10\n",
       "\n",
       "\n",
       "\n",
       "$z\n",
       ":   1. 11\n",
       "2. 12\n",
       "3. 13\n",
       "4. 14\n",
       "5. 15\n",
       "\n",
       "\n",
       "\n",
       "\n",
       "\n"
      ],
      "text/plain": [
       "$x\n",
       "[1] 1 2 3 4 5\n",
       "\n",
       "$y\n",
       "[1]  6  7  8  9 10\n",
       "\n",
       "$z\n",
       "[1] 11 12 13 14 15\n"
      ]
     },
     "metadata": {},
     "output_type": "display_data"
    }
   ],
   "source": [
    "data <- list(x = 1:5, y = 6:10, z = 11:15)\n",
    "data"
   ]
  },
  {
   "cell_type": "code",
   "execution_count": 20,
   "metadata": {},
   "outputs": [
    {
     "data": {
      "text/html": [
       "<dl>\n",
       "\t<dt>$x</dt>\n",
       "\t\t<dd>3</dd>\n",
       "\t<dt>$y</dt>\n",
       "\t\t<dd>8</dd>\n",
       "\t<dt>$z</dt>\n",
       "\t\t<dd>13</dd>\n",
       "</dl>\n"
      ],
      "text/latex": [
       "\\begin{description}\n",
       "\\item[\\$x] 3\n",
       "\\item[\\$y] 8\n",
       "\\item[\\$z] 13\n",
       "\\end{description}\n"
      ],
      "text/markdown": [
       "$x\n",
       ":   3\n",
       "$y\n",
       ":   8\n",
       "$z\n",
       ":   13\n",
       "\n",
       "\n"
      ],
      "text/plain": [
       "$x\n",
       "[1] 3\n",
       "\n",
       "$y\n",
       "[1] 8\n",
       "\n",
       "$z\n",
       "[1] 13\n"
      ]
     },
     "metadata": {},
     "output_type": "display_data"
    }
   ],
   "source": [
    "lapply(data,  median)"
   ]
  },
  {
   "cell_type": "markdown",
   "metadata": {},
   "source": [
    "# sapply\n",
    "\n",
    "sapply is the same as lapply, but returns a vector instead of a list."
   ]
  },
  {
   "cell_type": "code",
   "execution_count": 21,
   "metadata": {},
   "outputs": [
    {
     "data": {
      "text/html": [
       "<dl class=dl-horizontal>\n",
       "\t<dt>x</dt>\n",
       "\t\t<dd>3</dd>\n",
       "\t<dt>y</dt>\n",
       "\t\t<dd>8</dd>\n",
       "\t<dt>z</dt>\n",
       "\t\t<dd>13</dd>\n",
       "</dl>\n"
      ],
      "text/latex": [
       "\\begin{description*}\n",
       "\\item[x] 3\n",
       "\\item[y] 8\n",
       "\\item[z] 13\n",
       "\\end{description*}\n"
      ],
      "text/markdown": [
       "x\n",
       ":   3y\n",
       ":   8z\n",
       ":   13\n",
       "\n"
      ],
      "text/plain": [
       " x  y  z \n",
       " 3  8 13 "
      ]
     },
     "metadata": {},
     "output_type": "display_data"
    }
   ],
   "source": [
    "sapply(data, FUN = median)"
   ]
  },
  {
   "cell_type": "code",
   "execution_count": 22,
   "metadata": {},
   "outputs": [
    {
     "data": {
      "text/html": [
       "<ol class=list-inline>\n",
       "\t<li>1</li>\n",
       "\t<li>2</li>\n",
       "\t<li>3</li>\n",
       "\t<li>4</li>\n",
       "\t<li>5</li>\n",
       "\t<li>6</li>\n",
       "\t<li>7</li>\n",
       "\t<li>8</li>\n",
       "\t<li>9</li>\n",
       "\t<li>10</li>\n",
       "</ol>\n"
      ],
      "text/latex": [
       "\\begin{enumerate*}\n",
       "\\item 1\n",
       "\\item 2\n",
       "\\item 3\n",
       "\\item 4\n",
       "\\item 5\n",
       "\\item 6\n",
       "\\item 7\n",
       "\\item 8\n",
       "\\item 9\n",
       "\\item 10\n",
       "\\end{enumerate*}\n"
      ],
      "text/markdown": [
       "1. 1\n",
       "2. 2\n",
       "3. 3\n",
       "4. 4\n",
       "5. 5\n",
       "6. 6\n",
       "7. 7\n",
       "8. 8\n",
       "9. 9\n",
       "10. 10\n",
       "\n",
       "\n"
      ],
      "text/plain": [
       " [1]  1  2  3  4  5  6  7  8  9 10"
      ]
     },
     "metadata": {},
     "output_type": "display_data"
    }
   ],
   "source": [
    "vec <- c(1:10)\n",
    "vec"
   ]
  },
  {
   "cell_type": "code",
   "execution_count": 23,
   "metadata": {},
   "outputs": [
    {
     "ename": "ERROR",
     "evalue": "Error in apply(vec, 1, sum): dim(X) must have a positive length\n",
     "output_type": "error",
     "traceback": [
      "Error in apply(vec, 1, sum): dim(X) must have a positive length\nTraceback:\n",
      "1. apply(vec, 1, sum)",
      "2. stop(\"dim(X) must have a positive length\")"
     ]
    }
   ],
   "source": [
    "apply(vec, 1, sum)"
   ]
  },
  {
   "cell_type": "markdown",
   "metadata": {},
   "source": [
    "# As you can see, this didn’t work because apply was expecting the data to have at least two dimensions. If your data is a vector you need to use lapply, sapply, or vapply instead"
   ]
  },
  {
   "cell_type": "code",
   "execution_count": 24,
   "metadata": {},
   "outputs": [
    {
     "data": {
      "text/html": [
       "<ol>\n",
       "\t<li>1</li>\n",
       "\t<li>2</li>\n",
       "\t<li>3</li>\n",
       "\t<li>4</li>\n",
       "\t<li>5</li>\n",
       "\t<li>6</li>\n",
       "\t<li>7</li>\n",
       "\t<li>8</li>\n",
       "\t<li>9</li>\n",
       "\t<li>10</li>\n",
       "</ol>\n"
      ],
      "text/latex": [
       "\\begin{enumerate}\n",
       "\\item 1\n",
       "\\item 2\n",
       "\\item 3\n",
       "\\item 4\n",
       "\\item 5\n",
       "\\item 6\n",
       "\\item 7\n",
       "\\item 8\n",
       "\\item 9\n",
       "\\item 10\n",
       "\\end{enumerate}\n"
      ],
      "text/markdown": [
       "1. 1\n",
       "2. 2\n",
       "3. 3\n",
       "4. 4\n",
       "5. 5\n",
       "6. 6\n",
       "7. 7\n",
       "8. 8\n",
       "9. 9\n",
       "10. 10\n",
       "\n",
       "\n"
      ],
      "text/plain": [
       "[[1]]\n",
       "[1] 1\n",
       "\n",
       "[[2]]\n",
       "[1] 2\n",
       "\n",
       "[[3]]\n",
       "[1] 3\n",
       "\n",
       "[[4]]\n",
       "[1] 4\n",
       "\n",
       "[[5]]\n",
       "[1] 5\n",
       "\n",
       "[[6]]\n",
       "[1] 6\n",
       "\n",
       "[[7]]\n",
       "[1] 7\n",
       "\n",
       "[[8]]\n",
       "[1] 8\n",
       "\n",
       "[[9]]\n",
       "[1] 9\n",
       "\n",
       "[[10]]\n",
       "[1] 10\n"
      ]
     },
     "metadata": {},
     "output_type": "display_data"
    }
   ],
   "source": [
    "lapply(vec, sum)"
   ]
  },
  {
   "cell_type": "markdown",
   "metadata": {},
   "source": [
    "# This function didn’t add up the values like we may have expected it to. This is because lapply applies treats the vector like a list, and applies the function to each point in the vector."
   ]
  },
  {
   "cell_type": "code",
   "execution_count": 25,
   "metadata": {},
   "outputs": [
    {
     "data": {
      "text/html": [
       "<ol>\n",
       "\t<li>45</li>\n",
       "\t<li>78</li>\n",
       "\t<li>120</li>\n",
       "</ol>\n"
      ],
      "text/latex": [
       "\\begin{enumerate}\n",
       "\\item 45\n",
       "\\item 78\n",
       "\\item 120\n",
       "\\end{enumerate}\n"
      ],
      "text/markdown": [
       "1. 45\n",
       "2. 78\n",
       "3. 120\n",
       "\n",
       "\n"
      ],
      "text/plain": [
       "[[1]]\n",
       "[1] 45\n",
       "\n",
       "[[2]]\n",
       "[1] 78\n",
       "\n",
       "[[3]]\n",
       "[1] 120\n"
      ]
     },
     "metadata": {},
     "output_type": "display_data"
    }
   ],
   "source": [
    "A<-c(1:9)\n",
    "B<-c(1:12)\n",
    "C<-c(1:15)\n",
    "my.lst<-list(A,B,C)\n",
    "lapply(my.lst, sum)"
   ]
  },
  {
   "cell_type": "code",
   "execution_count": null,
   "metadata": {},
   "outputs": [],
   "source": []
  }
 ],
 "metadata": {
  "kernelspec": {
   "display_name": "R",
   "language": "R",
   "name": "ir"
  },
  "language_info": {
   "codemirror_mode": "r",
   "file_extension": ".r",
   "mimetype": "text/x-r-source",
   "name": "R",
   "pygments_lexer": "r",
   "version": "3.6.1"
  }
 },
 "nbformat": 4,
 "nbformat_minor": 2
}
