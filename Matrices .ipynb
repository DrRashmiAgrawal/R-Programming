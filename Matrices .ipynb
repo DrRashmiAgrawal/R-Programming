{
 "cells": [
  {
   "cell_type": "markdown",
   "metadata": {},
   "source": [
    "## Matrices in R"
   ]
  },
  {
   "cell_type": "markdown",
   "metadata": {},
   "source": [
    "## Matrices are the R objects in which the elements are arranged in a two-dimensional rectangular layout. They contain elements of the same atomic types. Though we can create a matrix containing only characters or only logical values, they are not of much use. We use matrices containing numeric elements to be used in mathematical calculations."
   ]
  },
  {
   "cell_type": "markdown",
   "metadata": {},
   "source": [
    "## A Matrix is created using the matrix() function."
   ]
  },
  {
   "cell_type": "markdown",
   "metadata": {},
   "source": [
    "# The basic syntax for creating a matrix in R is −"
   ]
  },
  {
   "cell_type": "markdown",
   "metadata": {},
   "source": [
    "# matrix(data, nrow, ncol, byrow, dimnames)"
   ]
  },
  {
   "cell_type": "code",
   "execution_count": 1,
   "metadata": {},
   "outputs": [
    {
     "data": {
      "text/html": [
       "<table>\n",
       "<tbody>\n",
       "\t<tr><td>1</td><td>4</td><td>7</td></tr>\n",
       "\t<tr><td>2</td><td>5</td><td>8</td></tr>\n",
       "\t<tr><td>3</td><td>6</td><td>9</td></tr>\n",
       "</tbody>\n",
       "</table>\n"
      ],
      "text/latex": [
       "\\begin{tabular}{lll}\n",
       "\t 1 & 4 & 7\\\\\n",
       "\t 2 & 5 & 8\\\\\n",
       "\t 3 & 6 & 9\\\\\n",
       "\\end{tabular}\n"
      ],
      "text/markdown": [
       "\n",
       "| 1 | 4 | 7 |\n",
       "| 2 | 5 | 8 |\n",
       "| 3 | 6 | 9 |\n",
       "\n"
      ],
      "text/plain": [
       "     [,1] [,2] [,3]\n",
       "[1,] 1    4    7   \n",
       "[2,] 2    5    8   \n",
       "[3,] 3    6    9   "
      ]
     },
     "metadata": {},
     "output_type": "display_data"
    }
   ],
   "source": [
    "matrix(1:9, nrow = 3, ncol = 3)"
   ]
  },
  {
   "cell_type": "code",
   "execution_count": 2,
   "metadata": {},
   "outputs": [
    {
     "data": {
      "text/html": [
       "<table>\n",
       "<tbody>\n",
       "\t<tr><td>1</td><td>4</td><td>7</td></tr>\n",
       "\t<tr><td>2</td><td>5</td><td>8</td></tr>\n",
       "\t<tr><td>3</td><td>6</td><td>9</td></tr>\n",
       "</tbody>\n",
       "</table>\n"
      ],
      "text/latex": [
       "\\begin{tabular}{lll}\n",
       "\t 1 & 4 & 7\\\\\n",
       "\t 2 & 5 & 8\\\\\n",
       "\t 3 & 6 & 9\\\\\n",
       "\\end{tabular}\n"
      ],
      "text/markdown": [
       "\n",
       "| 1 | 4 | 7 |\n",
       "| 2 | 5 | 8 |\n",
       "| 3 | 6 | 9 |\n",
       "\n"
      ],
      "text/plain": [
       "     [,1] [,2] [,3]\n",
       "[1,] 1    4    7   \n",
       "[2,] 2    5    8   \n",
       "[3,] 3    6    9   "
      ]
     },
     "metadata": {},
     "output_type": "display_data"
    }
   ],
   "source": [
    "matrix(1:9, nrow = 3)"
   ]
  },
  {
   "cell_type": "code",
   "execution_count": 3,
   "metadata": {},
   "outputs": [
    {
     "data": {
      "text/html": [
       "<table>\n",
       "<tbody>\n",
       "\t<tr><td>1</td><td>2</td><td>3</td></tr>\n",
       "\t<tr><td>4</td><td>5</td><td>6</td></tr>\n",
       "\t<tr><td>7</td><td>8</td><td>9</td></tr>\n",
       "</tbody>\n",
       "</table>\n"
      ],
      "text/latex": [
       "\\begin{tabular}{lll}\n",
       "\t 1 & 2 & 3\\\\\n",
       "\t 4 & 5 & 6\\\\\n",
       "\t 7 & 8 & 9\\\\\n",
       "\\end{tabular}\n"
      ],
      "text/markdown": [
       "\n",
       "| 1 | 2 | 3 |\n",
       "| 4 | 5 | 6 |\n",
       "| 7 | 8 | 9 |\n",
       "\n"
      ],
      "text/plain": [
       "     [,1] [,2] [,3]\n",
       "[1,] 1    2    3   \n",
       "[2,] 4    5    6   \n",
       "[3,] 7    8    9   "
      ]
     },
     "metadata": {},
     "output_type": "display_data"
    }
   ],
   "source": [
    "matrix(1:9, nrow=3, byrow=TRUE)"
   ]
  },
  {
   "cell_type": "markdown",
   "metadata": {},
   "source": [
    "# It is possible to name the rows and columns of matrix during creation by passing a 2 element list to the argument dimnames"
   ]
  },
  {
   "cell_type": "code",
   "execution_count": 4,
   "metadata": {},
   "outputs": [],
   "source": [
    "x <- matrix(1:9, nrow = 3, dimnames = list(c(\"X\",\"Y\",\"Z\"), c(\"A\",\"B\",\"C\")))"
   ]
  },
  {
   "cell_type": "code",
   "execution_count": 5,
   "metadata": {},
   "outputs": [
    {
     "data": {
      "text/html": [
       "<table>\n",
       "<thead><tr><th></th><th scope=col>A</th><th scope=col>B</th><th scope=col>C</th></tr></thead>\n",
       "<tbody>\n",
       "\t<tr><th scope=row>X</th><td>1</td><td>4</td><td>7</td></tr>\n",
       "\t<tr><th scope=row>Y</th><td>2</td><td>5</td><td>8</td></tr>\n",
       "\t<tr><th scope=row>Z</th><td>3</td><td>6</td><td>9</td></tr>\n",
       "</tbody>\n",
       "</table>\n"
      ],
      "text/latex": [
       "\\begin{tabular}{r|lll}\n",
       "  & A & B & C\\\\\n",
       "\\hline\n",
       "\tX & 1 & 4 & 7\\\\\n",
       "\tY & 2 & 5 & 8\\\\\n",
       "\tZ & 3 & 6 & 9\\\\\n",
       "\\end{tabular}\n"
      ],
      "text/markdown": [
       "\n",
       "| <!--/--> | A | B | C |\n",
       "|---|---|---|---|\n",
       "| X | 1 | 4 | 7 |\n",
       "| Y | 2 | 5 | 8 |\n",
       "| Z | 3 | 6 | 9 |\n",
       "\n"
      ],
      "text/plain": [
       "  A B C\n",
       "X 1 4 7\n",
       "Y 2 5 8\n",
       "Z 3 6 9"
      ]
     },
     "metadata": {},
     "output_type": "display_data"
    }
   ],
   "source": [
    "x"
   ]
  },
  {
   "cell_type": "markdown",
   "metadata": {},
   "source": [
    "# These names can be accessed or changed with two helpful functions colnames() and rownames()"
   ]
  },
  {
   "cell_type": "code",
   "execution_count": 6,
   "metadata": {},
   "outputs": [
    {
     "data": {
      "text/html": [
       "<ol class=list-inline>\n",
       "\t<li>'A'</li>\n",
       "\t<li>'B'</li>\n",
       "\t<li>'C'</li>\n",
       "</ol>\n"
      ],
      "text/latex": [
       "\\begin{enumerate*}\n",
       "\\item 'A'\n",
       "\\item 'B'\n",
       "\\item 'C'\n",
       "\\end{enumerate*}\n"
      ],
      "text/markdown": [
       "1. 'A'\n",
       "2. 'B'\n",
       "3. 'C'\n",
       "\n",
       "\n"
      ],
      "text/plain": [
       "[1] \"A\" \"B\" \"C\""
      ]
     },
     "metadata": {},
     "output_type": "display_data"
    }
   ],
   "source": [
    "colnames(x)"
   ]
  },
  {
   "cell_type": "code",
   "execution_count": 7,
   "metadata": {},
   "outputs": [
    {
     "data": {
      "text/html": [
       "<ol class=list-inline>\n",
       "\t<li>'X'</li>\n",
       "\t<li>'Y'</li>\n",
       "\t<li>'Z'</li>\n",
       "</ol>\n"
      ],
      "text/latex": [
       "\\begin{enumerate*}\n",
       "\\item 'X'\n",
       "\\item 'Y'\n",
       "\\item 'Z'\n",
       "\\end{enumerate*}\n"
      ],
      "text/markdown": [
       "1. 'X'\n",
       "2. 'Y'\n",
       "3. 'Z'\n",
       "\n",
       "\n"
      ],
      "text/plain": [
       "[1] \"X\" \"Y\" \"Z\""
      ]
     },
     "metadata": {},
     "output_type": "display_data"
    }
   ],
   "source": [
    "rownames(x)"
   ]
  },
  {
   "cell_type": "code",
   "execution_count": 8,
   "metadata": {},
   "outputs": [],
   "source": [
    "colnames(x) <- c(\"C1\",\"C2\",\"C3\")"
   ]
  },
  {
   "cell_type": "code",
   "execution_count": 9,
   "metadata": {},
   "outputs": [],
   "source": [
    "rownames(x) <- c(\"R1\",\"R2\",\"R3\")"
   ]
  },
  {
   "cell_type": "code",
   "execution_count": 10,
   "metadata": {},
   "outputs": [
    {
     "data": {
      "text/html": [
       "<table>\n",
       "<thead><tr><th></th><th scope=col>C1</th><th scope=col>C2</th><th scope=col>C3</th></tr></thead>\n",
       "<tbody>\n",
       "\t<tr><th scope=row>R1</th><td>1</td><td>4</td><td>7</td></tr>\n",
       "\t<tr><th scope=row>R2</th><td>2</td><td>5</td><td>8</td></tr>\n",
       "\t<tr><th scope=row>R3</th><td>3</td><td>6</td><td>9</td></tr>\n",
       "</tbody>\n",
       "</table>\n"
      ],
      "text/latex": [
       "\\begin{tabular}{r|lll}\n",
       "  & C1 & C2 & C3\\\\\n",
       "\\hline\n",
       "\tR1 & 1 & 4 & 7\\\\\n",
       "\tR2 & 2 & 5 & 8\\\\\n",
       "\tR3 & 3 & 6 & 9\\\\\n",
       "\\end{tabular}\n"
      ],
      "text/markdown": [
       "\n",
       "| <!--/--> | C1 | C2 | C3 |\n",
       "|---|---|---|---|\n",
       "| R1 | 1 | 4 | 7 |\n",
       "| R2 | 2 | 5 | 8 |\n",
       "| R3 | 3 | 6 | 9 |\n",
       "\n"
      ],
      "text/plain": [
       "   C1 C2 C3\n",
       "R1 1  4  7 \n",
       "R2 2  5  8 \n",
       "R3 3  6  9 "
      ]
     },
     "metadata": {},
     "output_type": "display_data"
    }
   ],
   "source": [
    "x"
   ]
  },
  {
   "cell_type": "markdown",
   "metadata": {},
   "source": [
    "# Another way of creating a matrix is by using functions cbind() and rbind() as in column bind and row bind."
   ]
  },
  {
   "cell_type": "code",
   "execution_count": 11,
   "metadata": {},
   "outputs": [
    {
     "data": {
      "text/html": [
       "<table>\n",
       "<tbody>\n",
       "\t<tr><td>1</td><td>4</td></tr>\n",
       "\t<tr><td>2</td><td>5</td></tr>\n",
       "\t<tr><td>3</td><td>6</td></tr>\n",
       "</tbody>\n",
       "</table>\n"
      ],
      "text/latex": [
       "\\begin{tabular}{ll}\n",
       "\t 1 & 4\\\\\n",
       "\t 2 & 5\\\\\n",
       "\t 3 & 6\\\\\n",
       "\\end{tabular}\n"
      ],
      "text/markdown": [
       "\n",
       "| 1 | 4 |\n",
       "| 2 | 5 |\n",
       "| 3 | 6 |\n",
       "\n"
      ],
      "text/plain": [
       "     [,1] [,2]\n",
       "[1,] 1    4   \n",
       "[2,] 2    5   \n",
       "[3,] 3    6   "
      ]
     },
     "metadata": {},
     "output_type": "display_data"
    }
   ],
   "source": [
    "cbind(c(1,2,3),c(4,5,6))"
   ]
  },
  {
   "cell_type": "code",
   "execution_count": 12,
   "metadata": {},
   "outputs": [
    {
     "data": {
      "text/html": [
       "<table>\n",
       "<tbody>\n",
       "\t<tr><td>1</td><td>2</td><td>3</td></tr>\n",
       "\t<tr><td>4</td><td>5</td><td>6</td></tr>\n",
       "</tbody>\n",
       "</table>\n"
      ],
      "text/latex": [
       "\\begin{tabular}{lll}\n",
       "\t 1 & 2 & 3\\\\\n",
       "\t 4 & 5 & 6\\\\\n",
       "\\end{tabular}\n"
      ],
      "text/markdown": [
       "\n",
       "| 1 | 2 | 3 |\n",
       "| 4 | 5 | 6 |\n",
       "\n"
      ],
      "text/plain": [
       "     [,1] [,2] [,3]\n",
       "[1,] 1    2    3   \n",
       "[2,] 4    5    6   "
      ]
     },
     "metadata": {},
     "output_type": "display_data"
    }
   ],
   "source": [
    "rbind(c(1,2,3),c(4,5,6))"
   ]
  },
  {
   "cell_type": "markdown",
   "metadata": {},
   "source": [
    "#  Elements are arranged sequentially by row."
   ]
  },
  {
   "cell_type": "code",
   "execution_count": 13,
   "metadata": {},
   "outputs": [],
   "source": [
    "M <- matrix(c(3:14), nrow = 4, byrow = TRUE)"
   ]
  },
  {
   "cell_type": "code",
   "execution_count": 14,
   "metadata": {},
   "outputs": [
    {
     "name": "stdout",
     "output_type": "stream",
     "text": [
      "     [,1] [,2] [,3]\n",
      "[1,]    3    4    5\n",
      "[2,]    6    7    8\n",
      "[3,]    9   10   11\n",
      "[4,]   12   13   14\n"
     ]
    }
   ],
   "source": [
    "print(M)"
   ]
  },
  {
   "cell_type": "code",
   "execution_count": 15,
   "metadata": {},
   "outputs": [],
   "source": [
    "N <- matrix(c(3:14), nrow = 4)"
   ]
  },
  {
   "cell_type": "code",
   "execution_count": 16,
   "metadata": {},
   "outputs": [
    {
     "name": "stdout",
     "output_type": "stream",
     "text": [
      "     [,1] [,2] [,3]\n",
      "[1,]    3    7   11\n",
      "[2,]    4    8   12\n",
      "[3,]    5    9   13\n",
      "[4,]    6   10   14\n"
     ]
    }
   ],
   "source": [
    "print(N)"
   ]
  },
  {
   "cell_type": "markdown",
   "metadata": {},
   "source": [
    "# # Define the column and row names."
   ]
  },
  {
   "cell_type": "code",
   "execution_count": 17,
   "metadata": {},
   "outputs": [],
   "source": [
    "rownames = c(\"row1\", \"row2\", \"row3\", \"row4\")\n",
    "colnames = c(\"col1\", \"col2\", \"col3\")"
   ]
  },
  {
   "cell_type": "code",
   "execution_count": 18,
   "metadata": {},
   "outputs": [
    {
     "name": "stdout",
     "output_type": "stream",
     "text": [
      "     col1 col2 col3\n",
      "row1    3    4    5\n",
      "row2    6    7    8\n",
      "row3    9   10   11\n",
      "row4   12   13   14\n"
     ]
    }
   ],
   "source": [
    "P <- matrix(c(3:14), nrow = 4, byrow = TRUE, dimnames = list(rownames, colnames))\n",
    "print(P)"
   ]
  },
  {
   "cell_type": "markdown",
   "metadata": {},
   "source": [
    "# Accessing Elements of a Matrix"
   ]
  },
  {
   "cell_type": "markdown",
   "metadata": {},
   "source": [
    "## Elements of a matrix can be accessed by using the column and row index of the element. We consider the matrix P above to find the specific elements below."
   ]
  },
  {
   "cell_type": "code",
   "execution_count": 19,
   "metadata": {},
   "outputs": [
    {
     "name": "stdout",
     "output_type": "stream",
     "text": [
      "[1] 5\n"
     ]
    }
   ],
   "source": [
    "print(P[1,3])  # Access the element at 3rd column and 1st row."
   ]
  },
  {
   "cell_type": "code",
   "execution_count": 20,
   "metadata": {},
   "outputs": [
    {
     "name": "stdout",
     "output_type": "stream",
     "text": [
      "[1] 13\n"
     ]
    }
   ],
   "source": [
    "print(P[4,2])  # Access the element at 2nd column and 4th row."
   ]
  },
  {
   "cell_type": "code",
   "execution_count": 21,
   "metadata": {},
   "outputs": [
    {
     "data": {
      "text/html": [
       "<table>\n",
       "<thead><tr><th></th><th scope=col>col1</th><th scope=col>col2</th><th scope=col>col3</th></tr></thead>\n",
       "<tbody>\n",
       "\t<tr><th scope=row>row1</th><td> 3</td><td> 4</td><td> 5</td></tr>\n",
       "\t<tr><th scope=row>row2</th><td> 6</td><td> 7</td><td> 8</td></tr>\n",
       "\t<tr><th scope=row>row3</th><td> 9</td><td>10</td><td>11</td></tr>\n",
       "\t<tr><th scope=row>row4</th><td>12</td><td>13</td><td>14</td></tr>\n",
       "</tbody>\n",
       "</table>\n"
      ],
      "text/latex": [
       "\\begin{tabular}{r|lll}\n",
       "  & col1 & col2 & col3\\\\\n",
       "\\hline\n",
       "\trow1 &  3 &  4 &  5\\\\\n",
       "\trow2 &  6 &  7 &  8\\\\\n",
       "\trow3 &  9 & 10 & 11\\\\\n",
       "\trow4 & 12 & 13 & 14\\\\\n",
       "\\end{tabular}\n"
      ],
      "text/markdown": [
       "\n",
       "| <!--/--> | col1 | col2 | col3 |\n",
       "|---|---|---|---|\n",
       "| row1 |  3 |  4 |  5 |\n",
       "| row2 |  6 |  7 |  8 |\n",
       "| row3 |  9 | 10 | 11 |\n",
       "| row4 | 12 | 13 | 14 |\n",
       "\n"
      ],
      "text/plain": [
       "     col1 col2 col3\n",
       "row1  3    4    5  \n",
       "row2  6    7    8  \n",
       "row3  9   10   11  \n",
       "row4 12   13   14  "
      ]
     },
     "metadata": {},
     "output_type": "display_data"
    }
   ],
   "source": [
    "P"
   ]
  },
  {
   "cell_type": "code",
   "execution_count": 22,
   "metadata": {},
   "outputs": [
    {
     "name": "stdout",
     "output_type": "stream",
     "text": [
      "col1 col2 col3 \n",
      "   6    7    8 \n"
     ]
    }
   ],
   "source": [
    "print(P[2,]) # Access only the  2nd row."
   ]
  },
  {
   "cell_type": "code",
   "execution_count": 23,
   "metadata": {},
   "outputs": [
    {
     "name": "stdout",
     "output_type": "stream",
     "text": [
      "row1 row2 row3 row4 \n",
      "   5    8   11   14 \n"
     ]
    }
   ],
   "source": [
    "print(P[,3])  # Access only the 3rd column."
   ]
  },
  {
   "cell_type": "markdown",
   "metadata": {},
   "source": [
    "# We can use negative integers to specify rows or columns to be excluded."
   ]
  },
  {
   "cell_type": "code",
   "execution_count": 24,
   "metadata": {},
   "outputs": [
    {
     "data": {
      "text/html": [
       "<table>\n",
       "<thead><tr><th></th><th scope=col>col2</th><th scope=col>col3</th></tr></thead>\n",
       "<tbody>\n",
       "\t<tr><th scope=row>row1</th><td>4</td><td>5</td></tr>\n",
       "\t<tr><th scope=row>row2</th><td>7</td><td>8</td></tr>\n",
       "</tbody>\n",
       "</table>\n"
      ],
      "text/latex": [
       "\\begin{tabular}{r|ll}\n",
       "  & col2 & col3\\\\\n",
       "\\hline\n",
       "\trow1 & 4 & 5\\\\\n",
       "\trow2 & 7 & 8\\\\\n",
       "\\end{tabular}\n"
      ],
      "text/markdown": [
       "\n",
       "| <!--/--> | col2 | col3 |\n",
       "|---|---|---|\n",
       "| row1 | 4 | 5 |\n",
       "| row2 | 7 | 8 |\n",
       "\n"
      ],
      "text/plain": [
       "     col2 col3\n",
       "row1 4    5   \n",
       "row2 7    8   "
      ]
     },
     "metadata": {},
     "output_type": "display_data"
    }
   ],
   "source": [
    "P[c(1,2),c(2,3)]    # select rows 1 & 2 and columns 2 & 3"
   ]
  },
  {
   "cell_type": "code",
   "execution_count": 25,
   "metadata": {},
   "outputs": [
    {
     "data": {
      "text/html": [
       "<table>\n",
       "<thead><tr><th></th><th scope=col>col1</th><th scope=col>col2</th><th scope=col>col3</th></tr></thead>\n",
       "<tbody>\n",
       "\t<tr><th scope=row>row1</th><td> 3</td><td> 4</td><td> 5</td></tr>\n",
       "\t<tr><th scope=row>row2</th><td> 6</td><td> 7</td><td> 8</td></tr>\n",
       "\t<tr><th scope=row>row3</th><td> 9</td><td>10</td><td>11</td></tr>\n",
       "\t<tr><th scope=row>row4</th><td>12</td><td>13</td><td>14</td></tr>\n",
       "</tbody>\n",
       "</table>\n"
      ],
      "text/latex": [
       "\\begin{tabular}{r|lll}\n",
       "  & col1 & col2 & col3\\\\\n",
       "\\hline\n",
       "\trow1 &  3 &  4 &  5\\\\\n",
       "\trow2 &  6 &  7 &  8\\\\\n",
       "\trow3 &  9 & 10 & 11\\\\\n",
       "\trow4 & 12 & 13 & 14\\\\\n",
       "\\end{tabular}\n"
      ],
      "text/markdown": [
       "\n",
       "| <!--/--> | col1 | col2 | col3 |\n",
       "|---|---|---|---|\n",
       "| row1 |  3 |  4 |  5 |\n",
       "| row2 |  6 |  7 |  8 |\n",
       "| row3 |  9 | 10 | 11 |\n",
       "| row4 | 12 | 13 | 14 |\n",
       "\n"
      ],
      "text/plain": [
       "     col1 col2 col3\n",
       "row1  3    4    5  \n",
       "row2  6    7    8  \n",
       "row3  9   10   11  \n",
       "row4 12   13   14  "
      ]
     },
     "metadata": {},
     "output_type": "display_data"
    }
   ],
   "source": [
    "P[,]    # leaving row as well as column field blank will select entire matrix"
   ]
  },
  {
   "cell_type": "code",
   "execution_count": 26,
   "metadata": {},
   "outputs": [
    {
     "data": {
      "text/html": [
       "<table>\n",
       "<thead><tr><th></th><th scope=col>col1</th><th scope=col>col2</th><th scope=col>col3</th></tr></thead>\n",
       "<tbody>\n",
       "\t<tr><th scope=row>row2</th><td> 6</td><td> 7</td><td> 8</td></tr>\n",
       "\t<tr><th scope=row>row3</th><td> 9</td><td>10</td><td>11</td></tr>\n",
       "\t<tr><th scope=row>row4</th><td>12</td><td>13</td><td>14</td></tr>\n",
       "</tbody>\n",
       "</table>\n"
      ],
      "text/latex": [
       "\\begin{tabular}{r|lll}\n",
       "  & col1 & col2 & col3\\\\\n",
       "\\hline\n",
       "\trow2 &  6 &  7 &  8\\\\\n",
       "\trow3 &  9 & 10 & 11\\\\\n",
       "\trow4 & 12 & 13 & 14\\\\\n",
       "\\end{tabular}\n"
      ],
      "text/markdown": [
       "\n",
       "| <!--/--> | col1 | col2 | col3 |\n",
       "|---|---|---|---|\n",
       "| row2 |  6 |  7 |  8 |\n",
       "| row3 |  9 | 10 | 11 |\n",
       "| row4 | 12 | 13 | 14 |\n",
       "\n"
      ],
      "text/plain": [
       "     col1 col2 col3\n",
       "row2  6    7    8  \n",
       "row3  9   10   11  \n",
       "row4 12   13   14  "
      ]
     },
     "metadata": {},
     "output_type": "display_data"
    }
   ],
   "source": [
    "P[-1,]    # select all rows except first"
   ]
  },
  {
   "cell_type": "code",
   "execution_count": 27,
   "metadata": {},
   "outputs": [
    {
     "data": {
      "text/html": [
       "<table>\n",
       "<thead><tr><th></th><th scope=col>col2</th><th scope=col>col3</th></tr></thead>\n",
       "<tbody>\n",
       "\t<tr><th scope=row>row1</th><td> 4</td><td> 5</td></tr>\n",
       "\t<tr><th scope=row>row2</th><td> 7</td><td> 8</td></tr>\n",
       "\t<tr><th scope=row>row3</th><td>10</td><td>11</td></tr>\n",
       "\t<tr><th scope=row>row4</th><td>13</td><td>14</td></tr>\n",
       "</tbody>\n",
       "</table>\n"
      ],
      "text/latex": [
       "\\begin{tabular}{r|ll}\n",
       "  & col2 & col3\\\\\n",
       "\\hline\n",
       "\trow1 &  4 &  5\\\\\n",
       "\trow2 &  7 &  8\\\\\n",
       "\trow3 & 10 & 11\\\\\n",
       "\trow4 & 13 & 14\\\\\n",
       "\\end{tabular}\n"
      ],
      "text/markdown": [
       "\n",
       "| <!--/--> | col2 | col3 |\n",
       "|---|---|---|\n",
       "| row1 |  4 |  5 |\n",
       "| row2 |  7 |  8 |\n",
       "| row3 | 10 | 11 |\n",
       "| row4 | 13 | 14 |\n",
       "\n"
      ],
      "text/plain": [
       "     col2 col3\n",
       "row1  4    5  \n",
       "row2  7    8  \n",
       "row3 10   11  \n",
       "row4 13   14  "
      ]
     },
     "metadata": {},
     "output_type": "display_data"
    }
   ],
   "source": [
    "P[,-1]    # select all col except first"
   ]
  },
  {
   "cell_type": "markdown",
   "metadata": {},
   "source": [
    "# Using logical vector as index"
   ]
  },
  {
   "cell_type": "markdown",
   "metadata": {},
   "source": [
    "## Two logical vectors can be used to index a matrix. In such situation, rows and columns where the value is TRUE is returned. These indexing vectors are recycled if necessary and can be mixed with integer vectors."
   ]
  },
  {
   "cell_type": "code",
   "execution_count": 2,
   "metadata": {},
   "outputs": [],
   "source": [
    "x <- matrix(1:9, nrow = 3, dimnames = list(c(\"X\",\"Y\",\"Z\"), c(\"A\",\"B\",\"C\")))"
   ]
  },
  {
   "cell_type": "code",
   "execution_count": 3,
   "metadata": {},
   "outputs": [
    {
     "data": {
      "text/html": [
       "<table>\n",
       "<thead><tr><th></th><th scope=col>A</th><th scope=col>B</th><th scope=col>C</th></tr></thead>\n",
       "<tbody>\n",
       "\t<tr><th scope=row>X</th><td>1</td><td>4</td><td>7</td></tr>\n",
       "\t<tr><th scope=row>Y</th><td>2</td><td>5</td><td>8</td></tr>\n",
       "\t<tr><th scope=row>Z</th><td>3</td><td>6</td><td>9</td></tr>\n",
       "</tbody>\n",
       "</table>\n"
      ],
      "text/latex": [
       "\\begin{tabular}{r|lll}\n",
       "  & A & B & C\\\\\n",
       "\\hline\n",
       "\tX & 1 & 4 & 7\\\\\n",
       "\tY & 2 & 5 & 8\\\\\n",
       "\tZ & 3 & 6 & 9\\\\\n",
       "\\end{tabular}\n"
      ],
      "text/markdown": [
       "\n",
       "| <!--/--> | A | B | C |\n",
       "|---|---|---|---|\n",
       "| X | 1 | 4 | 7 |\n",
       "| Y | 2 | 5 | 8 |\n",
       "| Z | 3 | 6 | 9 |\n",
       "\n"
      ],
      "text/plain": [
       "  A B C\n",
       "X 1 4 7\n",
       "Y 2 5 8\n",
       "Z 3 6 9"
      ]
     },
     "metadata": {},
     "output_type": "display_data"
    }
   ],
   "source": [
    "x"
   ]
  },
  {
   "cell_type": "code",
   "execution_count": 4,
   "metadata": {},
   "outputs": [
    {
     "data": {
      "text/html": [
       "<table>\n",
       "<thead><tr><th></th><th scope=col>A</th><th scope=col>B</th></tr></thead>\n",
       "<tbody>\n",
       "\t<tr><th scope=row>X</th><td>1</td><td>4</td></tr>\n",
       "\t<tr><th scope=row>Z</th><td>3</td><td>6</td></tr>\n",
       "</tbody>\n",
       "</table>\n"
      ],
      "text/latex": [
       "\\begin{tabular}{r|ll}\n",
       "  & A & B\\\\\n",
       "\\hline\n",
       "\tX & 1 & 4\\\\\n",
       "\tZ & 3 & 6\\\\\n",
       "\\end{tabular}\n"
      ],
      "text/markdown": [
       "\n",
       "| <!--/--> | A | B |\n",
       "|---|---|---|\n",
       "| X | 1 | 4 |\n",
       "| Z | 3 | 6 |\n",
       "\n"
      ],
      "text/plain": [
       "  A B\n",
       "X 1 4\n",
       "Z 3 6"
      ]
     },
     "metadata": {},
     "output_type": "display_data"
    }
   ],
   "source": [
    "x[c(TRUE,FALSE,TRUE),c(TRUE,TRUE,FALSE)] #(first and third row, first and second column)"
   ]
  },
  {
   "cell_type": "code",
   "execution_count": 5,
   "metadata": {},
   "outputs": [
    {
     "data": {
      "text/html": [
       "<ol class=list-inline>\n",
       "\t<li>6</li>\n",
       "\t<li>7</li>\n",
       "\t<li>8</li>\n",
       "\t<li>9</li>\n",
       "</ol>\n"
      ],
      "text/latex": [
       "\\begin{enumerate*}\n",
       "\\item 6\n",
       "\\item 7\n",
       "\\item 8\n",
       "\\item 9\n",
       "\\end{enumerate*}\n"
      ],
      "text/markdown": [
       "1. 6\n",
       "2. 7\n",
       "3. 8\n",
       "4. 9\n",
       "\n",
       "\n"
      ],
      "text/plain": [
       "[1] 6 7 8 9"
      ]
     },
     "metadata": {},
     "output_type": "display_data"
    }
   ],
   "source": [
    "x[x>5]    # select elements greater than 5"
   ]
  },
  {
   "cell_type": "markdown",
   "metadata": {},
   "source": [
    "# Using character vector as index"
   ]
  },
  {
   "cell_type": "markdown",
   "metadata": {},
   "source": [
    "# Indexing with character vector is possible for matrix with named row or column. This can be mixed with integer or logical indexing."
   ]
  },
  {
   "cell_type": "code",
   "execution_count": 6,
   "metadata": {},
   "outputs": [
    {
     "data": {
      "text/html": [
       "<table>\n",
       "<thead><tr><th></th><th scope=col>A</th><th scope=col>B</th><th scope=col>C</th></tr></thead>\n",
       "<tbody>\n",
       "\t<tr><th scope=row>X</th><td>1</td><td>4</td><td>7</td></tr>\n",
       "\t<tr><th scope=row>Y</th><td>2</td><td>5</td><td>8</td></tr>\n",
       "\t<tr><th scope=row>Z</th><td>3</td><td>6</td><td>9</td></tr>\n",
       "</tbody>\n",
       "</table>\n"
      ],
      "text/latex": [
       "\\begin{tabular}{r|lll}\n",
       "  & A & B & C\\\\\n",
       "\\hline\n",
       "\tX & 1 & 4 & 7\\\\\n",
       "\tY & 2 & 5 & 8\\\\\n",
       "\tZ & 3 & 6 & 9\\\\\n",
       "\\end{tabular}\n"
      ],
      "text/markdown": [
       "\n",
       "| <!--/--> | A | B | C |\n",
       "|---|---|---|---|\n",
       "| X | 1 | 4 | 7 |\n",
       "| Y | 2 | 5 | 8 |\n",
       "| Z | 3 | 6 | 9 |\n",
       "\n"
      ],
      "text/plain": [
       "  A B C\n",
       "X 1 4 7\n",
       "Y 2 5 8\n",
       "Z 3 6 9"
      ]
     },
     "metadata": {},
     "output_type": "display_data"
    }
   ],
   "source": [
    "x"
   ]
  },
  {
   "cell_type": "code",
   "execution_count": 7,
   "metadata": {},
   "outputs": [
    {
     "data": {
      "text/html": [
       "<dl class=dl-horizontal>\n",
       "\t<dt>X</dt>\n",
       "\t\t<dd>1</dd>\n",
       "\t<dt>Y</dt>\n",
       "\t\t<dd>2</dd>\n",
       "\t<dt>Z</dt>\n",
       "\t\t<dd>3</dd>\n",
       "</dl>\n"
      ],
      "text/latex": [
       "\\begin{description*}\n",
       "\\item[X] 1\n",
       "\\item[Y] 2\n",
       "\\item[Z] 3\n",
       "\\end{description*}\n"
      ],
      "text/markdown": [
       "X\n",
       ":   1Y\n",
       ":   2Z\n",
       ":   3\n",
       "\n"
      ],
      "text/plain": [
       "X Y Z \n",
       "1 2 3 "
      ]
     },
     "metadata": {},
     "output_type": "display_data"
    }
   ],
   "source": [
    "x[,\"A\"]"
   ]
  },
  {
   "cell_type": "code",
   "execution_count": 8,
   "metadata": {},
   "outputs": [
    {
     "data": {
      "text/html": [
       "<table>\n",
       "<thead><tr><th></th><th scope=col>A</th><th scope=col>C</th></tr></thead>\n",
       "<tbody>\n",
       "\t<tr><th scope=row>Y</th><td>2</td><td>8</td></tr>\n",
       "\t<tr><th scope=row>Z</th><td>3</td><td>9</td></tr>\n",
       "</tbody>\n",
       "</table>\n"
      ],
      "text/latex": [
       "\\begin{tabular}{r|ll}\n",
       "  & A & C\\\\\n",
       "\\hline\n",
       "\tY & 2 & 8\\\\\n",
       "\tZ & 3 & 9\\\\\n",
       "\\end{tabular}\n"
      ],
      "text/markdown": [
       "\n",
       "| <!--/--> | A | C |\n",
       "|---|---|---|\n",
       "| Y | 2 | 8 |\n",
       "| Z | 3 | 9 |\n",
       "\n"
      ],
      "text/plain": [
       "  A C\n",
       "Y 2 8\n",
       "Z 3 9"
      ]
     },
     "metadata": {},
     "output_type": "display_data"
    }
   ],
   "source": [
    "x[2:3,c(\"A\",\"C\")]"
   ]
  },
  {
   "cell_type": "markdown",
   "metadata": {},
   "source": [
    "# How to modify a matrix in R?\n",
    "\n",
    "## We can combine assignment operator with the above learned methods for accessing elements of a matrix to modify it."
   ]
  },
  {
   "cell_type": "code",
   "execution_count": 9,
   "metadata": {},
   "outputs": [
    {
     "data": {
      "text/html": [
       "<table>\n",
       "<thead><tr><th></th><th scope=col>A</th><th scope=col>B</th><th scope=col>C</th></tr></thead>\n",
       "<tbody>\n",
       "\t<tr><th scope=row>X</th><td>1 </td><td> 4</td><td>7 </td></tr>\n",
       "\t<tr><th scope=row>Y</th><td>2 </td><td>10</td><td>8 </td></tr>\n",
       "\t<tr><th scope=row>Z</th><td>3 </td><td> 6</td><td>9 </td></tr>\n",
       "</tbody>\n",
       "</table>\n"
      ],
      "text/latex": [
       "\\begin{tabular}{r|lll}\n",
       "  & A & B & C\\\\\n",
       "\\hline\n",
       "\tX & 1  &  4 & 7 \\\\\n",
       "\tY & 2  & 10 & 8 \\\\\n",
       "\tZ & 3  &  6 & 9 \\\\\n",
       "\\end{tabular}\n"
      ],
      "text/markdown": [
       "\n",
       "| <!--/--> | A | B | C |\n",
       "|---|---|---|---|\n",
       "| X | 1  |  4 | 7  |\n",
       "| Y | 2  | 10 | 8  |\n",
       "| Z | 3  |  6 | 9  |\n",
       "\n"
      ],
      "text/plain": [
       "  A B  C\n",
       "X 1  4 7\n",
       "Y 2 10 8\n",
       "Z 3  6 9"
      ]
     },
     "metadata": {},
     "output_type": "display_data"
    }
   ],
   "source": [
    "x[2,2] <- 10; x    # modify a single element"
   ]
  },
  {
   "cell_type": "code",
   "execution_count": 10,
   "metadata": {},
   "outputs": [
    {
     "data": {
      "text/html": [
       "<table>\n",
       "<thead><tr><th></th><th scope=col>A</th><th scope=col>B</th><th scope=col>C</th></tr></thead>\n",
       "<tbody>\n",
       "\t<tr><th scope=row>X</th><td>0 </td><td> 0</td><td>7 </td></tr>\n",
       "\t<tr><th scope=row>Y</th><td>0 </td><td>10</td><td>8 </td></tr>\n",
       "\t<tr><th scope=row>Z</th><td>0 </td><td> 6</td><td>9 </td></tr>\n",
       "</tbody>\n",
       "</table>\n"
      ],
      "text/latex": [
       "\\begin{tabular}{r|lll}\n",
       "  & A & B & C\\\\\n",
       "\\hline\n",
       "\tX & 0  &  0 & 7 \\\\\n",
       "\tY & 0  & 10 & 8 \\\\\n",
       "\tZ & 0  &  6 & 9 \\\\\n",
       "\\end{tabular}\n"
      ],
      "text/markdown": [
       "\n",
       "| <!--/--> | A | B | C |\n",
       "|---|---|---|---|\n",
       "| X | 0  |  0 | 7  |\n",
       "| Y | 0  | 10 | 8  |\n",
       "| Z | 0  |  6 | 9  |\n",
       "\n"
      ],
      "text/plain": [
       "  A B  C\n",
       "X 0  0 7\n",
       "Y 0 10 8\n",
       "Z 0  6 9"
      ]
     },
     "metadata": {},
     "output_type": "display_data"
    }
   ],
   "source": [
    "x[x<5] <- 0; x    # modify elements less than 5"
   ]
  },
  {
   "cell_type": "markdown",
   "metadata": {},
   "source": [
    "# A common operation with matrix is to transpose it. This can be done with the function t()"
   ]
  },
  {
   "cell_type": "code",
   "execution_count": 11,
   "metadata": {},
   "outputs": [
    {
     "data": {
      "text/html": [
       "<table>\n",
       "<thead><tr><th></th><th scope=col>X</th><th scope=col>Y</th><th scope=col>Z</th></tr></thead>\n",
       "<tbody>\n",
       "\t<tr><th scope=row>A</th><td>0 </td><td> 0</td><td>0 </td></tr>\n",
       "\t<tr><th scope=row>B</th><td>0 </td><td>10</td><td>6 </td></tr>\n",
       "\t<tr><th scope=row>C</th><td>7 </td><td> 8</td><td>9 </td></tr>\n",
       "</tbody>\n",
       "</table>\n"
      ],
      "text/latex": [
       "\\begin{tabular}{r|lll}\n",
       "  & X & Y & Z\\\\\n",
       "\\hline\n",
       "\tA & 0  &  0 & 0 \\\\\n",
       "\tB & 0  & 10 & 6 \\\\\n",
       "\tC & 7  &  8 & 9 \\\\\n",
       "\\end{tabular}\n"
      ],
      "text/markdown": [
       "\n",
       "| <!--/--> | X | Y | Z |\n",
       "|---|---|---|---|\n",
       "| A | 0  |  0 | 0  |\n",
       "| B | 0  | 10 | 6  |\n",
       "| C | 7  |  8 | 9  |\n",
       "\n"
      ],
      "text/plain": [
       "  X Y  Z\n",
       "A 0  0 0\n",
       "B 0 10 6\n",
       "C 7  8 9"
      ]
     },
     "metadata": {},
     "output_type": "display_data"
    }
   ],
   "source": [
    "t(x)    # transpose a matrix"
   ]
  },
  {
   "cell_type": "markdown",
   "metadata": {},
   "source": [
    "# We can add row or column using rbind() and cbind() function respectively. Similarly, it can be removed through reassignment."
   ]
  },
  {
   "cell_type": "code",
   "execution_count": 12,
   "metadata": {},
   "outputs": [
    {
     "data": {
      "text/html": [
       "<table>\n",
       "<thead><tr><th></th><th scope=col>A</th><th scope=col>B</th><th scope=col>C</th><th scope=col></th></tr></thead>\n",
       "<tbody>\n",
       "\t<tr><th scope=row>X</th><td>0 </td><td> 0</td><td>7 </td><td>1 </td></tr>\n",
       "\t<tr><th scope=row>Y</th><td>0 </td><td>10</td><td>8 </td><td>2 </td></tr>\n",
       "\t<tr><th scope=row>Z</th><td>0 </td><td> 6</td><td>9 </td><td>3 </td></tr>\n",
       "</tbody>\n",
       "</table>\n"
      ],
      "text/latex": [
       "\\begin{tabular}{r|llll}\n",
       "  & A & B & C & \\\\\n",
       "\\hline\n",
       "\tX & 0  &  0 & 7  & 1 \\\\\n",
       "\tY & 0  & 10 & 8  & 2 \\\\\n",
       "\tZ & 0  &  6 & 9  & 3 \\\\\n",
       "\\end{tabular}\n"
      ],
      "text/markdown": [
       "\n",
       "| <!--/--> | A | B | C |  |\n",
       "|---|---|---|---|---|\n",
       "| X | 0  |  0 | 7  | 1  |\n",
       "| Y | 0  | 10 | 8  | 2  |\n",
       "| Z | 0  |  6 | 9  | 3  |\n",
       "\n"
      ],
      "text/plain": [
       "  A B  C  \n",
       "X 0  0 7 1\n",
       "Y 0 10 8 2\n",
       "Z 0  6 9 3"
      ]
     },
     "metadata": {},
     "output_type": "display_data"
    }
   ],
   "source": [
    "cbind(x, c(1, 2, 3))    # add column"
   ]
  },
  {
   "cell_type": "code",
   "execution_count": 13,
   "metadata": {},
   "outputs": [
    {
     "data": {
      "text/html": [
       "<table>\n",
       "<thead><tr><th></th><th scope=col>A</th><th scope=col>B</th><th scope=col>C</th></tr></thead>\n",
       "<tbody>\n",
       "\t<tr><th scope=row>X</th><td>0 </td><td> 0</td><td>7 </td></tr>\n",
       "\t<tr><th scope=row>Y</th><td>0 </td><td>10</td><td>8 </td></tr>\n",
       "\t<tr><th scope=row>Z</th><td>0 </td><td> 6</td><td>9 </td></tr>\n",
       "\t<tr><th scope=row></th><td>1 </td><td> 2</td><td>3 </td></tr>\n",
       "</tbody>\n",
       "</table>\n"
      ],
      "text/latex": [
       "\\begin{tabular}{r|lll}\n",
       "  & A & B & C\\\\\n",
       "\\hline\n",
       "\tX & 0  &  0 & 7 \\\\\n",
       "\tY & 0  & 10 & 8 \\\\\n",
       "\tZ & 0  &  6 & 9 \\\\\n",
       "\t & 1  &  2 & 3 \\\\\n",
       "\\end{tabular}\n"
      ],
      "text/markdown": [
       "\n",
       "| <!--/--> | A | B | C |\n",
       "|---|---|---|---|\n",
       "| X | 0  |  0 | 7  |\n",
       "| Y | 0  | 10 | 8  |\n",
       "| Z | 0  |  6 | 9  |\n",
       "|  | 1  |  2 | 3  |\n",
       "\n"
      ],
      "text/plain": [
       "  A B  C\n",
       "X 0  0 7\n",
       "Y 0 10 8\n",
       "Z 0  6 9\n",
       "  1  2 3"
      ]
     },
     "metadata": {},
     "output_type": "display_data"
    }
   ],
   "source": [
    "rbind(x,c(1,2,3))    # add row"
   ]
  },
  {
   "cell_type": "code",
   "execution_count": 15,
   "metadata": {},
   "outputs": [
    {
     "data": {
      "text/html": [
       "<table>\n",
       "<thead><tr><th></th><th scope=col>A</th><th scope=col>B</th><th scope=col>C</th></tr></thead>\n",
       "<tbody>\n",
       "\t<tr><th scope=row>X</th><td>0 </td><td> 0</td><td>7 </td></tr>\n",
       "\t<tr><th scope=row>Y</th><td>0 </td><td>10</td><td>8 </td></tr>\n",
       "</tbody>\n",
       "</table>\n"
      ],
      "text/latex": [
       "\\begin{tabular}{r|lll}\n",
       "  & A & B & C\\\\\n",
       "\\hline\n",
       "\tX & 0  &  0 & 7 \\\\\n",
       "\tY & 0  & 10 & 8 \\\\\n",
       "\\end{tabular}\n"
      ],
      "text/markdown": [
       "\n",
       "| <!--/--> | A | B | C |\n",
       "|---|---|---|---|\n",
       "| X | 0  |  0 | 7  |\n",
       "| Y | 0  | 10 | 8  |\n",
       "\n"
      ],
      "text/plain": [
       "  A B  C\n",
       "X 0  0 7\n",
       "Y 0 10 8"
      ]
     },
     "metadata": {},
     "output_type": "display_data"
    }
   ],
   "source": [
    "x <- x[1:2,]; x    # remove last two row"
   ]
  },
  {
   "cell_type": "code",
   "execution_count": 16,
   "metadata": {},
   "outputs": [],
   "source": [
    "# Dimension of matrix can be modified as well, using the dim() function."
   ]
  },
  {
   "cell_type": "code",
   "execution_count": 17,
   "metadata": {},
   "outputs": [
    {
     "data": {
      "text/html": [
       "<table>\n",
       "<thead><tr><th></th><th scope=col>A</th><th scope=col>B</th><th scope=col>C</th></tr></thead>\n",
       "<tbody>\n",
       "\t<tr><th scope=row>X</th><td>0 </td><td> 0</td><td>7 </td></tr>\n",
       "\t<tr><th scope=row>Y</th><td>0 </td><td>10</td><td>8 </td></tr>\n",
       "</tbody>\n",
       "</table>\n"
      ],
      "text/latex": [
       "\\begin{tabular}{r|lll}\n",
       "  & A & B & C\\\\\n",
       "\\hline\n",
       "\tX & 0  &  0 & 7 \\\\\n",
       "\tY & 0  & 10 & 8 \\\\\n",
       "\\end{tabular}\n"
      ],
      "text/markdown": [
       "\n",
       "| <!--/--> | A | B | C |\n",
       "|---|---|---|---|\n",
       "| X | 0  |  0 | 7  |\n",
       "| Y | 0  | 10 | 8  |\n",
       "\n"
      ],
      "text/plain": [
       "  A B  C\n",
       "X 0  0 7\n",
       "Y 0 10 8"
      ]
     },
     "metadata": {},
     "output_type": "display_data"
    }
   ],
   "source": [
    "x"
   ]
  },
  {
   "cell_type": "code",
   "execution_count": 18,
   "metadata": {},
   "outputs": [
    {
     "data": {
      "text/html": [
       "<table>\n",
       "<tbody>\n",
       "\t<tr><td>0 </td><td>10</td></tr>\n",
       "\t<tr><td>0 </td><td> 7</td></tr>\n",
       "\t<tr><td>0 </td><td> 8</td></tr>\n",
       "</tbody>\n",
       "</table>\n"
      ],
      "text/latex": [
       "\\begin{tabular}{ll}\n",
       "\t 0  & 10\\\\\n",
       "\t 0  &  7\\\\\n",
       "\t 0  &  8\\\\\n",
       "\\end{tabular}\n"
      ],
      "text/markdown": [
       "\n",
       "| 0  | 10 |\n",
       "| 0  |  7 |\n",
       "| 0  |  8 |\n",
       "\n"
      ],
      "text/plain": [
       "     [,1] [,2]\n",
       "[1,] 0    10  \n",
       "[2,] 0     7  \n",
       "[3,] 0     8  "
      ]
     },
     "metadata": {},
     "output_type": "display_data"
    }
   ],
   "source": [
    "dim(x) <- c(3,2); x    # change to 3X2 matrix"
   ]
  },
  {
   "cell_type": "code",
   "execution_count": 19,
   "metadata": {},
   "outputs": [
    {
     "data": {
      "text/html": [
       "<table>\n",
       "<tbody>\n",
       "\t<tr><td>0 </td><td>0 </td><td>0 </td><td>10</td><td>7 </td><td>8 </td></tr>\n",
       "</tbody>\n",
       "</table>\n"
      ],
      "text/latex": [
       "\\begin{tabular}{llllll}\n",
       "\t 0  & 0  & 0  & 10 & 7  & 8 \\\\\n",
       "\\end{tabular}\n"
      ],
      "text/markdown": [
       "\n",
       "| 0  | 0  | 0  | 10 | 7  | 8  |\n",
       "\n"
      ],
      "text/plain": [
       "     [,1] [,2] [,3] [,4] [,5] [,6]\n",
       "[1,] 0    0    0    10   7    8   "
      ]
     },
     "metadata": {},
     "output_type": "display_data"
    }
   ],
   "source": [
    "dim(x) <- c(1,6); x    # change to 1X6 matrix"
   ]
  },
  {
   "cell_type": "code",
   "execution_count": 25,
   "metadata": {},
   "outputs": [
    {
     "name": "stderr",
     "output_type": "stream",
     "text": [
      "Warning message in matrix(1:8, nrow = 3):\n",
      "\"data length [8] is not a sub-multiple or multiple of the number of rows [3]\""
     ]
    }
   ],
   "source": [
    "a<-matrix(1:8, nrow=3)"
   ]
  },
  {
   "cell_type": "code",
   "execution_count": 26,
   "metadata": {},
   "outputs": [
    {
     "data": {
      "text/html": [
       "<table>\n",
       "<tbody>\n",
       "\t<tr><td>1</td><td>4</td><td>7</td></tr>\n",
       "\t<tr><td>2</td><td>5</td><td>8</td></tr>\n",
       "\t<tr><td>3</td><td>6</td><td>1</td></tr>\n",
       "</tbody>\n",
       "</table>\n"
      ],
      "text/latex": [
       "\\begin{tabular}{lll}\n",
       "\t 1 & 4 & 7\\\\\n",
       "\t 2 & 5 & 8\\\\\n",
       "\t 3 & 6 & 1\\\\\n",
       "\\end{tabular}\n"
      ],
      "text/markdown": [
       "\n",
       "| 1 | 4 | 7 |\n",
       "| 2 | 5 | 8 |\n",
       "| 3 | 6 | 1 |\n",
       "\n"
      ],
      "text/plain": [
       "     [,1] [,2] [,3]\n",
       "[1,] 1    4    7   \n",
       "[2,] 2    5    8   \n",
       "[3,] 3    6    1   "
      ]
     },
     "metadata": {},
     "output_type": "display_data"
    }
   ],
   "source": [
    "a"
   ]
  },
  {
   "cell_type": "markdown",
   "metadata": {},
   "source": [
    "# By default the matrix function reorders a vector into columns, but we can also tell R to use rows instead."
   ]
  },
  {
   "cell_type": "markdown",
   "metadata": {},
   "source": [
    "# Special matrices"
   ]
  },
  {
   "cell_type": "markdown",
   "metadata": {},
   "source": [
    "# We can also create a matrix of a specified dimension where every element is the same."
   ]
  },
  {
   "cell_type": "code",
   "execution_count": 29,
   "metadata": {},
   "outputs": [
    {
     "data": {
      "text/html": [
       "<table>\n",
       "<tbody>\n",
       "\t<tr><td>5</td><td>5</td><td>5</td><td>5</td></tr>\n",
       "\t<tr><td>5</td><td>5</td><td>5</td><td>5</td></tr>\n",
       "\t<tr><td>5</td><td>5</td><td>5</td><td>5</td></tr>\n",
       "</tbody>\n",
       "</table>\n"
      ],
      "text/latex": [
       "\\begin{tabular}{llll}\n",
       "\t 5 & 5 & 5 & 5\\\\\n",
       "\t 5 & 5 & 5 & 5\\\\\n",
       "\t 5 & 5 & 5 & 5\\\\\n",
       "\\end{tabular}\n"
      ],
      "text/markdown": [
       "\n",
       "| 5 | 5 | 5 | 5 |\n",
       "| 5 | 5 | 5 | 5 |\n",
       "| 5 | 5 | 5 | 5 |\n",
       "\n"
      ],
      "text/plain": [
       "     [,1] [,2] [,3] [,4]\n",
       "[1,] 5    5    5    5   \n",
       "[2,] 5    5    5    5   \n",
       "[3,] 5    5    5    5   "
      ]
     },
     "metadata": {},
     "output_type": "display_data"
    }
   ],
   "source": [
    "z<- matrix(5, 3, 4) # 3*4 matrix of value 5\n",
    "z"
   ]
  },
  {
   "cell_type": "markdown",
   "metadata": {},
   "source": [
    "# We can create a matrix with specified elements on the diagonal. (And 0 on the off-diagonals.)"
   ]
  },
  {
   "cell_type": "code",
   "execution_count": 30,
   "metadata": {},
   "outputs": [
    {
     "data": {
      "text/html": [
       "<table>\n",
       "<tbody>\n",
       "\t<tr><td>1</td><td>0</td><td>0</td></tr>\n",
       "\t<tr><td>0</td><td>1</td><td>0</td></tr>\n",
       "\t<tr><td>0</td><td>0</td><td>1</td></tr>\n",
       "</tbody>\n",
       "</table>\n"
      ],
      "text/latex": [
       "\\begin{tabular}{lll}\n",
       "\t 1 & 0 & 0\\\\\n",
       "\t 0 & 1 & 0\\\\\n",
       "\t 0 & 0 & 1\\\\\n",
       "\\end{tabular}\n"
      ],
      "text/markdown": [
       "\n",
       "| 1 | 0 | 0 |\n",
       "| 0 | 1 | 0 |\n",
       "| 0 | 0 | 1 |\n",
       "\n"
      ],
      "text/plain": [
       "     [,1] [,2] [,3]\n",
       "[1,] 1    0    0   \n",
       "[2,] 0    1    0   \n",
       "[3,] 0    0    1   "
      ]
     },
     "metadata": {},
     "output_type": "display_data"
    }
   ],
   "source": [
    "diag(3)"
   ]
  },
  {
   "cell_type": "code",
   "execution_count": 31,
   "metadata": {},
   "outputs": [
    {
     "data": {
      "text/html": [
       "<table>\n",
       "<tbody>\n",
       "\t<tr><td>1</td><td>0</td><td>0</td><td>0</td></tr>\n",
       "\t<tr><td>0</td><td>2</td><td>0</td><td>0</td></tr>\n",
       "\t<tr><td>0</td><td>0</td><td>3</td><td>0</td></tr>\n",
       "\t<tr><td>0</td><td>0</td><td>0</td><td>4</td></tr>\n",
       "</tbody>\n",
       "</table>\n"
      ],
      "text/latex": [
       "\\begin{tabular}{llll}\n",
       "\t 1 & 0 & 0 & 0\\\\\n",
       "\t 0 & 2 & 0 & 0\\\\\n",
       "\t 0 & 0 & 3 & 0\\\\\n",
       "\t 0 & 0 & 0 & 4\\\\\n",
       "\\end{tabular}\n"
      ],
      "text/markdown": [
       "\n",
       "| 1 | 0 | 0 | 0 |\n",
       "| 0 | 2 | 0 | 0 |\n",
       "| 0 | 0 | 3 | 0 |\n",
       "| 0 | 0 | 0 | 4 |\n",
       "\n"
      ],
      "text/plain": [
       "     [,1] [,2] [,3] [,4]\n",
       "[1,] 1    0    0    0   \n",
       "[2,] 0    2    0    0   \n",
       "[3,] 0    0    3    0   \n",
       "[4,] 0    0    0    4   "
      ]
     },
     "metadata": {},
     "output_type": "display_data"
    }
   ],
   "source": [
    "diag(1:4)"
   ]
  },
  {
   "cell_type": "code",
   "execution_count": 32,
   "metadata": {},
   "outputs": [],
   "source": [
    "x <- matrix(1:16, nrow = 4, dimnames = list(c(\"W\",\"X\",\"Y\",\"Z\"), c(\"A\",\"B\",\"C\",\"D\")))"
   ]
  },
  {
   "cell_type": "code",
   "execution_count": 33,
   "metadata": {},
   "outputs": [
    {
     "data": {
      "text/html": [
       "<table>\n",
       "<thead><tr><th></th><th scope=col>A</th><th scope=col>B</th><th scope=col>C</th><th scope=col>D</th></tr></thead>\n",
       "<tbody>\n",
       "\t<tr><th scope=row>W</th><td>1 </td><td>5 </td><td> 9</td><td>13</td></tr>\n",
       "\t<tr><th scope=row>X</th><td>2 </td><td>6 </td><td>10</td><td>14</td></tr>\n",
       "\t<tr><th scope=row>Y</th><td>3 </td><td>7 </td><td>11</td><td>15</td></tr>\n",
       "\t<tr><th scope=row>Z</th><td>4 </td><td>8 </td><td>12</td><td>16</td></tr>\n",
       "</tbody>\n",
       "</table>\n"
      ],
      "text/latex": [
       "\\begin{tabular}{r|llll}\n",
       "  & A & B & C & D\\\\\n",
       "\\hline\n",
       "\tW & 1  & 5  &  9 & 13\\\\\n",
       "\tX & 2  & 6  & 10 & 14\\\\\n",
       "\tY & 3  & 7  & 11 & 15\\\\\n",
       "\tZ & 4  & 8  & 12 & 16\\\\\n",
       "\\end{tabular}\n"
      ],
      "text/markdown": [
       "\n",
       "| <!--/--> | A | B | C | D |\n",
       "|---|---|---|---|---|\n",
       "| W | 1  | 5  |  9 | 13 |\n",
       "| X | 2  | 6  | 10 | 14 |\n",
       "| Y | 3  | 7  | 11 | 15 |\n",
       "| Z | 4  | 8  | 12 | 16 |\n",
       "\n"
      ],
      "text/plain": [
       "  A B C  D \n",
       "W 1 5  9 13\n",
       "X 2 6 10 14\n",
       "Y 3 7 11 15\n",
       "Z 4 8 12 16"
      ]
     },
     "metadata": {},
     "output_type": "display_data"
    }
   ],
   "source": [
    "x"
   ]
  },
  {
   "cell_type": "markdown",
   "metadata": {},
   "source": [
    "# Matrix Operations:"
   ]
  },
  {
   "cell_type": "code",
   "execution_count": 34,
   "metadata": {},
   "outputs": [],
   "source": [
    "x = 1:9"
   ]
  },
  {
   "cell_type": "code",
   "execution_count": 35,
   "metadata": {},
   "outputs": [],
   "source": [
    "y = 9:1"
   ]
  },
  {
   "cell_type": "code",
   "execution_count": 36,
   "metadata": {},
   "outputs": [],
   "source": [
    "m1 = matrix(x, 3, 3)"
   ]
  },
  {
   "cell_type": "code",
   "execution_count": 37,
   "metadata": {},
   "outputs": [
    {
     "data": {
      "text/html": [
       "<table>\n",
       "<tbody>\n",
       "\t<tr><td>1</td><td>4</td><td>7</td></tr>\n",
       "\t<tr><td>2</td><td>5</td><td>8</td></tr>\n",
       "\t<tr><td>3</td><td>6</td><td>9</td></tr>\n",
       "</tbody>\n",
       "</table>\n"
      ],
      "text/latex": [
       "\\begin{tabular}{lll}\n",
       "\t 1 & 4 & 7\\\\\n",
       "\t 2 & 5 & 8\\\\\n",
       "\t 3 & 6 & 9\\\\\n",
       "\\end{tabular}\n"
      ],
      "text/markdown": [
       "\n",
       "| 1 | 4 | 7 |\n",
       "| 2 | 5 | 8 |\n",
       "| 3 | 6 | 9 |\n",
       "\n"
      ],
      "text/plain": [
       "     [,1] [,2] [,3]\n",
       "[1,] 1    4    7   \n",
       "[2,] 2    5    8   \n",
       "[3,] 3    6    9   "
      ]
     },
     "metadata": {},
     "output_type": "display_data"
    }
   ],
   "source": [
    "m1"
   ]
  },
  {
   "cell_type": "code",
   "execution_count": 38,
   "metadata": {},
   "outputs": [],
   "source": [
    "m2 = matrix(y, 3, 3)"
   ]
  },
  {
   "cell_type": "code",
   "execution_count": 39,
   "metadata": {},
   "outputs": [
    {
     "data": {
      "text/html": [
       "<table>\n",
       "<tbody>\n",
       "\t<tr><td>9</td><td>6</td><td>3</td></tr>\n",
       "\t<tr><td>8</td><td>5</td><td>2</td></tr>\n",
       "\t<tr><td>7</td><td>4</td><td>1</td></tr>\n",
       "</tbody>\n",
       "</table>\n"
      ],
      "text/latex": [
       "\\begin{tabular}{lll}\n",
       "\t 9 & 6 & 3\\\\\n",
       "\t 8 & 5 & 2\\\\\n",
       "\t 7 & 4 & 1\\\\\n",
       "\\end{tabular}\n"
      ],
      "text/markdown": [
       "\n",
       "| 9 | 6 | 3 |\n",
       "| 8 | 5 | 2 |\n",
       "| 7 | 4 | 1 |\n",
       "\n"
      ],
      "text/plain": [
       "     [,1] [,2] [,3]\n",
       "[1,] 9    6    3   \n",
       "[2,] 8    5    2   \n",
       "[3,] 7    4    1   "
      ]
     },
     "metadata": {},
     "output_type": "display_data"
    }
   ],
   "source": [
    "m2"
   ]
  },
  {
   "cell_type": "code",
   "execution_count": 40,
   "metadata": {},
   "outputs": [
    {
     "name": "stdout",
     "output_type": "stream",
     "text": [
      "     [,1] [,2] [,3]\n",
      "[1,]   10   10   10\n",
      "[2,]   10   10   10\n",
      "[3,]   10   10   10\n"
     ]
    }
   ],
   "source": [
    "print(m1+m2)"
   ]
  },
  {
   "cell_type": "code",
   "execution_count": 41,
   "metadata": {},
   "outputs": [
    {
     "name": "stdout",
     "output_type": "stream",
     "text": [
      "     [,1] [,2] [,3]\n",
      "[1,]   -8   -2    4\n",
      "[2,]   -6    0    6\n",
      "[3,]   -4    2    8\n"
     ]
    }
   ],
   "source": [
    "print(m1-m2)"
   ]
  },
  {
   "cell_type": "code",
   "execution_count": 42,
   "metadata": {},
   "outputs": [
    {
     "name": "stdout",
     "output_type": "stream",
     "text": [
      "     [,1] [,2] [,3]\n",
      "[1,]    8    2   -4\n",
      "[2,]    6    0   -6\n",
      "[3,]    4   -2   -8\n"
     ]
    }
   ],
   "source": [
    "print(m2-m1)"
   ]
  },
  {
   "cell_type": "code",
   "execution_count": 43,
   "metadata": {},
   "outputs": [
    {
     "name": "stdout",
     "output_type": "stream",
     "text": [
      "     [,1] [,2] [,3]\n",
      "[1,]    9   24   21\n",
      "[2,]   16   25   16\n",
      "[3,]   21   24    9\n"
     ]
    }
   ],
   "source": [
    "print(m1*m2)"
   ]
  },
  {
   "cell_type": "code",
   "execution_count": 44,
   "metadata": {},
   "outputs": [
    {
     "name": "stdout",
     "output_type": "stream",
     "text": [
      "          [,1]      [,2]     [,3]\n",
      "[1,] 0.1111111 0.6666667 2.333333\n",
      "[2,] 0.2500000 1.0000000 4.000000\n",
      "[3,] 0.4285714 1.5000000 9.000000\n"
     ]
    }
   ],
   "source": [
    "print(m1/m2)"
   ]
  },
  {
   "cell_type": "markdown",
   "metadata": {},
   "source": [
    "# Note that X * Y is not matrix multiplication. It is element by element multiplication. (Same for X / Y). Instead, matrix multiplication uses %*%."
   ]
  },
  {
   "cell_type": "markdown",
   "metadata": {},
   "source": [
    "# Other matrix functions include t() which gives the transpose of a matrix and solve() which returns the inverse of a square matrix if it is invertible."
   ]
  },
  {
   "cell_type": "code",
   "execution_count": 45,
   "metadata": {},
   "outputs": [
    {
     "data": {
      "text/html": [
       "<table>\n",
       "<tbody>\n",
       "\t<tr><td> 90</td><td>54 </td><td>18 </td></tr>\n",
       "\t<tr><td>114</td><td>69 </td><td>24 </td></tr>\n",
       "\t<tr><td>138</td><td>84 </td><td>30 </td></tr>\n",
       "</tbody>\n",
       "</table>\n"
      ],
      "text/latex": [
       "\\begin{tabular}{lll}\n",
       "\t  90 & 54  & 18 \\\\\n",
       "\t 114 & 69  & 24 \\\\\n",
       "\t 138 & 84  & 30 \\\\\n",
       "\\end{tabular}\n"
      ],
      "text/markdown": [
       "\n",
       "|  90 | 54  | 18  |\n",
       "| 114 | 69  | 24  |\n",
       "| 138 | 84  | 30  |\n",
       "\n"
      ],
      "text/plain": [
       "     [,1] [,2] [,3]\n",
       "[1,]  90  54   18  \n",
       "[2,] 114  69   24  \n",
       "[3,] 138  84   30  "
      ]
     },
     "metadata": {},
     "output_type": "display_data"
    }
   ],
   "source": [
    "m1 %*% m2 # matrix multiplication"
   ]
  },
  {
   "cell_type": "code",
   "execution_count": 46,
   "metadata": {},
   "outputs": [],
   "source": [
    "z<-matrix(c(9, 2, -3, 2, 4, -2, -3, -2, 16), 3, byrow = TRUE)"
   ]
  },
  {
   "cell_type": "code",
   "execution_count": 47,
   "metadata": {},
   "outputs": [
    {
     "data": {
      "text/html": [
       "<table>\n",
       "<tbody>\n",
       "\t<tr><td> 9</td><td> 2</td><td>-3</td></tr>\n",
       "\t<tr><td> 2</td><td> 4</td><td>-2</td></tr>\n",
       "\t<tr><td>-3</td><td>-2</td><td>16</td></tr>\n",
       "</tbody>\n",
       "</table>\n"
      ],
      "text/latex": [
       "\\begin{tabular}{lll}\n",
       "\t  9 &  2 & -3\\\\\n",
       "\t  2 &  4 & -2\\\\\n",
       "\t -3 & -2 & 16\\\\\n",
       "\\end{tabular}\n"
      ],
      "text/markdown": [
       "\n",
       "|  9 |  2 | -3 |\n",
       "|  2 |  4 | -2 |\n",
       "| -3 | -2 | 16 |\n",
       "\n"
      ],
      "text/plain": [
       "     [,1] [,2] [,3]\n",
       "[1,]  9    2   -3  \n",
       "[2,]  2    4   -2  \n",
       "[3,] -3   -2   16  "
      ]
     },
     "metadata": {},
     "output_type": "display_data"
    }
   ],
   "source": [
    "z"
   ]
  },
  {
   "cell_type": "code",
   "execution_count": 48,
   "metadata": {},
   "outputs": [
    {
     "data": {
      "text/html": [
       "<table>\n",
       "<tbody>\n",
       "\t<tr><td> 0.12931034</td><td>-0.05603448</td><td>0.01724138 </td></tr>\n",
       "\t<tr><td>-0.05603448</td><td> 0.29094828</td><td>0.02586207 </td></tr>\n",
       "\t<tr><td> 0.01724138</td><td> 0.02586207</td><td>0.06896552 </td></tr>\n",
       "</tbody>\n",
       "</table>\n"
      ],
      "text/latex": [
       "\\begin{tabular}{lll}\n",
       "\t  0.12931034 & -0.05603448 & 0.01724138 \\\\\n",
       "\t -0.05603448 &  0.29094828 & 0.02586207 \\\\\n",
       "\t  0.01724138 &  0.02586207 & 0.06896552 \\\\\n",
       "\\end{tabular}\n"
      ],
      "text/markdown": [
       "\n",
       "|  0.12931034 | -0.05603448 | 0.01724138  |\n",
       "| -0.05603448 |  0.29094828 | 0.02586207  |\n",
       "|  0.01724138 |  0.02586207 | 0.06896552  |\n",
       "\n"
      ],
      "text/plain": [
       "     [,1]        [,2]        [,3]      \n",
       "[1,]  0.12931034 -0.05603448 0.01724138\n",
       "[2,] -0.05603448  0.29094828 0.02586207\n",
       "[3,]  0.01724138  0.02586207 0.06896552"
      ]
     },
     "metadata": {},
     "output_type": "display_data"
    }
   ],
   "source": [
    "solve(z)"
   ]
  },
  {
   "cell_type": "code",
   "execution_count": 49,
   "metadata": {},
   "outputs": [
    {
     "data": {
      "text/html": [
       "<ol class=list-inline>\n",
       "\t<li>3</li>\n",
       "\t<li>3</li>\n",
       "</ol>\n"
      ],
      "text/latex": [
       "\\begin{enumerate*}\n",
       "\\item 3\n",
       "\\item 3\n",
       "\\end{enumerate*}\n"
      ],
      "text/markdown": [
       "1. 3\n",
       "2. 3\n",
       "\n",
       "\n"
      ],
      "text/plain": [
       "[1] 3 3"
      ]
     },
     "metadata": {},
     "output_type": "display_data"
    }
   ],
   "source": [
    "dim(z)"
   ]
  },
  {
   "cell_type": "code",
   "execution_count": 50,
   "metadata": {},
   "outputs": [
    {
     "data": {
      "text/html": [
       "<ol class=list-inline>\n",
       "\t<li>8</li>\n",
       "\t<li>4</li>\n",
       "\t<li>11</li>\n",
       "</ol>\n"
      ],
      "text/latex": [
       "\\begin{enumerate*}\n",
       "\\item 8\n",
       "\\item 4\n",
       "\\item 11\n",
       "\\end{enumerate*}\n"
      ],
      "text/markdown": [
       "1. 8\n",
       "2. 4\n",
       "3. 11\n",
       "\n",
       "\n"
      ],
      "text/plain": [
       "[1]  8  4 11"
      ]
     },
     "metadata": {},
     "output_type": "display_data"
    }
   ],
   "source": [
    "rowSums(z)"
   ]
  },
  {
   "cell_type": "code",
   "execution_count": 51,
   "metadata": {},
   "outputs": [
    {
     "data": {
      "text/html": [
       "<ol class=list-inline>\n",
       "\t<li>8</li>\n",
       "\t<li>4</li>\n",
       "\t<li>11</li>\n",
       "</ol>\n"
      ],
      "text/latex": [
       "\\begin{enumerate*}\n",
       "\\item 8\n",
       "\\item 4\n",
       "\\item 11\n",
       "\\end{enumerate*}\n"
      ],
      "text/markdown": [
       "1. 8\n",
       "2. 4\n",
       "3. 11\n",
       "\n",
       "\n"
      ],
      "text/plain": [
       "[1]  8  4 11"
      ]
     },
     "metadata": {},
     "output_type": "display_data"
    }
   ],
   "source": [
    "colSums(z)"
   ]
  },
  {
   "cell_type": "code",
   "execution_count": 52,
   "metadata": {},
   "outputs": [
    {
     "data": {
      "text/html": [
       "<ol class=list-inline>\n",
       "\t<li>2.66666666666667</li>\n",
       "\t<li>1.33333333333333</li>\n",
       "\t<li>3.66666666666667</li>\n",
       "</ol>\n"
      ],
      "text/latex": [
       "\\begin{enumerate*}\n",
       "\\item 2.66666666666667\n",
       "\\item 1.33333333333333\n",
       "\\item 3.66666666666667\n",
       "\\end{enumerate*}\n"
      ],
      "text/markdown": [
       "1. 2.66666666666667\n",
       "2. 1.33333333333333\n",
       "3. 3.66666666666667\n",
       "\n",
       "\n"
      ],
      "text/plain": [
       "[1] 2.666667 1.333333 3.666667"
      ]
     },
     "metadata": {},
     "output_type": "display_data"
    }
   ],
   "source": [
    "rowMeans(z)"
   ]
  },
  {
   "cell_type": "code",
   "execution_count": 53,
   "metadata": {},
   "outputs": [
    {
     "data": {
      "text/html": [
       "<ol class=list-inline>\n",
       "\t<li>2.66666666666667</li>\n",
       "\t<li>1.33333333333333</li>\n",
       "\t<li>3.66666666666667</li>\n",
       "</ol>\n"
      ],
      "text/latex": [
       "\\begin{enumerate*}\n",
       "\\item 2.66666666666667\n",
       "\\item 1.33333333333333\n",
       "\\item 3.66666666666667\n",
       "\\end{enumerate*}\n"
      ],
      "text/markdown": [
       "1. 2.66666666666667\n",
       "2. 1.33333333333333\n",
       "3. 3.66666666666667\n",
       "\n",
       "\n"
      ],
      "text/plain": [
       "[1] 2.666667 1.333333 3.666667"
      ]
     },
     "metadata": {},
     "output_type": "display_data"
    }
   ],
   "source": [
    "colMeans(z)"
   ]
  },
  {
   "cell_type": "code",
   "execution_count": 54,
   "metadata": {},
   "outputs": [
    {
     "data": {
      "text/html": [
       "<ol class=list-inline>\n",
       "\t<li>9</li>\n",
       "\t<li>4</li>\n",
       "\t<li>16</li>\n",
       "</ol>\n"
      ],
      "text/latex": [
       "\\begin{enumerate*}\n",
       "\\item 9\n",
       "\\item 4\n",
       "\\item 16\n",
       "\\end{enumerate*}\n"
      ],
      "text/markdown": [
       "1. 9\n",
       "2. 4\n",
       "3. 16\n",
       "\n",
       "\n"
      ],
      "text/plain": [
       "[1]  9  4 16"
      ]
     },
     "metadata": {},
     "output_type": "display_data"
    }
   ],
   "source": [
    "diag(z)"
   ]
  },
  {
   "cell_type": "markdown",
   "metadata": {},
   "source": [
    "# Exercises"
   ]
  },
  {
   "cell_type": "markdown",
   "metadata": {},
   "source": [
    "## 1) Create three vectors x,y,z with integers and each vector has 3 elements.Combine the three vectors to become a 3×3 matrix A where each column represents a vector. Change the row names to a,b,c."
   ]
  },
  {
   "cell_type": "markdown",
   "metadata": {},
   "source": [
    "# 2) Consider A=matrix(c(2,0,1,3), ncol=2) and B=matrix(c(5,2,4,-1), ncol=2).\n",
    "\n",
    "a) Find A + B\n",
    "\n",
    "b) Find A – B"
   ]
  },
  {
   "cell_type": "markdown",
   "metadata": {},
   "source": [
    "# 3)Create a vector with 12 integers. Convert the vector to a 4*3 matrix  B  using  matrix(). Please change the column names to  x, y, z  and row names to  a, b, c, d. The argument  byrow  in  matrix()  is set to be  FALSE  by default. Please change it to  TRUE  and print  B  to see the differences."
   ]
  },
  {
   "cell_type": "markdown",
   "metadata": {},
   "source": [
    "# 4) Obtain the transpose matrix of  B  named  tB ."
   ]
  },
  {
   "cell_type": "markdown",
   "metadata": {},
   "source": [
    "# 5) Extract a sub-matrix from  B  named  subB . It should be a 2×2 matrix which includes the last two rows of matrix  B  and their corresponding columns."
   ]
  },
  {
   "cell_type": "markdown",
   "metadata": {},
   "source": [
    "# 6) Using the the diag function build a diagonal matrix of size 4 with the following values in the diagonal 4,1,2,3."
   ]
  },
  {
   "cell_type": "markdown",
   "metadata": {},
   "source": [
    "# For exercises below use matrix A and B as given in Q.2"
   ]
  },
  {
   "cell_type": "markdown",
   "metadata": {},
   "source": [
    "# 7) Find the solution for Ab,  b=c(7,4)."
   ]
  },
  {
   "cell_type": "markdown",
   "metadata": {},
   "source": [
    "# 8) Find the solution for AB"
   ]
  },
  {
   "cell_type": "markdown",
   "metadata": {},
   "source": [
    "# 9) Find the transpose matrix of A."
   ]
  },
  {
   "cell_type": "markdown",
   "metadata": {},
   "source": [
    "# 10) Find the inverse matrix of A."
   ]
  },
  {
   "cell_type": "markdown",
   "metadata": {},
   "source": [
    "# 11)\n",
    "a) Create a list containing a vector, a matrix and a list.\n",
    "\n",
    "b) Give names to the elements in the list.\n",
    "\n",
    "c) Show the list.\n",
    "\n",
    "d) Access the first element of the list.\n",
    "\n",
    "e) Access the third element.\n",
    "\n",
    "f) Access the list element using the name of the element.\n",
    "\n",
    "g) Add element at the end of the list.\n",
    "\n",
    "h) Remove the last element.\n",
    "\n",
    "i)Print the 4th Element.\n",
    "\n",
    "j) Update the 3rd Element.\n",
    "\n",
    "k) Update the 3rd Element.\n",
    "\n",
    "l) Create any two lists.\n",
    "\n",
    "m) Merge the two lists.\n",
    "\n",
    "n) Print the merged list.\n",
    "\n",
    "o) Convert the lists to vectors.\n",
    "\n"
   ]
  },
  {
   "cell_type": "markdown",
   "metadata": {},
   "source": [
    "# 12) If we have A1*M=A2  (Here * represents the conventional multiplication), A1 and A2 are random matrices, solve for  M.\n",
    "(Hint- use the  runif()  and  solve()  functions. E.g.,  runif(9)  should give you 9 random numbers.    5x = 10, what's x?>solve(5,10) x is 2 here)"
   ]
  },
  {
   "cell_type": "markdown",
   "metadata": {},
   "source": [
    "# 13)\n",
    "a) create a 3* 4 matrix by arranging elements sequentially by row.\n",
    "\n",
    "b) create a 3* 4 matrix by arranging elements sequentially by column.\n",
    "\n",
    "c) Define the column and row names for the matrix created for a and b.\n",
    "    \n",
    "perform the following for matrix at a-\n",
    "\n",
    "d) Access the element at 3rd column and 1st row.\n",
    "\n",
    "e) Access the element at 2nd column and 4th row.\n",
    "\n",
    "f) Access only the  2nd row.\n",
    "\n",
    "g) Access only the 3rd column.\n",
    "\n",
    "h) Create two 2x3 matrices.\n",
    "\n",
    "i) Add the matrices.\n",
    "\n",
    "j) Subtract the matrices\n",
    "\n",
    "k) Multiply the matrices.\n",
    "\n",
    "l) Divide the matrices\n"
   ]
  },
  {
   "cell_type": "markdown",
   "metadata": {},
   "source": [
    "# 14)\n",
    "bind the following vectors row wise and column wise to create matrix\n",
    "\n",
    "a. a <- 1:5 ; b <- 1:5\n",
    "\n",
    "b. a <- 1:5 ; b <- c('1', '2', '3', '4', '5')\n",
    "\n",
    "c. a <- 1:5 ; b <- 1:4; c <- 1:3\n"
   ]
  },
  {
   "cell_type": "code",
   "execution_count": null,
   "metadata": {},
   "outputs": [],
   "source": []
  }
 ],
 "metadata": {
  "kernelspec": {
   "display_name": "R",
   "language": "R",
   "name": "ir"
  },
  "language_info": {
   "codemirror_mode": "r",
   "file_extension": ".r",
   "mimetype": "text/x-r-source",
   "name": "R",
   "pygments_lexer": "r",
   "version": "3.6.1"
  }
 },
 "nbformat": 4,
 "nbformat_minor": 2
}
