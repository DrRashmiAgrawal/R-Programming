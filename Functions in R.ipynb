{
 "cells": [
  {
   "cell_type": "markdown",
   "metadata": {},
   "source": [
    "# A function in programming is a reusable chunk of code that performs a certain job. For example, if you need to calculate an average of a list of values multiple times, it would be tedious to keep adding code for the operation each time. Instead, you could write a function that calculates the average and call it as many times as you want. "
   ]
  },
  {
   "cell_type": "markdown",
   "metadata": {},
   "source": [
    "# R has hundreds of built-in functions that perform mathematical and graphical operations. R also allows you to define your own customized functions to suit your needs. This tutorial aims to help you with rules in writing and calling functions in R."
   ]
  },
  {
   "cell_type": "code",
   "execution_count": 1,
   "metadata": {},
   "outputs": [
    {
     "name": "stdout",
     "output_type": "stream",
     "text": [
      "Rashmi\n"
     ]
    },
    {
     "data": {
      "text/html": [
       "'Hello Rashmi'"
      ],
      "text/latex": [
       "'Hello Rashmi'"
      ],
      "text/markdown": [
       "'Hello Rashmi'"
      ],
      "text/plain": [
       "[1] \"Hello Rashmi\""
      ]
     },
     "metadata": {},
     "output_type": "display_data"
    }
   ],
   "source": [
    "myname <- function(name){\n",
    "  paste(\"Hello\",name)\n",
    "} \n",
    "name <- readline()\n",
    "myname(name)"
   ]
  },
  {
   "cell_type": "markdown",
   "metadata": {},
   "source": [
    "# Writing R functions with a return value"
   ]
  },
  {
   "cell_type": "code",
   "execution_count": 2,
   "metadata": {},
   "outputs": [],
   "source": [
    "average <-function(num1,num2){\n",
    "  return((num1+num2)/2)\n",
    "}"
   ]
  },
  {
   "cell_type": "code",
   "execution_count": 3,
   "metadata": {},
   "outputs": [
    {
     "name": "stdout",
     "output_type": "stream",
     "text": [
      "[1] 4.5\n"
     ]
    }
   ],
   "source": [
    "a=4\n",
    "b=5\n",
    "c=average(a,b)\n",
    "print(c)"
   ]
  },
  {
   "cell_type": "markdown",
   "metadata": {},
   "source": [
    "# Argument handling in R"
   ]
  },
  {
   "cell_type": "code",
   "execution_count": 4,
   "metadata": {},
   "outputs": [
    {
     "data": {
      "text/html": [
       "'Hello no name'"
      ],
      "text/latex": [
       "'Hello no name'"
      ],
      "text/markdown": [
       "'Hello no name'"
      ],
      "text/plain": [
       "[1] \"Hello no name\""
      ]
     },
     "metadata": {},
     "output_type": "display_data"
    }
   ],
   "source": [
    "myname2 <- function(name=\"no name\"){\n",
    "  paste(\"Hello\",name)\n",
    "}\n",
    " \n",
    "myname2()"
   ]
  },
  {
   "cell_type": "code",
   "execution_count": 5,
   "metadata": {},
   "outputs": [
    {
     "data": {
      "text/html": [
       "'Hello Rashmi Agrawal'"
      ],
      "text/latex": [
       "'Hello Rashmi Agrawal'"
      ],
      "text/markdown": [
       "'Hello Rashmi Agrawal'"
      ],
      "text/plain": [
       "[1] \"Hello Rashmi Agrawal\""
      ]
     },
     "metadata": {},
     "output_type": "display_data"
    }
   ],
   "source": [
    "myname2(\"Rashmi Agrawal\")"
   ]
  },
  {
   "cell_type": "code",
   "execution_count": null,
   "metadata": {},
   "outputs": [],
   "source": []
  }
 ],
 "metadata": {
  "kernelspec": {
   "display_name": "R",
   "language": "R",
   "name": "ir"
  },
  "language_info": {
   "codemirror_mode": "r",
   "file_extension": ".r",
   "mimetype": "text/x-r-source",
   "name": "R",
   "pygments_lexer": "r",
   "version": "3.6.1"
  }
 },
 "nbformat": 4,
 "nbformat_minor": 2
}
