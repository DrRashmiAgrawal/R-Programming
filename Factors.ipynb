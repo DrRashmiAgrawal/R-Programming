{
 "cells": [
  {
   "cell_type": "markdown",
   "metadata": {},
   "source": [
    "# Factors are used to represent categorical data and can be unordered or ordered. An example might be “Male” and “Female” if we consider gender. Factor objects can be created with the factor() function."
   ]
  },
  {
   "cell_type": "code",
   "execution_count": 1,
   "metadata": {},
   "outputs": [],
   "source": [
    "data = c(1,2,2,3,1,2,3,3,1,2,3,3,1)"
   ]
  },
  {
   "cell_type": "code",
   "execution_count": 2,
   "metadata": {},
   "outputs": [],
   "source": [
    "fdata = factor(data)"
   ]
  },
  {
   "cell_type": "code",
   "execution_count": 3,
   "metadata": {},
   "outputs": [
    {
     "data": {
      "text/html": [
       "<ol class=list-inline>\n",
       "\t<li>1</li>\n",
       "\t<li>2</li>\n",
       "\t<li>2</li>\n",
       "\t<li>3</li>\n",
       "\t<li>1</li>\n",
       "\t<li>2</li>\n",
       "\t<li>3</li>\n",
       "\t<li>3</li>\n",
       "\t<li>1</li>\n",
       "\t<li>2</li>\n",
       "\t<li>3</li>\n",
       "\t<li>3</li>\n",
       "\t<li>1</li>\n",
       "</ol>\n",
       "\n",
       "<details>\n",
       "\t<summary style=display:list-item;cursor:pointer>\n",
       "\t\t<strong>Levels</strong>:\n",
       "\t</summary>\n",
       "\t<ol class=list-inline>\n",
       "\t\t<li>'1'</li>\n",
       "\t\t<li>'2'</li>\n",
       "\t\t<li>'3'</li>\n",
       "\t</ol>\n",
       "</details>"
      ],
      "text/latex": [
       "\\begin{enumerate*}\n",
       "\\item 1\n",
       "\\item 2\n",
       "\\item 2\n",
       "\\item 3\n",
       "\\item 1\n",
       "\\item 2\n",
       "\\item 3\n",
       "\\item 3\n",
       "\\item 1\n",
       "\\item 2\n",
       "\\item 3\n",
       "\\item 3\n",
       "\\item 1\n",
       "\\end{enumerate*}\n",
       "\n",
       "\\emph{Levels}: \\begin{enumerate*}\n",
       "\\item '1'\n",
       "\\item '2'\n",
       "\\item '3'\n",
       "\\end{enumerate*}\n"
      ],
      "text/markdown": [
       "1. 1\n",
       "2. 2\n",
       "3. 2\n",
       "4. 3\n",
       "5. 1\n",
       "6. 2\n",
       "7. 3\n",
       "8. 3\n",
       "9. 1\n",
       "10. 2\n",
       "11. 3\n",
       "12. 3\n",
       "13. 1\n",
       "\n",
       "\n",
       "\n",
       "**Levels**: 1. '1'\n",
       "2. '2'\n",
       "3. '3'\n",
       "\n",
       "\n"
      ],
      "text/plain": [
       " [1] 1 2 2 3 1 2 3 3 1 2 3 3 1\n",
       "Levels: 1 2 3"
      ]
     },
     "metadata": {},
     "output_type": "display_data"
    }
   ],
   "source": [
    "fdata"
   ]
  },
  {
   "cell_type": "code",
   "execution_count": 4,
   "metadata": {},
   "outputs": [],
   "source": [
    "rdata = factor(data,labels=c(\"I\",\"II\",\"III\"))"
   ]
  },
  {
   "cell_type": "code",
   "execution_count": 5,
   "metadata": {},
   "outputs": [
    {
     "data": {
      "text/html": [
       "<ol class=list-inline>\n",
       "\t<li>I</li>\n",
       "\t<li>II</li>\n",
       "\t<li>II</li>\n",
       "\t<li>III</li>\n",
       "\t<li>I</li>\n",
       "\t<li>II</li>\n",
       "\t<li>III</li>\n",
       "\t<li>III</li>\n",
       "\t<li>I</li>\n",
       "\t<li>II</li>\n",
       "\t<li>III</li>\n",
       "\t<li>III</li>\n",
       "\t<li>I</li>\n",
       "</ol>\n",
       "\n",
       "<details>\n",
       "\t<summary style=display:list-item;cursor:pointer>\n",
       "\t\t<strong>Levels</strong>:\n",
       "\t</summary>\n",
       "\t<ol class=list-inline>\n",
       "\t\t<li>'I'</li>\n",
       "\t\t<li>'II'</li>\n",
       "\t\t<li>'III'</li>\n",
       "\t</ol>\n",
       "</details>"
      ],
      "text/latex": [
       "\\begin{enumerate*}\n",
       "\\item I\n",
       "\\item II\n",
       "\\item II\n",
       "\\item III\n",
       "\\item I\n",
       "\\item II\n",
       "\\item III\n",
       "\\item III\n",
       "\\item I\n",
       "\\item II\n",
       "\\item III\n",
       "\\item III\n",
       "\\item I\n",
       "\\end{enumerate*}\n",
       "\n",
       "\\emph{Levels}: \\begin{enumerate*}\n",
       "\\item 'I'\n",
       "\\item 'II'\n",
       "\\item 'III'\n",
       "\\end{enumerate*}\n"
      ],
      "text/markdown": [
       "1. I\n",
       "2. II\n",
       "3. II\n",
       "4. III\n",
       "5. I\n",
       "6. II\n",
       "7. III\n",
       "8. III\n",
       "9. I\n",
       "10. II\n",
       "11. III\n",
       "12. III\n",
       "13. I\n",
       "\n",
       "\n",
       "\n",
       "**Levels**: 1. 'I'\n",
       "2. 'II'\n",
       "3. 'III'\n",
       "\n",
       "\n"
      ],
      "text/plain": [
       " [1] I   II  II  III I   II  III III I   II  III III I  \n",
       "Levels: I II III"
      ]
     },
     "metadata": {},
     "output_type": "display_data"
    }
   ],
   "source": [
    "rdata"
   ]
  },
  {
   "cell_type": "code",
   "execution_count": 6,
   "metadata": {},
   "outputs": [],
   "source": [
    "levels(fdata) = c('I','II','III')"
   ]
  },
  {
   "cell_type": "code",
   "execution_count": 7,
   "metadata": {},
   "outputs": [
    {
     "data": {
      "text/html": [
       "<ol class=list-inline>\n",
       "\t<li>I</li>\n",
       "\t<li>II</li>\n",
       "\t<li>II</li>\n",
       "\t<li>III</li>\n",
       "\t<li>I</li>\n",
       "\t<li>II</li>\n",
       "\t<li>III</li>\n",
       "\t<li>III</li>\n",
       "\t<li>I</li>\n",
       "\t<li>II</li>\n",
       "\t<li>III</li>\n",
       "\t<li>III</li>\n",
       "\t<li>I</li>\n",
       "</ol>\n",
       "\n",
       "<details>\n",
       "\t<summary style=display:list-item;cursor:pointer>\n",
       "\t\t<strong>Levels</strong>:\n",
       "\t</summary>\n",
       "\t<ol class=list-inline>\n",
       "\t\t<li>'I'</li>\n",
       "\t\t<li>'II'</li>\n",
       "\t\t<li>'III'</li>\n",
       "\t</ol>\n",
       "</details>"
      ],
      "text/latex": [
       "\\begin{enumerate*}\n",
       "\\item I\n",
       "\\item II\n",
       "\\item II\n",
       "\\item III\n",
       "\\item I\n",
       "\\item II\n",
       "\\item III\n",
       "\\item III\n",
       "\\item I\n",
       "\\item II\n",
       "\\item III\n",
       "\\item III\n",
       "\\item I\n",
       "\\end{enumerate*}\n",
       "\n",
       "\\emph{Levels}: \\begin{enumerate*}\n",
       "\\item 'I'\n",
       "\\item 'II'\n",
       "\\item 'III'\n",
       "\\end{enumerate*}\n"
      ],
      "text/markdown": [
       "1. I\n",
       "2. II\n",
       "3. II\n",
       "4. III\n",
       "5. I\n",
       "6. II\n",
       "7. III\n",
       "8. III\n",
       "9. I\n",
       "10. II\n",
       "11. III\n",
       "12. III\n",
       "13. I\n",
       "\n",
       "\n",
       "\n",
       "**Levels**: 1. 'I'\n",
       "2. 'II'\n",
       "3. 'III'\n",
       "\n",
       "\n"
      ],
      "text/plain": [
       " [1] I   II  II  III I   II  III III I   II  III III I  \n",
       "Levels: I II III"
      ]
     },
     "metadata": {},
     "output_type": "display_data"
    }
   ],
   "source": [
    "fdata"
   ]
  },
  {
   "cell_type": "code",
   "execution_count": 8,
   "metadata": {},
   "outputs": [],
   "source": [
    "mons = c(\"March\",\"April\",\"January\",\"November\",\"January\",\n",
    " \"September\",\"October\",\"September\",\"November\",\"August\",\n",
    "\"January\",\"November\",\"November\",\"February\",\"May\",\"August\",\n",
    " \"July\",\"December\",\"August\",\"August\",\"September\",\"November\",\n",
    "\"February\",\"April\")"
   ]
  },
  {
   "cell_type": "code",
   "execution_count": 9,
   "metadata": {},
   "outputs": [
    {
     "data": {
      "text/html": [
       "<ol class=list-inline>\n",
       "\t<li>'March'</li>\n",
       "\t<li>'April'</li>\n",
       "\t<li>'January'</li>\n",
       "\t<li>'November'</li>\n",
       "\t<li>'January'</li>\n",
       "\t<li>'September'</li>\n",
       "\t<li>'October'</li>\n",
       "\t<li>'September'</li>\n",
       "\t<li>'November'</li>\n",
       "\t<li>'August'</li>\n",
       "\t<li>'January'</li>\n",
       "\t<li>'November'</li>\n",
       "\t<li>'November'</li>\n",
       "\t<li>'February'</li>\n",
       "\t<li>'May'</li>\n",
       "\t<li>'August'</li>\n",
       "\t<li>'July'</li>\n",
       "\t<li>'December'</li>\n",
       "\t<li>'August'</li>\n",
       "\t<li>'August'</li>\n",
       "\t<li>'September'</li>\n",
       "\t<li>'November'</li>\n",
       "\t<li>'February'</li>\n",
       "\t<li>'April'</li>\n",
       "</ol>\n"
      ],
      "text/latex": [
       "\\begin{enumerate*}\n",
       "\\item 'March'\n",
       "\\item 'April'\n",
       "\\item 'January'\n",
       "\\item 'November'\n",
       "\\item 'January'\n",
       "\\item 'September'\n",
       "\\item 'October'\n",
       "\\item 'September'\n",
       "\\item 'November'\n",
       "\\item 'August'\n",
       "\\item 'January'\n",
       "\\item 'November'\n",
       "\\item 'November'\n",
       "\\item 'February'\n",
       "\\item 'May'\n",
       "\\item 'August'\n",
       "\\item 'July'\n",
       "\\item 'December'\n",
       "\\item 'August'\n",
       "\\item 'August'\n",
       "\\item 'September'\n",
       "\\item 'November'\n",
       "\\item 'February'\n",
       "\\item 'April'\n",
       "\\end{enumerate*}\n"
      ],
      "text/markdown": [
       "1. 'March'\n",
       "2. 'April'\n",
       "3. 'January'\n",
       "4. 'November'\n",
       "5. 'January'\n",
       "6. 'September'\n",
       "7. 'October'\n",
       "8. 'September'\n",
       "9. 'November'\n",
       "10. 'August'\n",
       "11. 'January'\n",
       "12. 'November'\n",
       "13. 'November'\n",
       "14. 'February'\n",
       "15. 'May'\n",
       "16. 'August'\n",
       "17. 'July'\n",
       "18. 'December'\n",
       "19. 'August'\n",
       "20. 'August'\n",
       "21. 'September'\n",
       "22. 'November'\n",
       "23. 'February'\n",
       "24. 'April'\n",
       "\n",
       "\n"
      ],
      "text/plain": [
       " [1] \"March\"     \"April\"     \"January\"   \"November\"  \"January\"   \"September\"\n",
       " [7] \"October\"   \"September\" \"November\"  \"August\"    \"January\"   \"November\" \n",
       "[13] \"November\"  \"February\"  \"May\"       \"August\"    \"July\"      \"December\" \n",
       "[19] \"August\"    \"August\"    \"September\" \"November\"  \"February\"  \"April\"    "
      ]
     },
     "metadata": {},
     "output_type": "display_data"
    }
   ],
   "source": [
    "mons"
   ]
  },
  {
   "cell_type": "code",
   "execution_count": 10,
   "metadata": {},
   "outputs": [],
   "source": [
    "mons = factor(mons) # vector converted into factor"
   ]
  },
  {
   "cell_type": "code",
   "execution_count": 11,
   "metadata": {},
   "outputs": [
    {
     "data": {
      "text/plain": [
       "mons\n",
       "    April    August  December  February   January      July     March       May \n",
       "        2         4         1         2         3         1         1         1 \n",
       " November   October September \n",
       "        5         1         3 "
      ]
     },
     "metadata": {},
     "output_type": "display_data"
    }
   ],
   "source": [
    "table(mons)"
   ]
  },
  {
   "cell_type": "code",
   "execution_count": 12,
   "metadata": {},
   "outputs": [
    {
     "data": {
      "text/html": [
       "<ol class=list-inline>\n",
       "\t<li>March</li>\n",
       "\t<li>April</li>\n",
       "\t<li>January</li>\n",
       "\t<li>November</li>\n",
       "\t<li>January</li>\n",
       "\t<li>September</li>\n",
       "\t<li>October</li>\n",
       "\t<li>September</li>\n",
       "\t<li>November</li>\n",
       "\t<li>August</li>\n",
       "\t<li>January</li>\n",
       "\t<li>November</li>\n",
       "\t<li>November</li>\n",
       "\t<li>February</li>\n",
       "\t<li>May</li>\n",
       "\t<li>August</li>\n",
       "\t<li>July</li>\n",
       "\t<li>December</li>\n",
       "\t<li>August</li>\n",
       "\t<li>August</li>\n",
       "\t<li>September</li>\n",
       "\t<li>November</li>\n",
       "\t<li>February</li>\n",
       "\t<li>April</li>\n",
       "</ol>\n",
       "\n",
       "<details>\n",
       "\t<summary style=display:list-item;cursor:pointer>\n",
       "\t\t<strong>Levels</strong>:\n",
       "\t</summary>\n",
       "\t<ol class=list-inline>\n",
       "\t\t<li>'April'</li>\n",
       "\t\t<li>'August'</li>\n",
       "\t\t<li>'December'</li>\n",
       "\t\t<li>'February'</li>\n",
       "\t\t<li>'January'</li>\n",
       "\t\t<li>'July'</li>\n",
       "\t\t<li>'March'</li>\n",
       "\t\t<li>'May'</li>\n",
       "\t\t<li>'November'</li>\n",
       "\t\t<li>'October'</li>\n",
       "\t\t<li>'September'</li>\n",
       "\t</ol>\n",
       "</details>"
      ],
      "text/latex": [
       "\\begin{enumerate*}\n",
       "\\item March\n",
       "\\item April\n",
       "\\item January\n",
       "\\item November\n",
       "\\item January\n",
       "\\item September\n",
       "\\item October\n",
       "\\item September\n",
       "\\item November\n",
       "\\item August\n",
       "\\item January\n",
       "\\item November\n",
       "\\item November\n",
       "\\item February\n",
       "\\item May\n",
       "\\item August\n",
       "\\item July\n",
       "\\item December\n",
       "\\item August\n",
       "\\item August\n",
       "\\item September\n",
       "\\item November\n",
       "\\item February\n",
       "\\item April\n",
       "\\end{enumerate*}\n",
       "\n",
       "\\emph{Levels}: \\begin{enumerate*}\n",
       "\\item 'April'\n",
       "\\item 'August'\n",
       "\\item 'December'\n",
       "\\item 'February'\n",
       "\\item 'January'\n",
       "\\item 'July'\n",
       "\\item 'March'\n",
       "\\item 'May'\n",
       "\\item 'November'\n",
       "\\item 'October'\n",
       "\\item 'September'\n",
       "\\end{enumerate*}\n"
      ],
      "text/markdown": [
       "1. March\n",
       "2. April\n",
       "3. January\n",
       "4. November\n",
       "5. January\n",
       "6. September\n",
       "7. October\n",
       "8. September\n",
       "9. November\n",
       "10. August\n",
       "11. January\n",
       "12. November\n",
       "13. November\n",
       "14. February\n",
       "15. May\n",
       "16. August\n",
       "17. July\n",
       "18. December\n",
       "19. August\n",
       "20. August\n",
       "21. September\n",
       "22. November\n",
       "23. February\n",
       "24. April\n",
       "\n",
       "\n",
       "\n",
       "**Levels**: 1. 'April'\n",
       "2. 'August'\n",
       "3. 'December'\n",
       "4. 'February'\n",
       "5. 'January'\n",
       "6. 'July'\n",
       "7. 'March'\n",
       "8. 'May'\n",
       "9. 'November'\n",
       "10. 'October'\n",
       "11. 'September'\n",
       "\n",
       "\n"
      ],
      "text/plain": [
       " [1] March     April     January   November  January   September October  \n",
       " [8] September November  August    January   November  November  February \n",
       "[15] May       August    July      December  August    August    September\n",
       "[22] November  February  April    \n",
       "11 Levels: April August December February January July March May ... September"
      ]
     },
     "metadata": {},
     "output_type": "display_data"
    }
   ],
   "source": [
    "mons"
   ]
  },
  {
   "cell_type": "code",
   "execution_count": 13,
   "metadata": {},
   "outputs": [
    {
     "name": "stdout",
     "output_type": "stream",
     "text": [
      " Factor w/ 11 levels \"April\",\"August\",..: 7 1 5 9 5 11 10 11 9 2 ...\n"
     ]
    }
   ],
   "source": [
    "str(mons)"
   ]
  },
  {
   "cell_type": "code",
   "execution_count": 14,
   "metadata": {},
   "outputs": [],
   "source": [
    "fert = c(10,20,20,50,10,20,10,50,20)"
   ]
  },
  {
   "cell_type": "code",
   "execution_count": 15,
   "metadata": {},
   "outputs": [],
   "source": [
    "fert = factor(fert,levels=c(10,20,50),ordered=TRUE)"
   ]
  },
  {
   "cell_type": "code",
   "execution_count": 16,
   "metadata": {},
   "outputs": [
    {
     "data": {
      "text/html": [
       "<ol class=list-inline>\n",
       "\t<li>10</li>\n",
       "\t<li>20</li>\n",
       "\t<li>20</li>\n",
       "\t<li>50</li>\n",
       "\t<li>10</li>\n",
       "\t<li>20</li>\n",
       "\t<li>10</li>\n",
       "\t<li>50</li>\n",
       "\t<li>20</li>\n",
       "</ol>\n",
       "\n",
       "<details>\n",
       "\t<summary style=display:list-item;cursor:pointer>\n",
       "\t\t<strong>Levels</strong>:\n",
       "\t</summary>\n",
       "\t<ol class=list-inline>\n",
       "\t\t<li>'10'</li>\n",
       "\t\t<li>'20'</li>\n",
       "\t\t<li>'50'</li>\n",
       "\t</ol>\n",
       "</details>"
      ],
      "text/latex": [
       "\\begin{enumerate*}\n",
       "\\item 10\n",
       "\\item 20\n",
       "\\item 20\n",
       "\\item 50\n",
       "\\item 10\n",
       "\\item 20\n",
       "\\item 10\n",
       "\\item 50\n",
       "\\item 20\n",
       "\\end{enumerate*}\n",
       "\n",
       "\\emph{Levels}: \\begin{enumerate*}\n",
       "\\item '10'\n",
       "\\item '20'\n",
       "\\item '50'\n",
       "\\end{enumerate*}\n"
      ],
      "text/markdown": [
       "1. 10\n",
       "2. 20\n",
       "3. 20\n",
       "4. 50\n",
       "5. 10\n",
       "6. 20\n",
       "7. 10\n",
       "8. 50\n",
       "9. 20\n",
       "\n",
       "\n",
       "\n",
       "**Levels**: 1. '10'\n",
       "2. '20'\n",
       "3. '50'\n",
       "\n",
       "\n"
      ],
      "text/plain": [
       "[1] 10 20 20 50 10 20 10 50 20\n",
       "Levels: 10 < 20 < 50"
      ]
     },
     "metadata": {},
     "output_type": "display_data"
    }
   ],
   "source": [
    "fert"
   ]
  },
  {
   "cell_type": "code",
   "execution_count": 17,
   "metadata": {},
   "outputs": [
    {
     "name": "stderr",
     "output_type": "stream",
     "text": [
      "Warning message in mean.default(fert):\n",
      "\"argument is not numeric or logical: returning NA\""
     ]
    },
    {
     "data": {
      "text/html": [
       "&lt;NA&gt;"
      ],
      "text/latex": [
       "<NA>"
      ],
      "text/markdown": [
       "&lt;NA&gt;"
      ],
      "text/plain": [
       "[1] NA"
      ]
     },
     "metadata": {},
     "output_type": "display_data"
    }
   ],
   "source": [
    " mean(fert)"
   ]
  },
  {
   "cell_type": "code",
   "execution_count": 18,
   "metadata": {},
   "outputs": [
    {
     "data": {
      "text/html": [
       "23.3333333333333"
      ],
      "text/latex": [
       "23.3333333333333"
      ],
      "text/markdown": [
       "23.3333333333333"
      ],
      "text/plain": [
       "[1] 23.33333"
      ]
     },
     "metadata": {},
     "output_type": "display_data"
    }
   ],
   "source": [
    "mean(as.numeric(levels(fert)[fert]))"
   ]
  },
  {
   "cell_type": "code",
   "execution_count": null,
   "metadata": {},
   "outputs": [],
   "source": []
  }
 ],
 "metadata": {
  "kernelspec": {
   "display_name": "R",
   "language": "R",
   "name": "ir"
  },
  "language_info": {
   "codemirror_mode": "r",
   "file_extension": ".r",
   "mimetype": "text/x-r-source",
   "name": "R",
   "pygments_lexer": "r",
   "version": "3.6.1"
  }
 },
 "nbformat": 4,
 "nbformat_minor": 2
}
